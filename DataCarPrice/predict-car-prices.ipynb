{
 "cells": [
  {
   "cell_type": "markdown",
   "id": "cc2105e9",
   "metadata": {
    "papermill": {
     "duration": 0.008057,
     "end_time": "2023-12-11T01:08:49.016481",
     "exception": false,
     "start_time": "2023-12-11T01:08:49.008424",
     "status": "completed"
    },
    "tags": []
   },
   "source": [
    "# Title:\n",
    "\"Predictiong Car Prices: A Machine Learning Approach"
   ]
  },
  {
   "cell_type": "markdown",
   "id": "6230c058",
   "metadata": {
    "papermill": {
     "duration": 0.007077,
     "end_time": "2023-12-11T01:08:49.031026",
     "exception": false,
     "start_time": "2023-12-11T01:08:49.023949",
     "status": "completed"
    },
    "tags": []
   },
   "source": [
    "# Introduction\n",
    "Predicting car prices is a common problem in machine learning and data science. The goal is to develop a model that can accurately estimate the price of a car based on various features such as make, model, year, mileage, fuel efficiency, and other relevant attributes. This task typically involves analyzing a dataset containing historical information about different cars, including their prices and associated features. Machine learning algorithms, such as regression models, are commonly employed to learn the patterns and relationships within the data, enabling the prediction of car prices for new or unseen instances. The accuracy of the model is crucial for informed decision-making in the automotive industry, including pricing strategies, market analysis, and customer behavior prediction."
   ]
  },
  {
   "cell_type": "markdown",
   "id": "45614bb3",
   "metadata": {
    "papermill": {
     "duration": 0.007047,
     "end_time": "2023-12-11T01:08:49.045494",
     "exception": false,
     "start_time": "2023-12-11T01:08:49.038447",
     "status": "completed"
    },
    "tags": []
   },
   "source": [
    "# Dataset Description:\n",
    "The data has been collected from the auto.am website and includes information about cars. Each car is described by 8 attributes:\n",
    "1. Year of manufacture \n",
    "2. Type of engine \n",
    "3. Mileage \n",
    "4. Fuel type \n",
    "5. Color \n",
    "6. Body type \n",
    "7. Condition \n",
    "8. Engine volume \n",
    "### The dataset includes cars of five types:\n",
    "1. Toyota Camry\n",
    "2. Mercedes-Benz C class\n",
    "3. Hyundai Elantra\n",
    "4. Nissan Rogue\n",
    "5. Kia Fort\n",
    "### Files:\n",
    "- train.csv: Training data for model learning.\n",
    "- test.csv: Data for which prices need to be predicted.\n",
    "- sample_submission.csv: A sample file for the submission of predictions.\n",
    "\n",
    "\n",
    "#####   NOTE: The Data is in the Armenian language"
   ]
  },
  {
   "cell_type": "markdown",
   "id": "379a0ce6",
   "metadata": {
    "papermill": {
     "duration": 0.007025,
     "end_time": "2023-12-11T01:08:49.059819",
     "exception": false,
     "start_time": "2023-12-11T01:08:49.052794",
     "status": "completed"
    },
    "tags": []
   },
   "source": [
    "# import necessary Libraries"
   ]
  },
  {
   "cell_type": "code",
   "execution_count": 1,
   "id": "68d6b368",
   "metadata": {
    "execution": {
     "iopub.execute_input": "2023-12-11T01:08:49.076356Z",
     "iopub.status.busy": "2023-12-11T01:08:49.075865Z",
     "iopub.status.idle": "2023-12-11T01:08:50.810739Z",
     "shell.execute_reply": "2023-12-11T01:08:50.809832Z"
    },
    "papermill": {
     "duration": 1.745935,
     "end_time": "2023-12-11T01:08:50.813110",
     "exception": false,
     "start_time": "2023-12-11T01:08:49.067175",
     "status": "completed"
    },
    "tags": []
   },
   "outputs": [],
   "source": [
    "import numpy as np\n",
    "import pandas as pd\n",
    "import matplotlib.pyplot as plt\n",
    "import seaborn as sns\n",
    "\n",
    "from sklearn.linear_model import LinearRegression\n",
    "from sklearn.model_selection import train_test_split\n",
    "from sklearn.metrics import r2_score , mean_absolute_error ,mean_squared_error\n",
    "from sklearn.preprocessing import MinMaxScaler\n",
    "from sklearn.preprocessing import LabelEncoder\n",
    "\n",
    "import warnings\n",
    "warnings.filterwarnings(\"ignore\")\n",
    "\n",
    "\n",
    "# Casses use in code and Fanctions\n",
    "class ReplaceLanguage:\n",
    "\n",
    "    def __init__(self, df, col, dec):\n",
    "        self.df = df\n",
    "        self.col = col\n",
    "        self.dec = dec\n",
    "\n",
    "    def replace_language(self):\n",
    "        self.df[self.col] = self.df[self.col].replace(self.dec)\n",
    "        return self.df[self.col]\n",
    "    \n",
    "# =======================><===========================================\n",
    "def FeaturesEng(df):\n",
    "    # Extract numeric part and unit into separate columns\n",
    "    df[[\"numeric_distance\", \"unit\"]] = df[\"running\"].str.extract(r'(\\d+)\\s*(\\w+)')\n",
    "\n",
    "    # Convert numeric_distance to float\n",
    "    df['numeric_distance'] = pd.to_numeric(df['numeric_distance'], errors='coerce')\n",
    "\n",
    "    # Create a new column 'type' based on the unit\n",
    "    df['type'] = df['unit'].apply(lambda x: 'Km' if x == 'Km' else 'Miles')\n",
    "\n",
    "    # Convert the distance to kilometers based on the unit\n",
    "    df['running'] = df.apply(lambda row: row['numeric_distance'] * 1.60934 if row['type'] == 'Miles' else row['numeric_distance'], axis=1)\n",
    "\n",
    "    # Drop unnecessary columns\n",
    "    df = df.drop(['numeric_distance', 'unit'], axis=1)\n",
    "\n",
    "    # Convert 'type' column in TrainData\n",
    "\n",
    "\n",
    "    df['type'] = df['type'].apply(lambda x: 1000 if 'Km' in x else (1.60934 if 'Miles' in x else x))\n",
    "    # Display the updated DataFrame\n",
    "    return df\n",
    "\n",
    "\n",
    "# ====================================>LabelEncoder<==================================================================\n",
    "\n",
    "\n",
    "def label_encoder(df, column_to_encode):\n",
    "    le = LabelEncoder()\n",
    "    df[column_to_encode + '_encoded'] = le.fit_transform(df[column_to_encode])\n",
    "    df = df.drop(columns=[column_to_encode])\n",
    "    return df"
   ]
  },
  {
   "cell_type": "markdown",
   "id": "bc8784bc",
   "metadata": {
    "papermill": {
     "duration": 0.007133,
     "end_time": "2023-12-11T01:08:50.827995",
     "exception": false,
     "start_time": "2023-12-11T01:08:50.820862",
     "status": "completed"
    },
    "tags": []
   },
   "source": [
    "# Data Exploration and Preprocessing:\n"
   ]
  },
  {
   "cell_type": "code",
   "execution_count": 2,
   "id": "839e9842",
   "metadata": {
    "execution": {
     "iopub.execute_input": "2023-12-11T01:08:50.844061Z",
     "iopub.status.busy": "2023-12-11T01:08:50.843641Z",
     "iopub.status.idle": "2023-12-11T01:08:50.906788Z",
     "shell.execute_reply": "2023-12-11T01:08:50.905741Z"
    },
    "papermill": {
     "duration": 0.073506,
     "end_time": "2023-12-11T01:08:50.908817",
     "exception": false,
     "start_time": "2023-12-11T01:08:50.835311",
     "status": "completed"
    },
    "tags": []
   },
   "outputs": [
    {
     "name": "stdout",
     "output_type": "stream",
     "text": [
      "Samples\n"
     ]
    },
    {
     "data": {
      "text/html": [
       "<div>\n",
       "<style scoped>\n",
       "    .dataframe tbody tr th:only-of-type {\n",
       "        vertical-align: middle;\n",
       "    }\n",
       "\n",
       "    .dataframe tbody tr th {\n",
       "        vertical-align: top;\n",
       "    }\n",
       "\n",
       "    .dataframe thead th {\n",
       "        text-align: right;\n",
       "    }\n",
       "</style>\n",
       "<table border=\"1\" class=\"dataframe\">\n",
       "  <thead>\n",
       "    <tr style=\"text-align: right;\">\n",
       "      <th></th>\n",
       "      <th>year</th>\n",
       "      <th>motor</th>\n",
       "      <th>running</th>\n",
       "      <th>wheel</th>\n",
       "      <th>color</th>\n",
       "      <th>car_type</th>\n",
       "      <th>status</th>\n",
       "      <th>motor_volume</th>\n",
       "      <th>price</th>\n",
       "    </tr>\n",
       "  </thead>\n",
       "  <tbody>\n",
       "    <tr>\n",
       "      <th>0</th>\n",
       "      <td>2022</td>\n",
       "      <td>Բենզին</td>\n",
       "      <td>3000  կմ</td>\n",
       "      <td>Ձախ</td>\n",
       "      <td>Երկնագույն</td>\n",
       "      <td>Սեդան</td>\n",
       "      <td>Գերազանց</td>\n",
       "      <td>2.0</td>\n",
       "      <td>24500</td>\n",
       "    </tr>\n",
       "    <tr>\n",
       "      <th>1</th>\n",
       "      <td>2014</td>\n",
       "      <td>Բենզին</td>\n",
       "      <td>132000  կմ</td>\n",
       "      <td>Ձախ</td>\n",
       "      <td>Սև</td>\n",
       "      <td>Սեդան</td>\n",
       "      <td>Գերազանց</td>\n",
       "      <td>2.0</td>\n",
       "      <td>25500</td>\n",
       "    </tr>\n",
       "    <tr>\n",
       "      <th>2</th>\n",
       "      <td>2018</td>\n",
       "      <td>Բենզին</td>\n",
       "      <td>95000  մղոն</td>\n",
       "      <td>Ձախ</td>\n",
       "      <td>Այլ գույն</td>\n",
       "      <td>Սեդան</td>\n",
       "      <td>Գերազանց</td>\n",
       "      <td>2.0</td>\n",
       "      <td>11700</td>\n",
       "    </tr>\n",
       "    <tr>\n",
       "      <th>3</th>\n",
       "      <td>2002</td>\n",
       "      <td>Բենզին</td>\n",
       "      <td>137000  մղոն</td>\n",
       "      <td>Ձախ</td>\n",
       "      <td>Ոսկեգույն</td>\n",
       "      <td>Սեդան</td>\n",
       "      <td>Գերազանց</td>\n",
       "      <td>3.2</td>\n",
       "      <td>12000</td>\n",
       "    </tr>\n",
       "    <tr>\n",
       "      <th>4</th>\n",
       "      <td>2017</td>\n",
       "      <td>Բենզին</td>\n",
       "      <td>130000  կմ</td>\n",
       "      <td>Ձախ</td>\n",
       "      <td>Սև</td>\n",
       "      <td>Սեդան</td>\n",
       "      <td>Լավ</td>\n",
       "      <td>2.0</td>\n",
       "      <td>26000</td>\n",
       "    </tr>\n",
       "  </tbody>\n",
       "</table>\n",
       "</div>"
      ],
      "text/plain": [
       "   year   motor       running wheel       color car_type    status  \\\n",
       "0  2022  Բենզին      3000  կմ   Ձախ  Երկնագույն    Սեդան  Գերազանց   \n",
       "1  2014  Բենզին    132000  կմ   Ձախ          Սև    Սեդան  Գերազանց   \n",
       "2  2018  Բենզին   95000  մղոն   Ձախ   Այլ գույն    Սեդան  Գերազանց   \n",
       "3  2002  Բենզին  137000  մղոն   Ձախ   Ոսկեգույն    Սեդան  Գերազանց   \n",
       "4  2017  Բենզին    130000  կմ   Ձախ          Սև    Սեդան       Լավ   \n",
       "\n",
       "   motor_volume  price  \n",
       "0           2.0  24500  \n",
       "1           2.0  25500  \n",
       "2           2.0  11700  \n",
       "3           3.2  12000  \n",
       "4           2.0  26000  "
      ]
     },
     "execution_count": 2,
     "metadata": {},
     "output_type": "execute_result"
    }
   ],
   "source": [
    "# Read training and test data,sample_submission.csv\n",
    "TrainData = pd.read_csv(\"/kaggle/input/autoam-car-price-prediction/train.csv\")\n",
    "TestData = pd.read_csv(\"/kaggle/input/autoam-car-price-prediction/test.csv\")\n",
    "sample_submission = pd.read_csv(\"/kaggle/input/autoam-car-price-prediction/sample_submission.csv\")\n",
    "\n",
    "# Display basic information about the dataset\n",
    "print(\"Samples\")\n",
    "TrainData.head()"
   ]
  },
  {
   "cell_type": "code",
   "execution_count": 3,
   "id": "07541e8a",
   "metadata": {
    "execution": {
     "iopub.execute_input": "2023-12-11T01:08:50.926656Z",
     "iopub.status.busy": "2023-12-11T01:08:50.926231Z",
     "iopub.status.idle": "2023-12-11T01:08:50.940705Z",
     "shell.execute_reply": "2023-12-11T01:08:50.939702Z"
    },
    "papermill": {
     "duration": 0.026066,
     "end_time": "2023-12-11T01:08:50.942967",
     "exception": false,
     "start_time": "2023-12-11T01:08:50.916901",
     "status": "completed"
    },
    "tags": []
   },
   "outputs": [
    {
     "data": {
      "text/html": [
       "<div>\n",
       "<style scoped>\n",
       "    .dataframe tbody tr th:only-of-type {\n",
       "        vertical-align: middle;\n",
       "    }\n",
       "\n",
       "    .dataframe tbody tr th {\n",
       "        vertical-align: top;\n",
       "    }\n",
       "\n",
       "    .dataframe thead th {\n",
       "        text-align: right;\n",
       "    }\n",
       "</style>\n",
       "<table border=\"1\" class=\"dataframe\">\n",
       "  <thead>\n",
       "    <tr style=\"text-align: right;\">\n",
       "      <th></th>\n",
       "      <th>Id</th>\n",
       "      <th>year</th>\n",
       "      <th>motor</th>\n",
       "      <th>running</th>\n",
       "      <th>wheel</th>\n",
       "      <th>color</th>\n",
       "      <th>car_type</th>\n",
       "      <th>status</th>\n",
       "      <th>motor_volume</th>\n",
       "    </tr>\n",
       "  </thead>\n",
       "  <tbody>\n",
       "    <tr>\n",
       "      <th>0</th>\n",
       "      <td>0</td>\n",
       "      <td>2020</td>\n",
       "      <td>Բենզին</td>\n",
       "      <td>24000  կմ</td>\n",
       "      <td>Ձախ</td>\n",
       "      <td>Սև</td>\n",
       "      <td>Սեդան</td>\n",
       "      <td>Գերազանց</td>\n",
       "      <td>2.0</td>\n",
       "    </tr>\n",
       "    <tr>\n",
       "      <th>1</th>\n",
       "      <td>1</td>\n",
       "      <td>2017</td>\n",
       "      <td>Բենզին</td>\n",
       "      <td>85000  մղոն</td>\n",
       "      <td>Ձախ</td>\n",
       "      <td>Սպիտակ</td>\n",
       "      <td>Ամենագնաց</td>\n",
       "      <td>Գերազանց</td>\n",
       "      <td>2.0</td>\n",
       "    </tr>\n",
       "    <tr>\n",
       "      <th>2</th>\n",
       "      <td>2</td>\n",
       "      <td>2021</td>\n",
       "      <td>Բենզին</td>\n",
       "      <td>30000  մղոն</td>\n",
       "      <td>Ձախ</td>\n",
       "      <td>Սպիտակ</td>\n",
       "      <td>Սեդան</td>\n",
       "      <td>Գերազանց</td>\n",
       "      <td>2.0</td>\n",
       "    </tr>\n",
       "    <tr>\n",
       "      <th>3</th>\n",
       "      <td>3</td>\n",
       "      <td>2018</td>\n",
       "      <td>Բենզին</td>\n",
       "      <td>53000  մղոն</td>\n",
       "      <td>Ձախ</td>\n",
       "      <td>Արծաթագույն</td>\n",
       "      <td>Սեդան</td>\n",
       "      <td>Գերազանց</td>\n",
       "      <td>2.0</td>\n",
       "    </tr>\n",
       "    <tr>\n",
       "      <th>4</th>\n",
       "      <td>4</td>\n",
       "      <td>2003</td>\n",
       "      <td>Բենզին</td>\n",
       "      <td>230000  կմ</td>\n",
       "      <td>Ձախ</td>\n",
       "      <td>Սև</td>\n",
       "      <td>Ունիվերսալ</td>\n",
       "      <td>Նորմալ</td>\n",
       "      <td>1.8</td>\n",
       "    </tr>\n",
       "  </tbody>\n",
       "</table>\n",
       "</div>"
      ],
      "text/plain": [
       "   Id  year   motor      running wheel        color    car_type    status  \\\n",
       "0   0  2020  Բենզին    24000  կմ   Ձախ           Սև       Սեդան  Գերազանց   \n",
       "1   1  2017  Բենզին  85000  մղոն   Ձախ       Սպիտակ   Ամենագնաց  Գերազանց   \n",
       "2   2  2021  Բենզին  30000  մղոն   Ձախ       Սպիտակ       Սեդան  Գերազանց   \n",
       "3   3  2018  Բենզին  53000  մղոն   Ձախ  Արծաթագույն       Սեդան  Գերազանց   \n",
       "4   4  2003  Բենզին   230000  կմ   Ձախ           Սև  Ունիվերսալ    Նորմալ   \n",
       "\n",
       "   motor_volume  \n",
       "0           2.0  \n",
       "1           2.0  \n",
       "2           2.0  \n",
       "3           2.0  \n",
       "4           1.8  "
      ]
     },
     "execution_count": 3,
     "metadata": {},
     "output_type": "execute_result"
    }
   ],
   "source": [
    "TestData.head()"
   ]
  },
  {
   "cell_type": "code",
   "execution_count": 4,
   "id": "8ffad561",
   "metadata": {
    "execution": {
     "iopub.execute_input": "2023-12-11T01:08:50.960961Z",
     "iopub.status.busy": "2023-12-11T01:08:50.960615Z",
     "iopub.status.idle": "2023-12-11T01:08:50.970651Z",
     "shell.execute_reply": "2023-12-11T01:08:50.969898Z"
    },
    "papermill": {
     "duration": 0.020861,
     "end_time": "2023-12-11T01:08:50.972278",
     "exception": false,
     "start_time": "2023-12-11T01:08:50.951417",
     "status": "completed"
    },
    "tags": []
   },
   "outputs": [],
   "source": [
    "TestData = TestData.drop(columns=['Id'])"
   ]
  },
  {
   "cell_type": "code",
   "execution_count": 5,
   "id": "655c4702",
   "metadata": {
    "execution": {
     "iopub.execute_input": "2023-12-11T01:08:50.989643Z",
     "iopub.status.busy": "2023-12-11T01:08:50.989037Z",
     "iopub.status.idle": "2023-12-11T01:08:50.995599Z",
     "shell.execute_reply": "2023-12-11T01:08:50.994236Z"
    },
    "papermill": {
     "duration": 0.017028,
     "end_time": "2023-12-11T01:08:50.997543",
     "exception": false,
     "start_time": "2023-12-11T01:08:50.980515",
     "status": "completed"
    },
    "tags": []
   },
   "outputs": [
    {
     "name": "stdout",
     "output_type": "stream",
     "text": [
      "Dimensions of training data: (1642, 9)\n",
      "Dimensions of Test data: (411, 8)\n"
     ]
    }
   ],
   "source": [
    "print(f\"Dimensions of training data: {TrainData.shape}\")\n",
    "\n",
    "print(f\"Dimensions of Test data: {TestData.shape}\")"
   ]
  },
  {
   "cell_type": "code",
   "execution_count": 6,
   "id": "c66903d7",
   "metadata": {
    "execution": {
     "iopub.execute_input": "2023-12-11T01:08:51.017049Z",
     "iopub.status.busy": "2023-12-11T01:08:51.016702Z",
     "iopub.status.idle": "2023-12-11T01:08:51.039777Z",
     "shell.execute_reply": "2023-12-11T01:08:51.038848Z"
    },
    "papermill": {
     "duration": 0.035088,
     "end_time": "2023-12-11T01:08:51.041706",
     "exception": false,
     "start_time": "2023-12-11T01:08:51.006618",
     "status": "completed"
    },
    "tags": []
   },
   "outputs": [
    {
     "name": "stdout",
     "output_type": "stream",
     "text": [
      "Describe for numerical data\n"
     ]
    },
    {
     "data": {
      "text/html": [
       "<div>\n",
       "<style scoped>\n",
       "    .dataframe tbody tr th:only-of-type {\n",
       "        vertical-align: middle;\n",
       "    }\n",
       "\n",
       "    .dataframe tbody tr th {\n",
       "        vertical-align: top;\n",
       "    }\n",
       "\n",
       "    .dataframe thead th {\n",
       "        text-align: right;\n",
       "    }\n",
       "</style>\n",
       "<table border=\"1\" class=\"dataframe\">\n",
       "  <thead>\n",
       "    <tr style=\"text-align: right;\">\n",
       "      <th></th>\n",
       "      <th>year</th>\n",
       "      <th>motor_volume</th>\n",
       "      <th>price</th>\n",
       "    </tr>\n",
       "  </thead>\n",
       "  <tbody>\n",
       "    <tr>\n",
       "      <th>count</th>\n",
       "      <td>1642.000000</td>\n",
       "      <td>1642.000000</td>\n",
       "      <td>1642.000000</td>\n",
       "    </tr>\n",
       "    <tr>\n",
       "      <th>mean</th>\n",
       "      <td>2014.805725</td>\n",
       "      <td>2.035018</td>\n",
       "      <td>15982.633374</td>\n",
       "    </tr>\n",
       "    <tr>\n",
       "      <th>std</th>\n",
       "      <td>6.587573</td>\n",
       "      <td>0.253069</td>\n",
       "      <td>7176.084647</td>\n",
       "    </tr>\n",
       "    <tr>\n",
       "      <th>min</th>\n",
       "      <td>1987.000000</td>\n",
       "      <td>0.200000</td>\n",
       "      <td>462.000000</td>\n",
       "    </tr>\n",
       "    <tr>\n",
       "      <th>25%</th>\n",
       "      <td>2013.000000</td>\n",
       "      <td>2.000000</td>\n",
       "      <td>12000.000000</td>\n",
       "    </tr>\n",
       "    <tr>\n",
       "      <th>50%</th>\n",
       "      <td>2017.000000</td>\n",
       "      <td>2.000000</td>\n",
       "      <td>15750.000000</td>\n",
       "    </tr>\n",
       "    <tr>\n",
       "      <th>75%</th>\n",
       "      <td>2019.000000</td>\n",
       "      <td>2.000000</td>\n",
       "      <td>18500.000000</td>\n",
       "    </tr>\n",
       "    <tr>\n",
       "      <th>max</th>\n",
       "      <td>2023.000000</td>\n",
       "      <td>4.000000</td>\n",
       "      <td>87000.000000</td>\n",
       "    </tr>\n",
       "  </tbody>\n",
       "</table>\n",
       "</div>"
      ],
      "text/plain": [
       "              year  motor_volume         price\n",
       "count  1642.000000   1642.000000   1642.000000\n",
       "mean   2014.805725      2.035018  15982.633374\n",
       "std       6.587573      0.253069   7176.084647\n",
       "min    1987.000000      0.200000    462.000000\n",
       "25%    2013.000000      2.000000  12000.000000\n",
       "50%    2017.000000      2.000000  15750.000000\n",
       "75%    2019.000000      2.000000  18500.000000\n",
       "max    2023.000000      4.000000  87000.000000"
      ]
     },
     "execution_count": 6,
     "metadata": {},
     "output_type": "execute_result"
    }
   ],
   "source": [
    "print(\"Describe for numerical data\")\n",
    "TrainData.describe()"
   ]
  },
  {
   "cell_type": "code",
   "execution_count": 7,
   "id": "44778fda",
   "metadata": {
    "execution": {
     "iopub.execute_input": "2023-12-11T01:08:51.060302Z",
     "iopub.status.busy": "2023-12-11T01:08:51.059740Z",
     "iopub.status.idle": "2023-12-11T01:08:51.079864Z",
     "shell.execute_reply": "2023-12-11T01:08:51.078671Z"
    },
    "papermill": {
     "duration": 0.032024,
     "end_time": "2023-12-11T01:08:51.082470",
     "exception": false,
     "start_time": "2023-12-11T01:08:51.050446",
     "status": "completed"
    },
    "tags": []
   },
   "outputs": [
    {
     "name": "stdout",
     "output_type": "stream",
     "text": [
      "<class 'pandas.core.frame.DataFrame'>\n",
      "RangeIndex: 1642 entries, 0 to 1641\n",
      "Data columns (total 9 columns):\n",
      " #   Column        Non-Null Count  Dtype  \n",
      "---  ------        --------------  -----  \n",
      " 0   year          1642 non-null   int64  \n",
      " 1   motor         1642 non-null   object \n",
      " 2   running       1642 non-null   object \n",
      " 3   wheel         1642 non-null   object \n",
      " 4   color         1642 non-null   object \n",
      " 5   car_type      1642 non-null   object \n",
      " 6   status        1642 non-null   object \n",
      " 7   motor_volume  1642 non-null   float64\n",
      " 8   price         1642 non-null   int64  \n",
      "dtypes: float64(1), int64(2), object(6)\n",
      "memory usage: 115.6+ KB\n"
     ]
    }
   ],
   "source": [
    "TrainData.info()"
   ]
  },
  {
   "cell_type": "code",
   "execution_count": 8,
   "id": "ce1cb91e",
   "metadata": {
    "execution": {
     "iopub.execute_input": "2023-12-11T01:08:51.101841Z",
     "iopub.status.busy": "2023-12-11T01:08:51.100993Z",
     "iopub.status.idle": "2023-12-11T01:08:51.895667Z",
     "shell.execute_reply": "2023-12-11T01:08:51.894720Z"
    },
    "papermill": {
     "duration": 0.805976,
     "end_time": "2023-12-11T01:08:51.897527",
     "exception": false,
     "start_time": "2023-12-11T01:08:51.091551",
     "status": "completed"
    },
    "tags": []
   },
   "outputs": [
    {
     "data": {
      "image/png": "[encoded data removed]",
      "text/plain": [
       "<Figure size 400x200 with 1 Axes>"
      ]
     },
     "metadata": {},
     "output_type": "display_data"
    },
    {
     "data": {
      "image/png": "[encoded data removed]",
      "text/plain": [
       "<Figure size 400x200 with 1 Axes>"
      ]
     },
     "metadata": {},
     "output_type": "display_data"
    },
    {
     "data": {
      "image/png": "[encoded data removed]",
      "text/plain": [
       "<Figure size 400x200 with 1 Axes>"
      ]
     },
     "metadata": {},
     "output_type": "display_data"
    }
   ],
   "source": [
    "# Select numerical columns only\n",
    "numerical_columns = TrainData.select_dtypes(include=['float64', 'int64'])\n",
    "\n",
    "# Plot the distribution of each numerical column\n",
    "for column in numerical_columns.columns:\n",
    "    plt.figure(figsize=(4, 2))\n",
    "    sns.distplot(TrainData[column].dropna(), kde=True, bins=30, color='red')\n",
    "    plt.title(f'Distribution of {column}')\n",
    "    plt.show()\n"
   ]
  },
  {
   "cell_type": "markdown",
   "id": "c429a8dc",
   "metadata": {
    "papermill": {
     "duration": 0.008967,
     "end_time": "2023-12-11T01:08:51.915953",
     "exception": false,
     "start_time": "2023-12-11T01:08:51.906986",
     "status": "completed"
    },
    "tags": []
   },
   "source": [
    "* Here we have created a set of dictionaries containing names in both Armenian and English to convert them to English."
   ]
  },
  {
   "cell_type": "code",
   "execution_count": 9,
   "id": "c4e7be11",
   "metadata": {
    "execution": {
     "iopub.execute_input": "2023-12-11T01:08:51.937149Z",
     "iopub.status.busy": "2023-12-11T01:08:51.936118Z",
     "iopub.status.idle": "2023-12-11T01:08:51.943374Z",
     "shell.execute_reply": "2023-12-11T01:08:51.942342Z"
    },
    "papermill": {
     "duration": 0.02,
     "end_time": "2023-12-11T01:08:51.945513",
     "exception": false,
     "start_time": "2023-12-11T01:08:51.925513",
     "status": "completed"
    },
    "tags": []
   },
   "outputs": [],
   "source": [
    "Motor = {'Բենզին':'Gasoline', 'Գազ': 'Gas', 'Բենզին և գազ':'Gasoline and Gas', 'Դիզել': 'Diesel', 'Հիբրիդ':\"Hybrid\"}\n",
    "Color = {\"Երկնագույն\": \"Sky Blue\",\"Սև\": \"Black\",\"Այլ գույն\": \"Other Color\",\"Ոսկեգույն\": \"Golden\",\"Կապույտ\": \"Blue\",\"Մոխրագույն\": \"Grey\",\"Արծաթագույն\": \"Silver\",\"Սպիտակ\": \"White\",\"Սմբկագույն\": \"Clove\",\"Նարնջագույն\": \"Orange\",\"Կարմիր\": \"Red\",\"Կանաչ\": \"Green\",\"Բալագույն\": \"Beige\",\"Շագանակագույն\": \"Brown\",\"Բեժ\": \"Beige\",\"Մանուշակագույն\": \"Purple\",\"Վարդագույն\": \"Pink\"}\n",
    "car_type_mapping = {'Սեդան': 'Sedan', 'Ամենագնաց': 'SUV', 'Ունիվերսալ': 'Universal', 'Կուպե': 'Coupe', 'Պիկապ': 'Pickup', 'Հետչբեք': 'Hatchback', 'Մինիվեն / Միկրոավտոբուս': 'Minivan / Microbus'}\n",
    "status_mapping = {\"Գերազանց\": \"Excellent\",\"Լավ\": \"Good\",\"Վթարված\": \"Crashed\",\"Նորմալ\": \"Normal\",\"Նոր\": \"New\"}"
   ]
  },
  {
   "cell_type": "code",
   "execution_count": 10,
   "id": "02461bc9",
   "metadata": {
    "execution": {
     "iopub.execute_input": "2023-12-11T01:08:51.966276Z",
     "iopub.status.busy": "2023-12-11T01:08:51.965688Z",
     "iopub.status.idle": "2023-12-11T01:08:51.975694Z",
     "shell.execute_reply": "2023-12-11T01:08:51.974810Z"
    },
    "papermill": {
     "duration": 0.022604,
     "end_time": "2023-12-11T01:08:51.977734",
     "exception": false,
     "start_time": "2023-12-11T01:08:51.955130",
     "status": "completed"
    },
    "tags": []
   },
   "outputs": [],
   "source": [
    "# Replacement of nouns from Armenian to English (For small counter)\n",
    "# Train Data\n",
    "TrainData['running'] = TrainData['running'].apply(lambda x: x.replace(\"կմ\", \"Km\").replace(\"մղոն\", \"Miles\"))\n",
    "TrainData['wheel'] = TrainData['wheel'].apply(lambda x: x.replace(\"Ձախ\", \"Left\"))\n",
    "\n",
    "# Test Data\n",
    "TestData['running'] = TestData['running'].apply(lambda x: x.replace(\"կմ\", \"Km\").replace(\"մղոն\", \"Miles\"))\n",
    "TestData['wheel'] = TestData['wheel'].apply(lambda x: x.replace(\"Ձախ\", \"Left\"))\n"
   ]
  },
  {
   "cell_type": "code",
   "execution_count": 11,
   "id": "4a3caedd",
   "metadata": {
    "execution": {
     "iopub.execute_input": "2023-12-11T01:08:51.998651Z",
     "iopub.status.busy": "2023-12-11T01:08:51.998126Z",
     "iopub.status.idle": "2023-12-11T01:08:52.022484Z",
     "shell.execute_reply": "2023-12-11T01:08:52.021505Z"
    },
    "papermill": {
     "duration": 0.036798,
     "end_time": "2023-12-11T01:08:52.024314",
     "exception": false,
     "start_time": "2023-12-11T01:08:51.987516",
     "status": "completed"
    },
    "tags": []
   },
   "outputs": [
    {
     "data": {
      "text/html": [
       "<div>\n",
       "<style scoped>\n",
       "    .dataframe tbody tr th:only-of-type {\n",
       "        vertical-align: middle;\n",
       "    }\n",
       "\n",
       "    .dataframe tbody tr th {\n",
       "        vertical-align: top;\n",
       "    }\n",
       "\n",
       "    .dataframe thead th {\n",
       "        text-align: right;\n",
       "    }\n",
       "</style>\n",
       "<table border=\"1\" class=\"dataframe\">\n",
       "  <thead>\n",
       "    <tr style=\"text-align: right;\">\n",
       "      <th></th>\n",
       "      <th>year</th>\n",
       "      <th>motor</th>\n",
       "      <th>running</th>\n",
       "      <th>wheel</th>\n",
       "      <th>color</th>\n",
       "      <th>car_type</th>\n",
       "      <th>status</th>\n",
       "      <th>motor_volume</th>\n",
       "      <th>price</th>\n",
       "    </tr>\n",
       "  </thead>\n",
       "  <tbody>\n",
       "    <tr>\n",
       "      <th>0</th>\n",
       "      <td>2022</td>\n",
       "      <td>Gasoline</td>\n",
       "      <td>3000  Km</td>\n",
       "      <td>Left</td>\n",
       "      <td>Sky Blue</td>\n",
       "      <td>Sedan</td>\n",
       "      <td>Excellent</td>\n",
       "      <td>2.0</td>\n",
       "      <td>24500</td>\n",
       "    </tr>\n",
       "    <tr>\n",
       "      <th>1</th>\n",
       "      <td>2014</td>\n",
       "      <td>Gasoline</td>\n",
       "      <td>132000  Km</td>\n",
       "      <td>Left</td>\n",
       "      <td>Black</td>\n",
       "      <td>Sedan</td>\n",
       "      <td>Excellent</td>\n",
       "      <td>2.0</td>\n",
       "      <td>25500</td>\n",
       "    </tr>\n",
       "    <tr>\n",
       "      <th>2</th>\n",
       "      <td>2018</td>\n",
       "      <td>Gasoline</td>\n",
       "      <td>95000  Miles</td>\n",
       "      <td>Left</td>\n",
       "      <td>Other Color</td>\n",
       "      <td>Sedan</td>\n",
       "      <td>Excellent</td>\n",
       "      <td>2.0</td>\n",
       "      <td>11700</td>\n",
       "    </tr>\n",
       "    <tr>\n",
       "      <th>3</th>\n",
       "      <td>2002</td>\n",
       "      <td>Gasoline</td>\n",
       "      <td>137000  Miles</td>\n",
       "      <td>Left</td>\n",
       "      <td>Golden</td>\n",
       "      <td>Sedan</td>\n",
       "      <td>Excellent</td>\n",
       "      <td>3.2</td>\n",
       "      <td>12000</td>\n",
       "    </tr>\n",
       "    <tr>\n",
       "      <th>4</th>\n",
       "      <td>2017</td>\n",
       "      <td>Gasoline</td>\n",
       "      <td>130000  Km</td>\n",
       "      <td>Left</td>\n",
       "      <td>Black</td>\n",
       "      <td>Sedan</td>\n",
       "      <td>Good</td>\n",
       "      <td>2.0</td>\n",
       "      <td>26000</td>\n",
       "    </tr>\n",
       "  </tbody>\n",
       "</table>\n",
       "</div>"
      ],
      "text/plain": [
       "   year     motor        running wheel        color car_type     status  \\\n",
       "0  2022  Gasoline       3000  Km  Left     Sky Blue    Sedan  Excellent   \n",
       "1  2014  Gasoline     132000  Km  Left        Black    Sedan  Excellent   \n",
       "2  2018  Gasoline   95000  Miles  Left  Other Color    Sedan  Excellent   \n",
       "3  2002  Gasoline  137000  Miles  Left       Golden    Sedan  Excellent   \n",
       "4  2017  Gasoline     130000  Km  Left        Black    Sedan       Good   \n",
       "\n",
       "   motor_volume  price  \n",
       "0           2.0  24500  \n",
       "1           2.0  25500  \n",
       "2           2.0  11700  \n",
       "3           3.2  12000  \n",
       "4           2.0  26000  "
      ]
     },
     "execution_count": 11,
     "metadata": {},
     "output_type": "execute_result"
    }
   ],
   "source": [
    "# Replacement of nouns from Armenian to English (For Large counter)\n",
    "# Iterate over datasets\n",
    "for dataset in (TrainData, TestData):\n",
    "    # Iterate over columns\n",
    "    for column in (\"motor\", \"color\", \"car_type\", \"status\"):\n",
    "        # Select the corresponding dictionary for the column\n",
    "        replacement_dict = {\n",
    "            \"motor\": Motor,\n",
    "            \"color\": Color,\n",
    "            \"car_type\": car_type_mapping,\n",
    "            \"status\": status_mapping\n",
    "        }[column]\n",
    "\n",
    "        # Create an instance of ReplaceLanguage\n",
    "        replacer = ReplaceLanguage(dataset, column, replacement_dict)\n",
    "\n",
    "        # Call the replace_language method\n",
    "        dataset[column] = replacer.replace_language()\n",
    "\n",
    "# Print or use the modified datasets (TarinData)\n",
    "TrainData.head()"
   ]
  },
  {
   "cell_type": "code",
   "execution_count": 12,
   "id": "1ee6bcc7",
   "metadata": {
    "execution": {
     "iopub.execute_input": "2023-12-11T01:08:52.045093Z",
     "iopub.status.busy": "2023-12-11T01:08:52.044557Z",
     "iopub.status.idle": "2023-12-11T01:08:52.056577Z",
     "shell.execute_reply": "2023-12-11T01:08:52.055651Z"
    },
    "papermill": {
     "duration": 0.024379,
     "end_time": "2023-12-11T01:08:52.058356",
     "exception": false,
     "start_time": "2023-12-11T01:08:52.033977",
     "status": "completed"
    },
    "tags": []
   },
   "outputs": [
    {
     "data": {
      "text/html": [
       "<div>\n",
       "<style scoped>\n",
       "    .dataframe tbody tr th:only-of-type {\n",
       "        vertical-align: middle;\n",
       "    }\n",
       "\n",
       "    .dataframe tbody tr th {\n",
       "        vertical-align: top;\n",
       "    }\n",
       "\n",
       "    .dataframe thead th {\n",
       "        text-align: right;\n",
       "    }\n",
       "</style>\n",
       "<table border=\"1\" class=\"dataframe\">\n",
       "  <thead>\n",
       "    <tr style=\"text-align: right;\">\n",
       "      <th></th>\n",
       "      <th>year</th>\n",
       "      <th>motor</th>\n",
       "      <th>running</th>\n",
       "      <th>wheel</th>\n",
       "      <th>color</th>\n",
       "      <th>car_type</th>\n",
       "      <th>status</th>\n",
       "      <th>motor_volume</th>\n",
       "      <th>price</th>\n",
       "    </tr>\n",
       "  </thead>\n",
       "  <tbody>\n",
       "    <tr>\n",
       "      <th>0</th>\n",
       "      <td>2022</td>\n",
       "      <td>Gasoline</td>\n",
       "      <td>3000  Km</td>\n",
       "      <td>Left</td>\n",
       "      <td>Sky Blue</td>\n",
       "      <td>Sedan</td>\n",
       "      <td>Excellent</td>\n",
       "      <td>2.0</td>\n",
       "      <td>24500</td>\n",
       "    </tr>\n",
       "    <tr>\n",
       "      <th>1</th>\n",
       "      <td>2014</td>\n",
       "      <td>Gasoline</td>\n",
       "      <td>132000  Km</td>\n",
       "      <td>Left</td>\n",
       "      <td>Black</td>\n",
       "      <td>Sedan</td>\n",
       "      <td>Excellent</td>\n",
       "      <td>2.0</td>\n",
       "      <td>25500</td>\n",
       "    </tr>\n",
       "    <tr>\n",
       "      <th>2</th>\n",
       "      <td>2018</td>\n",
       "      <td>Gasoline</td>\n",
       "      <td>95000  Miles</td>\n",
       "      <td>Left</td>\n",
       "      <td>Other Color</td>\n",
       "      <td>Sedan</td>\n",
       "      <td>Excellent</td>\n",
       "      <td>2.0</td>\n",
       "      <td>11700</td>\n",
       "    </tr>\n",
       "    <tr>\n",
       "      <th>3</th>\n",
       "      <td>2002</td>\n",
       "      <td>Gasoline</td>\n",
       "      <td>137000  Miles</td>\n",
       "      <td>Left</td>\n",
       "      <td>Golden</td>\n",
       "      <td>Sedan</td>\n",
       "      <td>Excellent</td>\n",
       "      <td>3.2</td>\n",
       "      <td>12000</td>\n",
       "    </tr>\n",
       "    <tr>\n",
       "      <th>4</th>\n",
       "      <td>2017</td>\n",
       "      <td>Gasoline</td>\n",
       "      <td>130000  Km</td>\n",
       "      <td>Left</td>\n",
       "      <td>Black</td>\n",
       "      <td>Sedan</td>\n",
       "      <td>Good</td>\n",
       "      <td>2.0</td>\n",
       "      <td>26000</td>\n",
       "    </tr>\n",
       "  </tbody>\n",
       "</table>\n",
       "</div>"
      ],
      "text/plain": [
       "   year     motor        running wheel        color car_type     status  \\\n",
       "0  2022  Gasoline       3000  Km  Left     Sky Blue    Sedan  Excellent   \n",
       "1  2014  Gasoline     132000  Km  Left        Black    Sedan  Excellent   \n",
       "2  2018  Gasoline   95000  Miles  Left  Other Color    Sedan  Excellent   \n",
       "3  2002  Gasoline  137000  Miles  Left       Golden    Sedan  Excellent   \n",
       "4  2017  Gasoline     130000  Km  Left        Black    Sedan       Good   \n",
       "\n",
       "   motor_volume  price  \n",
       "0           2.0  24500  \n",
       "1           2.0  25500  \n",
       "2           2.0  11700  \n",
       "3           3.2  12000  \n",
       "4           2.0  26000  "
      ]
     },
     "execution_count": 12,
     "metadata": {},
     "output_type": "execute_result"
    }
   ],
   "source": [
    "TrainData.head()"
   ]
  },
  {
   "cell_type": "markdown",
   "id": "12d607dd",
   "metadata": {
    "papermill": {
     "duration": 0.00894,
     "end_time": "2023-12-11T01:08:52.077048",
     "exception": false,
     "start_time": "2023-12-11T01:08:52.068108",
     "status": "completed"
    },
    "tags": []
   },
   "source": [
    "# Visualizing statistical relationships"
   ]
  },
  {
   "cell_type": "code",
   "execution_count": 13,
   "id": "7d88f11c",
   "metadata": {
    "execution": {
     "iopub.execute_input": "2023-12-11T01:08:52.096982Z",
     "iopub.status.busy": "2023-12-11T01:08:52.096485Z",
     "iopub.status.idle": "2023-12-11T01:08:52.375550Z",
     "shell.execute_reply": "2023-12-11T01:08:52.374539Z"
    },
    "papermill": {
     "duration": 0.291182,
     "end_time": "2023-12-11T01:08:52.377291",
     "exception": false,
     "start_time": "2023-12-11T01:08:52.086109",
     "status": "completed"
    },
    "tags": []
   },
   "outputs": [
    {
     "data": {
      "text/plain": [
       "<seaborn.axisgrid.FacetGrid at 0x7d2d96e4af50>"
      ]
     },
     "execution_count": 13,
     "metadata": {},
     "output_type": "execute_result"
    },
    {
     "data": {
      "image/png": "[encoded data removed]",
      "text/plain": [
       "<Figure size 500x500 with 1 Axes>"
      ]
     },
     "metadata": {},
     "output_type": "display_data"
    }
   ],
   "source": [
    "sns.relplot(data=TrainData, x=\"year\", y=\"price\")"
   ]
  },
  {
   "cell_type": "code",
   "execution_count": 14,
   "id": "0d2c8221",
   "metadata": {
    "execution": {
     "iopub.execute_input": "2023-12-11T01:08:52.400411Z",
     "iopub.status.busy": "2023-12-11T01:08:52.400063Z",
     "iopub.status.idle": "2023-12-11T01:08:53.357745Z",
     "shell.execute_reply": "2023-12-11T01:08:53.356890Z"
    },
    "papermill": {
     "duration": 0.972091,
     "end_time": "2023-12-11T01:08:53.359531",
     "exception": false,
     "start_time": "2023-12-11T01:08:52.387440",
     "status": "completed"
    },
    "tags": []
   },
   "outputs": [
    {
     "data": {
      "image/png": "[encoded data removed]",
      "text/plain": [
       "<Figure size 500x500 with 6 Axes>"
      ]
     },
     "metadata": {},
     "output_type": "display_data"
    }
   ],
   "source": [
    "sns.pairplot(TrainData[['motor_volume', 'price']])\n",
    "plt.show()"
   ]
  },
  {
   "cell_type": "markdown",
   "id": "b03f0039",
   "metadata": {
    "papermill": {
     "duration": 0.010174,
     "end_time": "2023-12-11T01:08:53.380144",
     "exception": false,
     "start_time": "2023-12-11T01:08:53.369970",
     "status": "completed"
    },
    "tags": []
   },
   "source": [
    "### Features Engineering  \n",
    "Create a new \"Running\" column in your DataFrame that represents the distance traveled by the car, with all values standardized to kilometers. You also want to create a new column \"Type\" that indicates whether the original distance is in kilometers or miles."
   ]
  },
  {
   "cell_type": "code",
   "execution_count": 15,
   "id": "703055b2",
   "metadata": {
    "execution": {
     "iopub.execute_input": "2023-12-11T01:08:53.447440Z",
     "iopub.status.busy": "2023-12-11T01:08:53.446859Z",
     "iopub.status.idle": "2023-12-11T01:08:53.484301Z",
     "shell.execute_reply": "2023-12-11T01:08:53.483079Z"
    },
    "papermill": {
     "duration": 0.051596,
     "end_time": "2023-12-11T01:08:53.486811",
     "exception": false,
     "start_time": "2023-12-11T01:08:53.435215",
     "status": "completed"
    },
    "tags": []
   },
   "outputs": [],
   "source": [
    "# Apply the FeaturesEng function to the  DataFrame\n",
    "TrainData = FeaturesEng(TrainData)\n",
    "\n",
    "TestData = FeaturesEng(TestData)"
   ]
  },
  {
   "cell_type": "code",
   "execution_count": 16,
   "id": "6865e29f",
   "metadata": {
    "execution": {
     "iopub.execute_input": "2023-12-11T01:08:53.509386Z",
     "iopub.status.busy": "2023-12-11T01:08:53.509045Z",
     "iopub.status.idle": "2023-12-11T01:08:53.522358Z",
     "shell.execute_reply": "2023-12-11T01:08:53.521333Z"
    },
    "papermill": {
     "duration": 0.026499,
     "end_time": "2023-12-11T01:08:53.524060",
     "exception": false,
     "start_time": "2023-12-11T01:08:53.497561",
     "status": "completed"
    },
    "tags": []
   },
   "outputs": [
    {
     "data": {
      "text/html": [
       "<div>\n",
       "<style scoped>\n",
       "    .dataframe tbody tr th:only-of-type {\n",
       "        vertical-align: middle;\n",
       "    }\n",
       "\n",
       "    .dataframe tbody tr th {\n",
       "        vertical-align: top;\n",
       "    }\n",
       "\n",
       "    .dataframe thead th {\n",
       "        text-align: right;\n",
       "    }\n",
       "</style>\n",
       "<table border=\"1\" class=\"dataframe\">\n",
       "  <thead>\n",
       "    <tr style=\"text-align: right;\">\n",
       "      <th></th>\n",
       "      <th>year</th>\n",
       "      <th>motor</th>\n",
       "      <th>running</th>\n",
       "      <th>wheel</th>\n",
       "      <th>color</th>\n",
       "      <th>car_type</th>\n",
       "      <th>status</th>\n",
       "      <th>motor_volume</th>\n",
       "      <th>price</th>\n",
       "      <th>type</th>\n",
       "    </tr>\n",
       "  </thead>\n",
       "  <tbody>\n",
       "    <tr>\n",
       "      <th>0</th>\n",
       "      <td>2022</td>\n",
       "      <td>Gasoline</td>\n",
       "      <td>3000.00</td>\n",
       "      <td>Left</td>\n",
       "      <td>Sky Blue</td>\n",
       "      <td>Sedan</td>\n",
       "      <td>Excellent</td>\n",
       "      <td>2.0</td>\n",
       "      <td>24500</td>\n",
       "      <td>1000.00000</td>\n",
       "    </tr>\n",
       "    <tr>\n",
       "      <th>1</th>\n",
       "      <td>2014</td>\n",
       "      <td>Gasoline</td>\n",
       "      <td>132000.00</td>\n",
       "      <td>Left</td>\n",
       "      <td>Black</td>\n",
       "      <td>Sedan</td>\n",
       "      <td>Excellent</td>\n",
       "      <td>2.0</td>\n",
       "      <td>25500</td>\n",
       "      <td>1000.00000</td>\n",
       "    </tr>\n",
       "    <tr>\n",
       "      <th>2</th>\n",
       "      <td>2018</td>\n",
       "      <td>Gasoline</td>\n",
       "      <td>152887.30</td>\n",
       "      <td>Left</td>\n",
       "      <td>Other Color</td>\n",
       "      <td>Sedan</td>\n",
       "      <td>Excellent</td>\n",
       "      <td>2.0</td>\n",
       "      <td>11700</td>\n",
       "      <td>1.60934</td>\n",
       "    </tr>\n",
       "    <tr>\n",
       "      <th>3</th>\n",
       "      <td>2002</td>\n",
       "      <td>Gasoline</td>\n",
       "      <td>220479.58</td>\n",
       "      <td>Left</td>\n",
       "      <td>Golden</td>\n",
       "      <td>Sedan</td>\n",
       "      <td>Excellent</td>\n",
       "      <td>3.2</td>\n",
       "      <td>12000</td>\n",
       "      <td>1.60934</td>\n",
       "    </tr>\n",
       "    <tr>\n",
       "      <th>4</th>\n",
       "      <td>2017</td>\n",
       "      <td>Gasoline</td>\n",
       "      <td>130000.00</td>\n",
       "      <td>Left</td>\n",
       "      <td>Black</td>\n",
       "      <td>Sedan</td>\n",
       "      <td>Good</td>\n",
       "      <td>2.0</td>\n",
       "      <td>26000</td>\n",
       "      <td>1000.00000</td>\n",
       "    </tr>\n",
       "  </tbody>\n",
       "</table>\n",
       "</div>"
      ],
      "text/plain": [
       "   year     motor    running wheel        color car_type     status  \\\n",
       "0  2022  Gasoline    3000.00  Left     Sky Blue    Sedan  Excellent   \n",
       "1  2014  Gasoline  132000.00  Left        Black    Sedan  Excellent   \n",
       "2  2018  Gasoline  152887.30  Left  Other Color    Sedan  Excellent   \n",
       "3  2002  Gasoline  220479.58  Left       Golden    Sedan  Excellent   \n",
       "4  2017  Gasoline  130000.00  Left        Black    Sedan       Good   \n",
       "\n",
       "   motor_volume  price        type  \n",
       "0           2.0  24500  1000.00000  \n",
       "1           2.0  25500  1000.00000  \n",
       "2           2.0  11700     1.60934  \n",
       "3           3.2  12000     1.60934  \n",
       "4           2.0  26000  1000.00000  "
      ]
     },
     "execution_count": 16,
     "metadata": {},
     "output_type": "execute_result"
    }
   ],
   "source": [
    "TrainData.head()"
   ]
  },
  {
   "cell_type": "code",
   "execution_count": 17,
   "id": "4ce6439b",
   "metadata": {
    "execution": {
     "iopub.execute_input": "2023-12-11T01:08:53.547096Z",
     "iopub.status.busy": "2023-12-11T01:08:53.546776Z",
     "iopub.status.idle": "2023-12-11T01:08:53.559369Z",
     "shell.execute_reply": "2023-12-11T01:08:53.558525Z"
    },
    "papermill": {
     "duration": 0.02654,
     "end_time": "2023-12-11T01:08:53.561641",
     "exception": false,
     "start_time": "2023-12-11T01:08:53.535101",
     "status": "completed"
    },
    "tags": []
   },
   "outputs": [],
   "source": [
    "# scaling numerical data in a dataset\n",
    "scaler = MinMaxScaler()\n",
    "\n",
    "numerical_columns_new_Train = TrainData.select_dtypes(include=['float64', 'int64']).columns\n",
    "TrainData[numerical_columns_new_Train] = scaler.fit_transform(TrainData[numerical_columns_new_Train])\n",
    "\n",
    "\n",
    "numerical_columns_new_Test = TestData.select_dtypes(include=['float64', 'int64']).columns\n",
    "TestData[numerical_columns_new_Test] = scaler.fit_transform(TestData[numerical_columns_new_Test])"
   ]
  },
  {
   "cell_type": "code",
   "execution_count": 18,
   "id": "bf8ad295",
   "metadata": {
    "execution": {
     "iopub.execute_input": "2023-12-11T01:08:53.585780Z",
     "iopub.status.busy": "2023-12-11T01:08:53.585435Z",
     "iopub.status.idle": "2023-12-11T01:08:53.854987Z",
     "shell.execute_reply": "2023-12-11T01:08:53.854076Z"
    },
    "papermill": {
     "duration": 0.283776,
     "end_time": "2023-12-11T01:08:53.856813",
     "exception": false,
     "start_time": "2023-12-11T01:08:53.573037",
     "status": "completed"
    },
    "tags": []
   },
   "outputs": [
    {
     "data": {
      "text/plain": [
       "<seaborn.axisgrid.FacetGrid at 0x7d2d96f80ca0>"
      ]
     },
     "execution_count": 18,
     "metadata": {},
     "output_type": "execute_result"
    },
    {
     "data": {
      "image/png": "[encoded data removed]",
      "text/plain": [
       "<Figure size 500x500 with 1 Axes>"
      ]
     },
     "metadata": {},
     "output_type": "display_data"
    }
   ],
   "source": [
    "sns.relplot(data=TrainData, x=\"running\", y=\"price\")"
   ]
  },
  {
   "cell_type": "code",
   "execution_count": 19,
   "id": "58229861",
   "metadata": {
    "execution": {
     "iopub.execute_input": "2023-12-11T01:08:53.882251Z",
     "iopub.status.busy": "2023-12-11T01:08:53.881871Z",
     "iopub.status.idle": "2023-12-11T01:08:54.180400Z",
     "shell.execute_reply": "2023-12-11T01:08:54.179723Z"
    },
    "papermill": {
     "duration": 0.312978,
     "end_time": "2023-12-11T01:08:54.182041",
     "exception": false,
     "start_time": "2023-12-11T01:08:53.869063",
     "status": "completed"
    },
    "tags": []
   },
   "outputs": [
    {
     "data": {
      "text/plain": [
       "<seaborn.axisgrid.FacetGrid at 0x7d2d96a78220>"
      ]
     },
     "execution_count": 19,
     "metadata": {},
     "output_type": "execute_result"
    },
    {
     "data": {
      "image/png": "[encoded data removed]",
      "text/plain": [
       "<Figure size 500x500 with 1 Axes>"
      ]
     },
     "metadata": {},
     "output_type": "display_data"
    }
   ],
   "source": [
    "sns.catplot(data=TrainData, x=\"motor\", y=\"price\", jitter=False)\n"
   ]
  },
  {
   "cell_type": "code",
   "execution_count": 20,
   "id": "fd15cbb3",
   "metadata": {
    "execution": {
     "iopub.execute_input": "2023-12-11T01:08:54.210017Z",
     "iopub.status.busy": "2023-12-11T01:08:54.209176Z",
     "iopub.status.idle": "2023-12-11T01:08:54.718623Z",
     "shell.execute_reply": "2023-12-11T01:08:54.717334Z"
    },
    "papermill": {
     "duration": 0.525515,
     "end_time": "2023-12-11T01:08:54.721307",
     "exception": false,
     "start_time": "2023-12-11T01:08:54.195792",
     "status": "completed"
    },
    "tags": []
   },
   "outputs": [
    {
     "data": {
      "text/plain": [
       "<seaborn.axisgrid.FacetGrid at 0x7d2d96e4aef0>"
      ]
     },
     "execution_count": 20,
     "metadata": {},
     "output_type": "execute_result"
    },
    {
     "data": {
      "image/png": "[encoded data removed]",
      "text/plain": [
       "<Figure size 500x500 with 1 Axes>"
      ]
     },
     "metadata": {},
     "output_type": "display_data"
    }
   ],
   "source": [
    "sns.catplot(data=TrainData, x=\"price\", y=\"color\", kind=\"box\")"
   ]
  },
  {
   "cell_type": "code",
   "execution_count": 21,
   "id": "5beeefee",
   "metadata": {
    "execution": {
     "iopub.execute_input": "2023-12-11T01:08:54.749135Z",
     "iopub.status.busy": "2023-12-11T01:08:54.748763Z",
     "iopub.status.idle": "2023-12-11T01:08:54.996469Z",
     "shell.execute_reply": "2023-12-11T01:08:54.995056Z"
    },
    "papermill": {
     "duration": 0.264276,
     "end_time": "2023-12-11T01:08:54.999024",
     "exception": false,
     "start_time": "2023-12-11T01:08:54.734748",
     "status": "completed"
    },
    "tags": []
   },
   "outputs": [
    {
     "data": {
      "text/plain": [
       "<seaborn.axisgrid.FacetGrid at 0x7d2d968ee950>"
      ]
     },
     "execution_count": 21,
     "metadata": {},
     "output_type": "execute_result"
    },
    {
     "data": {
      "image/png": "[encoded data removed]",
      "text/plain": [
       "<Figure size 500x500 with 1 Axes>"
      ]
     },
     "metadata": {},
     "output_type": "display_data"
    }
   ],
   "source": [
    "sns.catplot(data=TrainData, x=\"price\", y=\"car_type\", errorbar=(\"pi\", 95), kind=\"bar\")"
   ]
  },
  {
   "cell_type": "code",
   "execution_count": 22,
   "id": "539a4510",
   "metadata": {
    "execution": {
     "iopub.execute_input": "2023-12-11T01:08:55.027403Z",
     "iopub.status.busy": "2023-12-11T01:08:55.027006Z",
     "iopub.status.idle": "2023-12-11T01:09:09.368863Z",
     "shell.execute_reply": "2023-12-11T01:09:09.367773Z"
    },
    "papermill": {
     "duration": 14.35815,
     "end_time": "2023-12-11T01:09:09.370764",
     "exception": false,
     "start_time": "2023-12-11T01:08:55.012614",
     "status": "completed"
    },
    "tags": []
   },
   "outputs": [
    {
     "data": {
      "text/plain": [
       "<Axes: xlabel='price', ylabel='status'>"
      ]
     },
     "execution_count": 22,
     "metadata": {},
     "output_type": "execute_result"
    },
    {
     "data": {
      "image/png": "[encoded data removed]",
      "text/plain": [
       "<Figure size 500x500 with 1 Axes>"
      ]
     },
     "metadata": {},
     "output_type": "display_data"
    }
   ],
   "source": [
    "# status\n",
    "\n",
    "g = sns.catplot(data=TrainData, x=\"price\", y=\"status\", kind=\"violin\", inner=None)\n",
    "sns.swarmplot(data=TrainData, x=\"price\", y=\"status\", color=\"k\", size=3, ax=g.ax)"
   ]
  },
  {
   "cell_type": "code",
   "execution_count": 23,
   "id": "1f44354a",
   "metadata": {
    "execution": {
     "iopub.execute_input": "2023-12-11T01:09:09.398758Z",
     "iopub.status.busy": "2023-12-11T01:09:09.398449Z",
     "iopub.status.idle": "2023-12-11T01:09:09.416848Z",
     "shell.execute_reply": "2023-12-11T01:09:09.416246Z"
    },
    "papermill": {
     "duration": 0.034226,
     "end_time": "2023-12-11T01:09:09.418369",
     "exception": false,
     "start_time": "2023-12-11T01:09:09.384143",
     "status": "completed"
    },
    "tags": []
   },
   "outputs": [],
   "source": [
    "for column in (\"wheel\",\"motor\", \"color\", \"car_type\", \"status\"):\n",
    "    TrainData = label_encoder(TrainData, column)\n",
    "    TestData = label_encoder(TestData, column)"
   ]
  },
  {
   "cell_type": "code",
   "execution_count": 24,
   "id": "a10a9598",
   "metadata": {
    "execution": {
     "iopub.execute_input": "2023-12-11T01:09:09.446114Z",
     "iopub.status.busy": "2023-12-11T01:09:09.445308Z",
     "iopub.status.idle": "2023-12-11T01:09:09.450726Z",
     "shell.execute_reply": "2023-12-11T01:09:09.449899Z"
    },
    "papermill": {
     "duration": 0.021508,
     "end_time": "2023-12-11T01:09:09.452839",
     "exception": false,
     "start_time": "2023-12-11T01:09:09.431331",
     "status": "completed"
    },
    "tags": []
   },
   "outputs": [
    {
     "data": {
      "text/plain": [
       "Index(['year', 'running', 'motor_volume', 'price', 'type', 'wheel_encoded',\n",
       "       'motor_encoded', 'color_encoded', 'car_type_encoded', 'status_encoded'],\n",
       "      dtype='object')"
      ]
     },
     "execution_count": 24,
     "metadata": {},
     "output_type": "execute_result"
    }
   ],
   "source": [
    "TrainData = pd.DataFrame(TrainData)\n",
    "\n",
    "TrainData.columns"
   ]
  },
  {
   "cell_type": "code",
   "execution_count": 25,
   "id": "d222ee15",
   "metadata": {
    "execution": {
     "iopub.execute_input": "2023-12-11T01:09:09.481733Z",
     "iopub.status.busy": "2023-12-11T01:09:09.481220Z",
     "iopub.status.idle": "2023-12-11T01:09:09.492685Z",
     "shell.execute_reply": "2023-12-11T01:09:09.491886Z"
    },
    "papermill": {
     "duration": 0.027692,
     "end_time": "2023-12-11T01:09:09.494317",
     "exception": false,
     "start_time": "2023-12-11T01:09:09.466625",
     "status": "completed"
    },
    "tags": []
   },
   "outputs": [
    {
     "data": {
      "text/html": [
       "<div>\n",
       "<style scoped>\n",
       "    .dataframe tbody tr th:only-of-type {\n",
       "        vertical-align: middle;\n",
       "    }\n",
       "\n",
       "    .dataframe tbody tr th {\n",
       "        vertical-align: top;\n",
       "    }\n",
       "\n",
       "    .dataframe thead th {\n",
       "        text-align: right;\n",
       "    }\n",
       "</style>\n",
       "<table border=\"1\" class=\"dataframe\">\n",
       "  <thead>\n",
       "    <tr style=\"text-align: right;\">\n",
       "      <th></th>\n",
       "      <th>year</th>\n",
       "      <th>running</th>\n",
       "      <th>motor_volume</th>\n",
       "      <th>type</th>\n",
       "      <th>wheel_encoded</th>\n",
       "      <th>motor_encoded</th>\n",
       "      <th>color_encoded</th>\n",
       "      <th>car_type_encoded</th>\n",
       "      <th>status_encoded</th>\n",
       "    </tr>\n",
       "  </thead>\n",
       "  <tbody>\n",
       "    <tr>\n",
       "      <th>0</th>\n",
       "      <td>0.900000</td>\n",
       "      <td>0.040238</td>\n",
       "      <td>0.178571</td>\n",
       "      <td>1.0</td>\n",
       "      <td>0</td>\n",
       "      <td>1</td>\n",
       "      <td>1</td>\n",
       "      <td>3</td>\n",
       "      <td>1</td>\n",
       "    </tr>\n",
       "    <tr>\n",
       "      <th>1</th>\n",
       "      <td>0.800000</td>\n",
       "      <td>0.229675</td>\n",
       "      <td>0.178571</td>\n",
       "      <td>0.0</td>\n",
       "      <td>0</td>\n",
       "      <td>1</td>\n",
       "      <td>12</td>\n",
       "      <td>2</td>\n",
       "      <td>1</td>\n",
       "    </tr>\n",
       "    <tr>\n",
       "      <th>2</th>\n",
       "      <td>0.933333</td>\n",
       "      <td>0.081016</td>\n",
       "      <td>0.178571</td>\n",
       "      <td>0.0</td>\n",
       "      <td>0</td>\n",
       "      <td>1</td>\n",
       "      <td>12</td>\n",
       "      <td>3</td>\n",
       "      <td>1</td>\n",
       "    </tr>\n",
       "    <tr>\n",
       "      <th>3</th>\n",
       "      <td>0.833333</td>\n",
       "      <td>0.143183</td>\n",
       "      <td>0.178571</td>\n",
       "      <td>0.0</td>\n",
       "      <td>0</td>\n",
       "      <td>1</td>\n",
       "      <td>10</td>\n",
       "      <td>3</td>\n",
       "      <td>1</td>\n",
       "    </tr>\n",
       "    <tr>\n",
       "      <th>4</th>\n",
       "      <td>0.333333</td>\n",
       "      <td>0.386215</td>\n",
       "      <td>0.107143</td>\n",
       "      <td>1.0</td>\n",
       "      <td>0</td>\n",
       "      <td>1</td>\n",
       "      <td>1</td>\n",
       "      <td>4</td>\n",
       "      <td>4</td>\n",
       "    </tr>\n",
       "  </tbody>\n",
       "</table>\n",
       "</div>"
      ],
      "text/plain": [
       "       year   running  motor_volume  type  wheel_encoded  motor_encoded  \\\n",
       "0  0.900000  0.040238      0.178571   1.0              0              1   \n",
       "1  0.800000  0.229675      0.178571   0.0              0              1   \n",
       "2  0.933333  0.081016      0.178571   0.0              0              1   \n",
       "3  0.833333  0.143183      0.178571   0.0              0              1   \n",
       "4  0.333333  0.386215      0.107143   1.0              0              1   \n",
       "\n",
       "   color_encoded  car_type_encoded  status_encoded  \n",
       "0              1                 3               1  \n",
       "1             12                 2               1  \n",
       "2             12                 3               1  \n",
       "3             10                 3               1  \n",
       "4              1                 4               4  "
      ]
     },
     "execution_count": 25,
     "metadata": {},
     "output_type": "execute_result"
    }
   ],
   "source": [
    "TestData = pd.DataFrame(TestData)\n",
    "\n",
    "TestData.head()"
   ]
  },
  {
   "cell_type": "code",
   "execution_count": 26,
   "id": "c62dbf6a",
   "metadata": {
    "execution": {
     "iopub.execute_input": "2023-12-11T01:09:09.522457Z",
     "iopub.status.busy": "2023-12-11T01:09:09.521695Z",
     "iopub.status.idle": "2023-12-11T01:09:09.528964Z",
     "shell.execute_reply": "2023-12-11T01:09:09.528363Z"
    },
    "papermill": {
     "duration": 0.023466,
     "end_time": "2023-12-11T01:09:09.531186",
     "exception": false,
     "start_time": "2023-12-11T01:09:09.507720",
     "status": "completed"
    },
    "tags": []
   },
   "outputs": [],
   "source": [
    "#  Spliting data to x_train and y_train\n",
    "# X Tarining\n",
    "X_data = TrainData.drop(columns=['price'])\n",
    "# Y Training\n",
    "Y_data = TrainData.price\n",
    "\n",
    "\n",
    "(X_train, X_val, y_train, y_val) = train_test_split(X_data, Y_data, test_size=0.1, random_state=42)\n"
   ]
  },
  {
   "cell_type": "markdown",
   "id": "95b2a32e",
   "metadata": {
    "papermill": {
     "duration": 0.014072,
     "end_time": "2023-12-11T01:09:09.559741",
     "exception": false,
     "start_time": "2023-12-11T01:09:09.545669",
     "status": "completed"
    },
    "tags": []
   },
   "source": [
    "# Model Selection:\n",
    "Linear regression is a straightforward and easy-to-understand model. It provides a clear interpretation of the relationship between the input features and the target variable. Each feature has a corresponding coefficient that represents its impact on the target variable."
   ]
  },
  {
   "cell_type": "code",
   "execution_count": 27,
   "id": "f8d3918f",
   "metadata": {
    "execution": {
     "iopub.execute_input": "2023-12-11T01:09:09.590080Z",
     "iopub.status.busy": "2023-12-11T01:09:09.589715Z",
     "iopub.status.idle": "2023-12-11T01:09:09.594053Z",
     "shell.execute_reply": "2023-12-11T01:09:09.593181Z"
    },
    "papermill": {
     "duration": 0.022315,
     "end_time": "2023-12-11T01:09:09.596273",
     "exception": false,
     "start_time": "2023-12-11T01:09:09.573958",
     "status": "completed"
    },
    "tags": []
   },
   "outputs": [],
   "source": [
    "mode = LinearRegression()"
   ]
  },
  {
   "cell_type": "markdown",
   "id": "c330dd30",
   "metadata": {
    "papermill": {
     "duration": 0.013893,
     "end_time": "2023-12-11T01:09:09.624940",
     "exception": false,
     "start_time": "2023-12-11T01:09:09.611047",
     "status": "completed"
    },
    "tags": []
   },
   "source": [
    "# Model Training:"
   ]
  },
  {
   "cell_type": "code",
   "execution_count": 28,
   "id": "c6216540",
   "metadata": {
    "execution": {
     "iopub.execute_input": "2023-12-11T01:09:09.654663Z",
     "iopub.status.busy": "2023-12-11T01:09:09.654307Z",
     "iopub.status.idle": "2023-12-11T01:09:09.681395Z",
     "shell.execute_reply": "2023-12-11T01:09:09.680363Z"
    },
    "papermill": {
     "duration": 0.044321,
     "end_time": "2023-12-11T01:09:09.683491",
     "exception": false,
     "start_time": "2023-12-11T01:09:09.639170",
     "status": "completed"
    },
    "tags": []
   },
   "outputs": [
    {
     "data": {
      "text/html": [
       "<style>#sk-container-id-1 {color: black;background-color: white;}#sk-container-id-1 pre{padding: 0;}#sk-container-id-1 div.sk-toggleable {background-color: white;}#sk-container-id-1 label.sk-toggleable__label {cursor: pointer;display: block;width: 100%;margin-bottom: 0;padding: 0.3em;box-sizing: border-box;text-align: center;}#sk-container-id-1 label.sk-toggleable__label-arrow:before {content: \"▸\";float: left;margin-right: 0.25em;color: #696969;}#sk-container-id-1 label.sk-toggleable__label-arrow:hover:before {color: black;}#sk-container-id-1 div.sk-estimator:hover label.sk-toggleable__label-arrow:before {color: black;}#sk-container-id-1 div.sk-toggleable__content {max-height: 0;max-width: 0;overflow: hidden;text-align: left;background-color: #f0f8ff;}#sk-container-id-1 div.sk-toggleable__content pre {margin: 0.2em;color: black;border-radius: 0.25em;background-color: #f0f8ff;}#sk-container-id-1 input.sk-toggleable__control:checked~div.sk-toggleable__content {max-height: 200px;max-width: 100%;overflow: auto;}#sk-container-id-1 input.sk-toggleable__control:checked~label.sk-toggleable__label-arrow:before {content: \"▾\";}#sk-container-id-1 div.sk-estimator input.sk-toggleable__control:checked~label.sk-toggleable__label {background-color: #d4ebff;}#sk-container-id-1 div.sk-label input.sk-toggleable__control:checked~label.sk-toggleable__label {background-color: #d4ebff;}#sk-container-id-1 input.sk-hidden--visually {border: 0;clip: rect(1px 1px 1px 1px);clip: rect(1px, 1px, 1px, 1px);height: 1px;margin: -1px;overflow: hidden;padding: 0;position: absolute;width: 1px;}#sk-container-id-1 div.sk-estimator {font-family: monospace;background-color: #f0f8ff;border: 1px dotted black;border-radius: 0.25em;box-sizing: border-box;margin-bottom: 0.5em;}#sk-container-id-1 div.sk-estimator:hover {background-color: #d4ebff;}#sk-container-id-1 div.sk-parallel-item::after {content: \"\";width: 100%;border-bottom: 1px solid gray;flex-grow: 1;}#sk-container-id-1 div.sk-label:hover label.sk-toggleable__label {background-color: #d4ebff;}#sk-container-id-1 div.sk-serial::before {content: \"\";position: absolute;border-left: 1px solid gray;box-sizing: border-box;top: 0;bottom: 0;left: 50%;z-index: 0;}#sk-container-id-1 div.sk-serial {display: flex;flex-direction: column;align-items: center;background-color: white;padding-right: 0.2em;padding-left: 0.2em;position: relative;}#sk-container-id-1 div.sk-item {position: relative;z-index: 1;}#sk-container-id-1 div.sk-parallel {display: flex;align-items: stretch;justify-content: center;background-color: white;position: relative;}#sk-container-id-1 div.sk-item::before, #sk-container-id-1 div.sk-parallel-item::before {content: \"\";position: absolute;border-left: 1px solid gray;box-sizing: border-box;top: 0;bottom: 0;left: 50%;z-index: -1;}#sk-container-id-1 div.sk-parallel-item {display: flex;flex-direction: column;z-index: 1;position: relative;background-color: white;}#sk-container-id-1 div.sk-parallel-item:first-child::after {align-self: flex-end;width: 50%;}#sk-container-id-1 div.sk-parallel-item:last-child::after {align-self: flex-start;width: 50%;}#sk-container-id-1 div.sk-parallel-item:only-child::after {width: 0;}#sk-container-id-1 div.sk-dashed-wrapped {border: 1px dashed gray;margin: 0 0.4em 0.5em 0.4em;box-sizing: border-box;padding-bottom: 0.4em;background-color: white;}#sk-container-id-1 div.sk-label label {font-family: monospace;font-weight: bold;display: inline-block;line-height: 1.2em;}#sk-container-id-1 div.sk-label-container {text-align: center;}#sk-container-id-1 div.sk-container {/* jupyter's `normalize.less` sets `[hidden] { display: none; }` but bootstrap.min.css set `[hidden] { display: none !important; }` so we also need the `!important` here to be able to override the default hidden behavior on the sphinx rendered scikit-learn.org. See: https://github.com/scikit-learn/scikit-learn/issues/21755 */display: inline-block !important;position: relative;}#sk-container-id-1 div.sk-text-repr-fallback {display: none;}</style><div id=\"sk-container-id-1\" class=\"sk-top-container\"><div class=\"sk-text-repr-fallback\"><pre>LinearRegression()</pre><b>In a Jupyter environment, please rerun this cell to show the HTML representation or trust the notebook. <br />On GitHub, the HTML representation is unable to render, please try loading this page with nbviewer.org.</b></div><div class=\"sk-container\" hidden><div class=\"sk-item\"><div class=\"sk-estimator sk-toggleable\"><input class=\"sk-toggleable__control sk-hidden--visually\" id=\"sk-estimator-id-1\" type=\"checkbox\" checked><label for=\"sk-estimator-id-1\" class=\"sk-toggleable__label sk-toggleable__label-arrow\">LinearRegression</label><div class=\"sk-toggleable__content\"><pre>LinearRegression()</pre></div></div></div></div></div>"
      ],
      "text/plain": [
       "LinearRegression()"
      ]
     },
     "execution_count": 28,
     "metadata": {},
     "output_type": "execute_result"
    }
   ],
   "source": [
    "mode.fit(X_train,y_train)"
   ]
  },
  {
   "cell_type": "code",
   "execution_count": 29,
   "id": "ce8d242e",
   "metadata": {
    "execution": {
     "iopub.execute_input": "2023-12-11T01:09:09.715571Z",
     "iopub.status.busy": "2023-12-11T01:09:09.715241Z",
     "iopub.status.idle": "2023-12-11T01:09:09.720989Z",
     "shell.execute_reply": "2023-12-11T01:09:09.720226Z"
    },
    "papermill": {
     "duration": 0.022156,
     "end_time": "2023-12-11T01:09:09.722721",
     "exception": false,
     "start_time": "2023-12-11T01:09:09.700565",
     "status": "completed"
    },
    "tags": []
   },
   "outputs": [
    {
     "data": {
      "text/plain": [
       "array([ 2.84307437e-01, -1.33894061e-01,  8.65099946e-02,  3.38731641e-02,\n",
       "        1.52655666e-16,  3.29029813e-03, -3.44554540e-04, -1.69884270e-03,\n",
       "       -3.74695929e-06])"
      ]
     },
     "execution_count": 29,
     "metadata": {},
     "output_type": "execute_result"
    }
   ],
   "source": [
    "mode.coef_"
   ]
  },
  {
   "cell_type": "code",
   "execution_count": 30,
   "id": "cccd5875",
   "metadata": {
    "execution": {
     "iopub.execute_input": "2023-12-11T01:09:09.751059Z",
     "iopub.status.busy": "2023-12-11T01:09:09.750749Z",
     "iopub.status.idle": "2023-12-11T01:09:09.759162Z",
     "shell.execute_reply": "2023-12-11T01:09:09.758273Z"
    },
    "papermill": {
     "duration": 0.025002,
     "end_time": "2023-12-11T01:09:09.761166",
     "exception": false,
     "start_time": "2023-12-11T01:09:09.736164",
     "status": "completed"
    },
    "tags": []
   },
   "outputs": [
    {
     "name": "stdout",
     "output_type": "stream",
     "text": [
      "Mean Squared Error: 0.003107405841841689\n",
      "Mean Absolute Error: 0.037807511530647445\n"
     ]
    }
   ],
   "source": [
    "# Make predictions\n",
    "y_pred = mode.predict(X_val)\n",
    "\n",
    "# Calculate Mean Squared Error (MSE)\n",
    "mse = mean_squared_error(y_val, y_pred)\n",
    "print(f'Mean Squared Error: {mse}')\n",
    "\n",
    "\n",
    "mbe = mean_absolute_error(y_val, y_pred)\n",
    "print(f'Mean Absolute Error: {mbe}')\n"
   ]
  },
  {
   "cell_type": "code",
   "execution_count": 31,
   "id": "4954d126",
   "metadata": {
    "execution": {
     "iopub.execute_input": "2023-12-11T01:09:09.791292Z",
     "iopub.status.busy": "2023-12-11T01:09:09.790935Z",
     "iopub.status.idle": "2023-12-11T01:09:10.841155Z",
     "shell.execute_reply": "2023-12-11T01:09:10.840258Z"
    },
    "papermill": {
     "duration": 1.06796,
     "end_time": "2023-12-11T01:09:10.843566",
     "exception": false,
     "start_time": "2023-12-11T01:09:09.775606",
     "status": "completed"
    },
    "tags": []
   },
   "outputs": [
    {
     "data": {
      "image/png": "[encoded data removed]",
      "text/plain": [
       "<Figure size 640x480 with 1 Axes>"
      ]
     },
     "metadata": {},
     "output_type": "display_data"
    }
   ],
   "source": [
    "# Lists to store training and testing errors\n",
    "train_errors = []\n",
    "test_errors = []\n",
    "\n",
    "# Training loop\n",
    "for epoch in range(100):\n",
    "    mode.fit(X_train, y_train)\n",
    "    \n",
    "    # Make predictions\n",
    "    y_train_pred = mode.predict(X_train)\n",
    "    y_test_pred = mode.predict(X_val)\n",
    "    \n",
    "    # Calculate mean squared errors\n",
    "    train_error = mean_squared_error(y_train, y_train_pred)\n",
    "    test_error = mean_squared_error(y_val, y_test_pred)\n",
    "    \n",
    "    # Append errors to the lists\n",
    "    train_errors.append(train_error)\n",
    "    test_errors.append(test_error)\n",
    "\n",
    "# Plotting the errors\n",
    "plt.plot(train_errors, label='Training Error')\n",
    "plt.plot(test_errors, label='Testing Error')\n",
    "plt.xlabel('Epochs')\n",
    "plt.ylabel('Mean Squared Error')\n",
    "plt.legend()\n",
    "plt.title('Training and Testing Errors over Epochs')\n",
    "plt.show()"
   ]
  }
 ],
 "metadata": {
  "kaggle": {
   "accelerator": "none",
   "dataSources": [
    {
     "databundleVersionId": 7241430,
     "sourceId": 65472,
     "sourceType": "competition"
    }
   ],
   "dockerImageVersionId": 30615,
   "isGpuEnabled": false,
   "isInternetEnabled": true,
   "language": "python",
   "sourceType": "notebook"
  },
  "kernelspec": {
   "display_name": "Python 3",
   "language": "python",
   "name": "python3"
  },
  "language_info": {
   "codemirror_mode": {
    "name": "ipython",
    "version": 3
   },
   "file_extension": ".py",
   "mimetype": "text/x-python",
   "name": "python",
   "nbconvert_exporter": "python",
   "pygments_lexer": "ipython3",
   "version": "3.10.12"
  },
  "papermill": {
   "default_parameters": {},
   "duration": 24.974605,
   "end_time": "2023-12-11T01:09:11.477387",
   "environment_variables": {},
   "exception": null,
   "input_path": "__notebook__.ipynb",
   "output_path": "__notebook__.ipynb",
   "parameters": {},
   "start_time": "2023-12-11T01:08:46.502782",
   "version": "2.4.0"
  }
 },
 "nbformat": 4,
 "nbformat_minor": 5
}
