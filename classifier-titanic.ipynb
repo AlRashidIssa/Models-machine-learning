{
 "cells": [
  {
   "cell_type": "markdown",
   "id": "8108e26e",
   "metadata": {
    "papermill": {
     "duration": 0.020595,
     "end_time": "2023-10-09T21:42:47.806154",
     "exception": false,
     "start_time": "2023-10-09T21:42:47.785559",
     "status": "completed"
    },
    "tags": []
   },
   "source": [
    "# Title: Predicting Titanic Survival: A Machine Learning Project\n"
   ]
  },
  {
   "cell_type": "markdown",
   "id": "ded71eae",
   "metadata": {
    "papermill": {
     "duration": 0.019595,
     "end_time": "2023-10-09T21:42:47.844860",
     "exception": false,
     "start_time": "2023-10-09T21:42:47.825265",
     "status": "completed"
    },
    "tags": []
   },
   "source": [
    "# Introduction\n",
    "\n",
    "In this machine learning project, we tackle the classic problem of predicting passenger survival on the Titanic. We'll use various features like age, gender, ticket class, and more to build a model that can accurately predict whether a passenger survived or not.\n",
    "\n"
   ]
  },
  {
   "cell_type": "code",
   "execution_count": 1,
   "id": "811d4793",
   "metadata": {
    "execution": {
     "iopub.execute_input": "2023-10-09T21:42:47.886607Z",
     "iopub.status.busy": "2023-10-09T21:42:47.885843Z",
     "iopub.status.idle": "2023-10-09T21:42:50.711479Z",
     "shell.execute_reply": "2023-10-09T21:42:50.710263Z"
    },
    "papermill": {
     "duration": 2.84978,
     "end_time": "2023-10-09T21:42:50.714225",
     "exception": false,
     "start_time": "2023-10-09T21:42:47.864445",
     "status": "completed"
    },
    "tags": []
   },
   "outputs": [],
   "source": [
    "#call necessery library\n",
    "import numpy as np\n",
    "import pandas as pd\n",
    "import matplotlib.pyplot as plt\n",
    "import seaborn as sns\n",
    "#Algorithms \n",
    "from sklearn.linear_model import LogisticRegression\n",
    "from sklearn.ensemble import RandomForestClassifier\n",
    "from sklearn.svm import SVC\n",
    "from sklearn.ensemble import BaggingClassifier\n",
    "# pre-porcessing ofr data \n",
    "from sklearn.preprocessing import LabelEncoder\n",
    "\n",
    "# for cels\n",
    "import warnings\n",
    "warnings.filterwarnings(\"ignore\")\n"
   ]
  },
  {
   "cell_type": "code",
   "execution_count": 2,
   "id": "bc237a3a",
   "metadata": {
    "execution": {
     "iopub.execute_input": "2023-10-09T21:42:50.755683Z",
     "iopub.status.busy": "2023-10-09T21:42:50.754875Z",
     "iopub.status.idle": "2023-10-09T21:42:50.784503Z",
     "shell.execute_reply": "2023-10-09T21:42:50.783457Z"
    },
    "papermill": {
     "duration": 0.053702,
     "end_time": "2023-10-09T21:42:50.787102",
     "exception": false,
     "start_time": "2023-10-09T21:42:50.733400",
     "status": "completed"
    },
    "tags": []
   },
   "outputs": [],
   "source": [
    "# read data _test and train \n",
    "df_test = pd.read_csv(\"/kaggle/input/titanic/test.csv\")\n",
    "df_train = pd.read_csv(\"/kaggle/input/titanic/train.csv\")"
   ]
  },
  {
   "cell_type": "markdown",
   "id": "2b612ae7",
   "metadata": {
    "papermill": {
     "duration": 0.083117,
     "end_time": "2023-10-09T21:42:50.889227",
     "exception": false,
     "start_time": "2023-10-09T21:42:50.806110",
     "status": "completed"
    },
    "tags": []
   },
   "source": [
    "# Dataset Overview\n",
    "\n",
    "We used the famous Titanic dataset from Kaggle, which provides information on passengers including features like age, gender, ticket class, and whether they survived or not. The goal is to build a predictive model based on this data.\n",
    "\n"
   ]
  },
  {
   "cell_type": "code",
   "execution_count": 3,
   "id": "e246376b",
   "metadata": {
    "execution": {
     "iopub.execute_input": "2023-10-09T21:42:50.929912Z",
     "iopub.status.busy": "2023-10-09T21:42:50.929274Z",
     "iopub.status.idle": "2023-10-09T21:42:50.935055Z",
     "shell.execute_reply": "2023-10-09T21:42:50.933576Z"
    },
    "papermill": {
     "duration": 0.029132,
     "end_time": "2023-10-09T21:42:50.937977",
     "exception": false,
     "start_time": "2023-10-09T21:42:50.908845",
     "status": "completed"
    },
    "tags": []
   },
   "outputs": [
    {
     "name": "stdout",
     "output_type": "stream",
     "text": [
      "Training data shape:(891, 12)\n"
     ]
    }
   ],
   "source": [
    "print(\"Training data shape:{0}\".format(df_train.shape))"
   ]
  },
  {
   "cell_type": "code",
   "execution_count": 4,
   "id": "4b7149fc",
   "metadata": {
    "execution": {
     "iopub.execute_input": "2023-10-09T21:42:50.981719Z",
     "iopub.status.busy": "2023-10-09T21:42:50.981247Z",
     "iopub.status.idle": "2023-10-09T21:42:50.987728Z",
     "shell.execute_reply": "2023-10-09T21:42:50.986453Z"
    },
    "papermill": {
     "duration": 0.030683,
     "end_time": "2023-10-09T21:42:50.990022",
     "exception": false,
     "start_time": "2023-10-09T21:42:50.959339",
     "status": "completed"
    },
    "tags": []
   },
   "outputs": [
    {
     "name": "stdout",
     "output_type": "stream",
     "text": [
      "Training data column names:\n",
      " Index(['PassengerId', 'Survived', 'Pclass', 'Name', 'Sex', 'Age', 'SibSp',\n",
      "       'Parch', 'Ticket', 'Fare', 'Cabin', 'Embarked'],\n",
      "      dtype='object')\n"
     ]
    }
   ],
   "source": [
    "print(\"Training data column names:\\n {0}\".format(df_train.columns))"
   ]
  },
  {
   "cell_type": "code",
   "execution_count": 5,
   "id": "1d80ca3d",
   "metadata": {
    "execution": {
     "iopub.execute_input": "2023-10-09T21:42:51.030430Z",
     "iopub.status.busy": "2023-10-09T21:42:51.030060Z",
     "iopub.status.idle": "2023-10-09T21:42:51.068039Z",
     "shell.execute_reply": "2023-10-09T21:42:51.066783Z"
    },
    "papermill": {
     "duration": 0.061029,
     "end_time": "2023-10-09T21:42:51.070444",
     "exception": false,
     "start_time": "2023-10-09T21:42:51.009415",
     "status": "completed"
    },
    "tags": []
   },
   "outputs": [
    {
     "name": "stdout",
     "output_type": "stream",
     "text": [
      "<class 'pandas.core.frame.DataFrame'>\n",
      "RangeIndex: 891 entries, 0 to 890\n",
      "Data columns (total 12 columns):\n",
      " #   Column       Non-Null Count  Dtype  \n",
      "---  ------       --------------  -----  \n",
      " 0   PassengerId  891 non-null    int64  \n",
      " 1   Survived     891 non-null    int64  \n",
      " 2   Pclass       891 non-null    int64  \n",
      " 3   Name         891 non-null    object \n",
      " 4   Sex          891 non-null    object \n",
      " 5   Age          714 non-null    float64\n",
      " 6   SibSp        891 non-null    int64  \n",
      " 7   Parch        891 non-null    int64  \n",
      " 8   Ticket       891 non-null    object \n",
      " 9   Fare         891 non-null    float64\n",
      " 10  Cabin        204 non-null    object \n",
      " 11  Embarked     889 non-null    object \n",
      "dtypes: float64(2), int64(5), object(5)\n",
      "memory usage: 83.7+ KB\n",
      "Information on data : None\n"
     ]
    }
   ],
   "source": [
    "print(\"Information on data :\",df_train.info())"
   ]
  },
  {
   "cell_type": "code",
   "execution_count": 6,
   "id": "0a527d6a",
   "metadata": {
    "execution": {
     "iopub.execute_input": "2023-10-09T21:42:51.112060Z",
     "iopub.status.busy": "2023-10-09T21:42:51.110788Z",
     "iopub.status.idle": "2023-10-09T21:42:51.135604Z",
     "shell.execute_reply": "2023-10-09T21:42:51.134504Z"
    },
    "papermill": {
     "duration": 0.048053,
     "end_time": "2023-10-09T21:42:51.138318",
     "exception": false,
     "start_time": "2023-10-09T21:42:51.090265",
     "status": "completed"
    },
    "tags": []
   },
   "outputs": [
    {
     "data": {
      "text/html": [
       "<div>\n",
       "<style scoped>\n",
       "    .dataframe tbody tr th:only-of-type {\n",
       "        vertical-align: middle;\n",
       "    }\n",
       "\n",
       "    .dataframe tbody tr th {\n",
       "        vertical-align: top;\n",
       "    }\n",
       "\n",
       "    .dataframe thead th {\n",
       "        text-align: right;\n",
       "    }\n",
       "</style>\n",
       "<table border=\"1\" class=\"dataframe\">\n",
       "  <thead>\n",
       "    <tr style=\"text-align: right;\">\n",
       "      <th></th>\n",
       "      <th>PassengerId</th>\n",
       "      <th>Survived</th>\n",
       "      <th>Pclass</th>\n",
       "      <th>Name</th>\n",
       "      <th>Sex</th>\n",
       "      <th>Age</th>\n",
       "      <th>SibSp</th>\n",
       "      <th>Parch</th>\n",
       "      <th>Ticket</th>\n",
       "      <th>Fare</th>\n",
       "      <th>Cabin</th>\n",
       "      <th>Embarked</th>\n",
       "    </tr>\n",
       "  </thead>\n",
       "  <tbody>\n",
       "    <tr>\n",
       "      <th>0</th>\n",
       "      <td>1</td>\n",
       "      <td>0</td>\n",
       "      <td>3</td>\n",
       "      <td>Braund, Mr. Owen Harris</td>\n",
       "      <td>male</td>\n",
       "      <td>22.0</td>\n",
       "      <td>1</td>\n",
       "      <td>0</td>\n",
       "      <td>A/5 21171</td>\n",
       "      <td>7.2500</td>\n",
       "      <td>NaN</td>\n",
       "      <td>S</td>\n",
       "    </tr>\n",
       "    <tr>\n",
       "      <th>1</th>\n",
       "      <td>2</td>\n",
       "      <td>1</td>\n",
       "      <td>1</td>\n",
       "      <td>Cumings, Mrs. John Bradley (Florence Briggs Th...</td>\n",
       "      <td>female</td>\n",
       "      <td>38.0</td>\n",
       "      <td>1</td>\n",
       "      <td>0</td>\n",
       "      <td>PC 17599</td>\n",
       "      <td>71.2833</td>\n",
       "      <td>C85</td>\n",
       "      <td>C</td>\n",
       "    </tr>\n",
       "    <tr>\n",
       "      <th>2</th>\n",
       "      <td>3</td>\n",
       "      <td>1</td>\n",
       "      <td>3</td>\n",
       "      <td>Heikkinen, Miss. Laina</td>\n",
       "      <td>female</td>\n",
       "      <td>26.0</td>\n",
       "      <td>0</td>\n",
       "      <td>0</td>\n",
       "      <td>STON/O2. 3101282</td>\n",
       "      <td>7.9250</td>\n",
       "      <td>NaN</td>\n",
       "      <td>S</td>\n",
       "    </tr>\n",
       "    <tr>\n",
       "      <th>3</th>\n",
       "      <td>4</td>\n",
       "      <td>1</td>\n",
       "      <td>1</td>\n",
       "      <td>Futrelle, Mrs. Jacques Heath (Lily May Peel)</td>\n",
       "      <td>female</td>\n",
       "      <td>35.0</td>\n",
       "      <td>1</td>\n",
       "      <td>0</td>\n",
       "      <td>113803</td>\n",
       "      <td>53.1000</td>\n",
       "      <td>C123</td>\n",
       "      <td>S</td>\n",
       "    </tr>\n",
       "    <tr>\n",
       "      <th>4</th>\n",
       "      <td>5</td>\n",
       "      <td>0</td>\n",
       "      <td>3</td>\n",
       "      <td>Allen, Mr. William Henry</td>\n",
       "      <td>male</td>\n",
       "      <td>35.0</td>\n",
       "      <td>0</td>\n",
       "      <td>0</td>\n",
       "      <td>373450</td>\n",
       "      <td>8.0500</td>\n",
       "      <td>NaN</td>\n",
       "      <td>S</td>\n",
       "    </tr>\n",
       "    <tr>\n",
       "      <th>5</th>\n",
       "      <td>6</td>\n",
       "      <td>0</td>\n",
       "      <td>3</td>\n",
       "      <td>Moran, Mr. James</td>\n",
       "      <td>male</td>\n",
       "      <td>NaN</td>\n",
       "      <td>0</td>\n",
       "      <td>0</td>\n",
       "      <td>330877</td>\n",
       "      <td>8.4583</td>\n",
       "      <td>NaN</td>\n",
       "      <td>Q</td>\n",
       "    </tr>\n",
       "    <tr>\n",
       "      <th>6</th>\n",
       "      <td>7</td>\n",
       "      <td>0</td>\n",
       "      <td>1</td>\n",
       "      <td>McCarthy, Mr. Timothy J</td>\n",
       "      <td>male</td>\n",
       "      <td>54.0</td>\n",
       "      <td>0</td>\n",
       "      <td>0</td>\n",
       "      <td>17463</td>\n",
       "      <td>51.8625</td>\n",
       "      <td>E46</td>\n",
       "      <td>S</td>\n",
       "    </tr>\n",
       "    <tr>\n",
       "      <th>7</th>\n",
       "      <td>8</td>\n",
       "      <td>0</td>\n",
       "      <td>3</td>\n",
       "      <td>Palsson, Master. Gosta Leonard</td>\n",
       "      <td>male</td>\n",
       "      <td>2.0</td>\n",
       "      <td>3</td>\n",
       "      <td>1</td>\n",
       "      <td>349909</td>\n",
       "      <td>21.0750</td>\n",
       "      <td>NaN</td>\n",
       "      <td>S</td>\n",
       "    </tr>\n",
       "    <tr>\n",
       "      <th>8</th>\n",
       "      <td>9</td>\n",
       "      <td>1</td>\n",
       "      <td>3</td>\n",
       "      <td>Johnson, Mrs. Oscar W (Elisabeth Vilhelmina Berg)</td>\n",
       "      <td>female</td>\n",
       "      <td>27.0</td>\n",
       "      <td>0</td>\n",
       "      <td>2</td>\n",
       "      <td>347742</td>\n",
       "      <td>11.1333</td>\n",
       "      <td>NaN</td>\n",
       "      <td>S</td>\n",
       "    </tr>\n",
       "    <tr>\n",
       "      <th>9</th>\n",
       "      <td>10</td>\n",
       "      <td>1</td>\n",
       "      <td>2</td>\n",
       "      <td>Nasser, Mrs. Nicholas (Adele Achem)</td>\n",
       "      <td>female</td>\n",
       "      <td>14.0</td>\n",
       "      <td>1</td>\n",
       "      <td>0</td>\n",
       "      <td>237736</td>\n",
       "      <td>30.0708</td>\n",
       "      <td>NaN</td>\n",
       "      <td>C</td>\n",
       "    </tr>\n",
       "  </tbody>\n",
       "</table>\n",
       "</div>"
      ],
      "text/plain": [
       "   PassengerId  Survived  Pclass  \\\n",
       "0            1         0       3   \n",
       "1            2         1       1   \n",
       "2            3         1       3   \n",
       "3            4         1       1   \n",
       "4            5         0       3   \n",
       "5            6         0       3   \n",
       "6            7         0       1   \n",
       "7            8         0       3   \n",
       "8            9         1       3   \n",
       "9           10         1       2   \n",
       "\n",
       "                                                Name     Sex   Age  SibSp  \\\n",
       "0                            Braund, Mr. Owen Harris    male  22.0      1   \n",
       "1  Cumings, Mrs. John Bradley (Florence Briggs Th...  female  38.0      1   \n",
       "2                             Heikkinen, Miss. Laina  female  26.0      0   \n",
       "3       Futrelle, Mrs. Jacques Heath (Lily May Peel)  female  35.0      1   \n",
       "4                           Allen, Mr. William Henry    male  35.0      0   \n",
       "5                                   Moran, Mr. James    male   NaN      0   \n",
       "6                            McCarthy, Mr. Timothy J    male  54.0      0   \n",
       "7                     Palsson, Master. Gosta Leonard    male   2.0      3   \n",
       "8  Johnson, Mrs. Oscar W (Elisabeth Vilhelmina Berg)  female  27.0      0   \n",
       "9                Nasser, Mrs. Nicholas (Adele Achem)  female  14.0      1   \n",
       "\n",
       "   Parch            Ticket     Fare Cabin Embarked  \n",
       "0      0         A/5 21171   7.2500   NaN        S  \n",
       "1      0          PC 17599  71.2833   C85        C  \n",
       "2      0  STON/O2. 3101282   7.9250   NaN        S  \n",
       "3      0            113803  53.1000  C123        S  \n",
       "4      0            373450   8.0500   NaN        S  \n",
       "5      0            330877   8.4583   NaN        Q  \n",
       "6      0             17463  51.8625   E46        S  \n",
       "7      1            349909  21.0750   NaN        S  \n",
       "8      2            347742  11.1333   NaN        S  \n",
       "9      0            237736  30.0708   NaN        C  "
      ]
     },
     "execution_count": 6,
     "metadata": {},
     "output_type": "execute_result"
    }
   ],
   "source": [
    "# data train\n",
    "df_train.head(10)"
   ]
  },
  {
   "cell_type": "markdown",
   "id": "69755320",
   "metadata": {
    "papermill": {
     "duration": 0.020023,
     "end_time": "2023-10-09T21:42:51.178902",
     "exception": false,
     "start_time": "2023-10-09T21:42:51.158879",
     "status": "completed"
    },
    "tags": []
   },
   "source": [
    "# Data Preprocessing\n",
    "* Handled missing values: We dealt with missing values in features like 'Age' and 'Embarked' using appropriate techniques.\n",
    "* Feature engineering: We extracted titles from the 'Name' column and converted categorical variables into numerical format.\n",
    "* Visualized relationships: We used visualizations to understand the relationships between different features and survival rates.\n"
   ]
  },
  {
   "cell_type": "markdown",
   "id": "77b6bca3",
   "metadata": {
    "papermill": {
     "duration": 0.019004,
     "end_time": "2023-10-09T21:42:51.217689",
     "exception": false,
     "start_time": "2023-10-09T21:42:51.198685",
     "status": "completed"
    },
    "tags": []
   },
   "source": [
    "Here I tried to delete all the null's ​​in the data, but this led to the loss of a very large amount of data, and this did not help the cities in obtaining the best accuracy, so we will replace the money with values ​​that correspond to the column itself."
   ]
  },
  {
   "cell_type": "code",
   "execution_count": 7,
   "id": "79a231ae",
   "metadata": {
    "execution": {
     "iopub.execute_input": "2023-10-09T21:42:51.260237Z",
     "iopub.status.busy": "2023-10-09T21:42:51.259405Z",
     "iopub.status.idle": "2023-10-09T21:42:51.266260Z",
     "shell.execute_reply": "2023-10-09T21:42:51.265137Z"
    },
    "papermill": {
     "duration": 0.030967,
     "end_time": "2023-10-09T21:42:51.268596",
     "exception": false,
     "start_time": "2023-10-09T21:42:51.237629",
     "status": "completed"
    },
    "tags": []
   },
   "outputs": [
    {
     "data": {
      "text/plain": [
       "0     NaN\n",
       "1     C85\n",
       "2     NaN\n",
       "3    C123\n",
       "4     NaN\n",
       "Name: Cabin, dtype: object"
      ]
     },
     "execution_count": 7,
     "metadata": {},
     "output_type": "execute_result"
    }
   ],
   "source": [
    "#show the ferst five rows\n",
    "df_train[\"Cabin\"].head(5)"
   ]
  },
  {
   "cell_type": "code",
   "execution_count": 8,
   "id": "71b8cb57",
   "metadata": {
    "execution": {
     "iopub.execute_input": "2023-10-09T21:42:51.310766Z",
     "iopub.status.busy": "2023-10-09T21:42:51.310285Z",
     "iopub.status.idle": "2023-10-09T21:42:51.318529Z",
     "shell.execute_reply": "2023-10-09T21:42:51.317347Z"
    },
    "papermill": {
     "duration": 0.032218,
     "end_time": "2023-10-09T21:42:51.320828",
     "exception": false,
     "start_time": "2023-10-09T21:42:51.288610",
     "status": "completed"
    },
    "tags": []
   },
   "outputs": [
    {
     "data": {
      "text/plain": [
       "687"
      ]
     },
     "execution_count": 8,
     "metadata": {},
     "output_type": "execute_result"
    }
   ],
   "source": [
    "df_train[\"Cabin\"].isnull().sum()"
   ]
  },
  {
   "cell_type": "code",
   "execution_count": 9,
   "id": "86317142",
   "metadata": {
    "execution": {
     "iopub.execute_input": "2023-10-09T21:42:51.363580Z",
     "iopub.status.busy": "2023-10-09T21:42:51.362477Z",
     "iopub.status.idle": "2023-10-09T21:42:51.370169Z",
     "shell.execute_reply": "2023-10-09T21:42:51.369332Z"
    },
    "papermill": {
     "duration": 0.031094,
     "end_time": "2023-10-09T21:42:51.372244",
     "exception": false,
     "start_time": "2023-10-09T21:42:51.341150",
     "status": "completed"
    },
    "tags": []
   },
   "outputs": [
    {
     "data": {
      "text/plain": [
       "array([nan, 'C85', 'C123', 'E46', 'G6', 'C103', 'D56', 'A6',\n",
       "       'C23 C25 C27', 'B78', 'D33', 'B30', 'C52', 'B28', 'C83', 'F33',\n",
       "       'F G73', 'E31', 'A5', 'D10 D12', 'D26', 'C110', 'B58 B60', 'E101',\n",
       "       'F E69', 'D47', 'B86', 'F2', 'C2', 'E33', 'B19', 'A7', 'C49', 'F4',\n",
       "       'A32', 'B4', 'B80', 'A31', 'D36', 'D15', 'C93', 'C78', 'D35',\n",
       "       'C87', 'B77', 'E67', 'B94', 'C125', 'C99', 'C118', 'D7', 'A19',\n",
       "       'B49', 'D', 'C22 C26', 'C106', 'C65', 'E36', 'C54',\n",
       "       'B57 B59 B63 B66', 'C7', 'E34', 'C32', 'B18', 'C124', 'C91', 'E40',\n",
       "       'T', 'C128', 'D37', 'B35', 'E50', 'C82', 'B96 B98', 'E10', 'E44',\n",
       "       'A34', 'C104', 'C111', 'C92', 'E38', 'D21', 'E12', 'E63', 'A14',\n",
       "       'B37', 'C30', 'D20', 'B79', 'E25', 'D46', 'B73', 'C95', 'B38',\n",
       "       'B39', 'B22', 'C86', 'C70', 'A16', 'C101', 'C68', 'A10', 'E68',\n",
       "       'B41', 'A20', 'D19', 'D50', 'D9', 'A23', 'B50', 'A26', 'D48',\n",
       "       'E58', 'C126', 'B71', 'B51 B53 B55', 'D49', 'B5', 'B20', 'F G63',\n",
       "       'C62 C64', 'E24', 'C90', 'C45', 'E8', 'B101', 'D45', 'C46', 'D30',\n",
       "       'E121', 'D11', 'E77', 'F38', 'B3', 'D6', 'B82 B84', 'D17', 'A36',\n",
       "       'B102', 'B69', 'E49', 'C47', 'D28', 'E17', 'A24', 'C50', 'B42',\n",
       "       'C148'], dtype=object)"
      ]
     },
     "execution_count": 9,
     "metadata": {},
     "output_type": "execute_result"
    }
   ],
   "source": [
    "df_train[\"Cabin\"].unique()"
   ]
  },
  {
   "cell_type": "markdown",
   "id": "066ca5b5",
   "metadata": {
    "papermill": {
     "duration": 0.019667,
     "end_time": "2023-10-09T21:42:51.411842",
     "exception": false,
     "start_time": "2023-10-09T21:42:51.392175",
     "status": "completed"
    },
    "tags": []
   },
   "source": [
    "Here we have created a function that encrypts the data based on the success data for each row"
   ]
  },
  {
   "cell_type": "code",
   "execution_count": 10,
   "id": "96450b03",
   "metadata": {
    "execution": {
     "iopub.execute_input": "2023-10-09T21:42:51.453341Z",
     "iopub.status.busy": "2023-10-09T21:42:51.452986Z",
     "iopub.status.idle": "2023-10-09T21:42:51.458052Z",
     "shell.execute_reply": "2023-10-09T21:42:51.457129Z"
    },
    "papermill": {
     "duration": 0.028632,
     "end_time": "2023-10-09T21:42:51.460309",
     "exception": false,
     "start_time": "2023-10-09T21:42:51.431677",
     "status": "completed"
    },
    "tags": []
   },
   "outputs": [],
   "source": [
    "def Target_Encoding(X,y,df):\n",
    "    mean_encoded_data = df.groupby(X)[y].mean().to_dict()\n",
    "    df[X] = df[X].map(mean_encoded_data)\n",
    "    return df[X]\n"
   ]
  },
  {
   "cell_type": "code",
   "execution_count": 11,
   "id": "abb23962",
   "metadata": {
    "execution": {
     "iopub.execute_input": "2023-10-09T21:42:51.503671Z",
     "iopub.status.busy": "2023-10-09T21:42:51.502949Z",
     "iopub.status.idle": "2023-10-09T21:42:51.517551Z",
     "shell.execute_reply": "2023-10-09T21:42:51.516752Z"
    },
    "papermill": {
     "duration": 0.038416,
     "end_time": "2023-10-09T21:42:51.519846",
     "exception": false,
     "start_time": "2023-10-09T21:42:51.481430",
     "status": "completed"
    },
    "tags": []
   },
   "outputs": [],
   "source": [
    "df_train[\"Cabin\"] = Target_Encoding(\"Cabin\",\"Survived\",df_train)\n",
    "df_test[\"Cabin\"] = Target_Encoding(\"Cabin\",\"Survived\",df_train)"
   ]
  },
  {
   "cell_type": "code",
   "execution_count": 12,
   "id": "53038762",
   "metadata": {
    "execution": {
     "iopub.execute_input": "2023-10-09T21:42:51.562122Z",
     "iopub.status.busy": "2023-10-09T21:42:51.561426Z",
     "iopub.status.idle": "2023-10-09T21:42:51.940123Z",
     "shell.execute_reply": "2023-10-09T21:42:51.938576Z"
    },
    "papermill": {
     "duration": 0.403058,
     "end_time": "2023-10-09T21:42:51.942833",
     "exception": false,
     "start_time": "2023-10-09T21:42:51.539775",
     "status": "completed"
    },
    "tags": []
   },
   "outputs": [
    {
     "data": {
      "image/png": "[encoded data removed]",
      "text/plain": [
       "<Figure size 1500x600 with 1 Axes>"
      ]
     },
     "metadata": {},
     "output_type": "display_data"
    }
   ],
   "source": [
    "# Filter data for survived and not survived\n",
    "survived_1 = df_train[df_train['Survived'] == 1]['Cabin']\n",
    "survived_0 = df_train[df_train['Survived'] == 0]['Cabin']\n",
    "\n",
    "# Create a grouped bar chart\n",
    "plt.figure(figsize=(15, 6))\n",
    "plt.hist([survived_0, survived_1], label=['Survived 0', 'Survived 1'], color=['blue', 'red'], alpha=0.7, bins=20)\n",
    "\n",
    "# Add labels and title\n",
    "plt.xlabel('Cabin')\n",
    "plt.ylabel('Count')\n",
    "plt.legend()\n",
    "\n",
    "# Show the plot\n",
    "plt.show()\n"
   ]
  },
  {
   "cell_type": "markdown",
   "id": "7cba2a2c",
   "metadata": {
    "papermill": {
     "duration": 0.020961,
     "end_time": "2023-10-09T21:42:51.987094",
     "exception": false,
     "start_time": "2023-10-09T21:42:51.966133",
     "status": "completed"
    },
    "tags": []
   },
   "source": [
    "Here I will fill in the blanks using the average survival. This idea may not be correct, but we will try"
   ]
  },
  {
   "cell_type": "code",
   "execution_count": 13,
   "id": "e47e5390",
   "metadata": {
    "execution": {
     "iopub.execute_input": "2023-10-09T21:42:52.030744Z",
     "iopub.status.busy": "2023-10-09T21:42:52.030046Z",
     "iopub.status.idle": "2023-10-09T21:42:52.036112Z",
     "shell.execute_reply": "2023-10-09T21:42:52.034968Z"
    },
    "papermill": {
     "duration": 0.03096,
     "end_time": "2023-10-09T21:42:52.038660",
     "exception": false,
     "start_time": "2023-10-09T21:42:52.007700",
     "status": "completed"
    },
    "tags": []
   },
   "outputs": [],
   "source": [
    "# Calculate the overall mean survival rate\n",
    "overall_mean_survival = df_train['Survived'].mean()\n",
    "\n",
    "# Fill remaining missing values with the overall mean\n",
    "df_train['Cabin'].fillna(overall_mean_survival, inplace=True)\n",
    "df_test['Cabin'].fillna(overall_mean_survival, inplace=True)\n",
    "\n"
   ]
  },
  {
   "cell_type": "code",
   "execution_count": 14,
   "id": "3f208963",
   "metadata": {
    "execution": {
     "iopub.execute_input": "2023-10-09T21:42:52.083049Z",
     "iopub.status.busy": "2023-10-09T21:42:52.082331Z",
     "iopub.status.idle": "2023-10-09T21:42:52.090211Z",
     "shell.execute_reply": "2023-10-09T21:42:52.089012Z"
    },
    "papermill": {
     "duration": 0.032226,
     "end_time": "2023-10-09T21:42:52.092587",
     "exception": false,
     "start_time": "2023-10-09T21:42:52.060361",
     "status": "completed"
    },
    "tags": []
   },
   "outputs": [
    {
     "data": {
      "text/plain": [
       "0    0.383838\n",
       "1    1.000000\n",
       "2    0.383838\n",
       "3    0.500000\n",
       "4    0.383838\n",
       "Name: Cabin, dtype: float64"
      ]
     },
     "execution_count": 14,
     "metadata": {},
     "output_type": "execute_result"
    }
   ],
   "source": [
    "df_train[\"Cabin\"].head(5)"
   ]
  },
  {
   "cell_type": "code",
   "execution_count": 15,
   "id": "7eb84589",
   "metadata": {
    "execution": {
     "iopub.execute_input": "2023-10-09T21:42:52.138935Z",
     "iopub.status.busy": "2023-10-09T21:42:52.138207Z",
     "iopub.status.idle": "2023-10-09T21:42:52.154025Z",
     "shell.execute_reply": "2023-10-09T21:42:52.152550Z"
    },
    "papermill": {
     "duration": 0.042099,
     "end_time": "2023-10-09T21:42:52.156596",
     "exception": false,
     "start_time": "2023-10-09T21:42:52.114497",
     "status": "completed"
    },
    "tags": []
   },
   "outputs": [
    {
     "data": {
      "text/html": [
       "<div>\n",
       "<style scoped>\n",
       "    .dataframe tbody tr th:only-of-type {\n",
       "        vertical-align: middle;\n",
       "    }\n",
       "\n",
       "    .dataframe tbody tr th {\n",
       "        vertical-align: top;\n",
       "    }\n",
       "\n",
       "    .dataframe thead th {\n",
       "        text-align: right;\n",
       "    }\n",
       "</style>\n",
       "<table border=\"1\" class=\"dataframe\">\n",
       "  <thead>\n",
       "    <tr style=\"text-align: right;\">\n",
       "      <th></th>\n",
       "      <th>PassengerId</th>\n",
       "      <th>Pclass</th>\n",
       "      <th>Name</th>\n",
       "      <th>Sex</th>\n",
       "      <th>Age</th>\n",
       "      <th>SibSp</th>\n",
       "      <th>Parch</th>\n",
       "      <th>Ticket</th>\n",
       "      <th>Fare</th>\n",
       "      <th>Cabin</th>\n",
       "      <th>Embarked</th>\n",
       "    </tr>\n",
       "  </thead>\n",
       "  <tbody>\n",
       "    <tr>\n",
       "      <th>0</th>\n",
       "      <td>892</td>\n",
       "      <td>3</td>\n",
       "      <td>Kelly, Mr. James</td>\n",
       "      <td>male</td>\n",
       "      <td>34.5</td>\n",
       "      <td>0</td>\n",
       "      <td>0</td>\n",
       "      <td>330911</td>\n",
       "      <td>7.8292</td>\n",
       "      <td>0.383838</td>\n",
       "      <td>Q</td>\n",
       "    </tr>\n",
       "    <tr>\n",
       "      <th>1</th>\n",
       "      <td>893</td>\n",
       "      <td>3</td>\n",
       "      <td>Wilkes, Mrs. James (Ellen Needs)</td>\n",
       "      <td>female</td>\n",
       "      <td>47.0</td>\n",
       "      <td>1</td>\n",
       "      <td>0</td>\n",
       "      <td>363272</td>\n",
       "      <td>7.0000</td>\n",
       "      <td>1.000000</td>\n",
       "      <td>S</td>\n",
       "    </tr>\n",
       "    <tr>\n",
       "      <th>2</th>\n",
       "      <td>894</td>\n",
       "      <td>2</td>\n",
       "      <td>Myles, Mr. Thomas Francis</td>\n",
       "      <td>male</td>\n",
       "      <td>62.0</td>\n",
       "      <td>0</td>\n",
       "      <td>0</td>\n",
       "      <td>240276</td>\n",
       "      <td>9.6875</td>\n",
       "      <td>0.383838</td>\n",
       "      <td>Q</td>\n",
       "    </tr>\n",
       "    <tr>\n",
       "      <th>3</th>\n",
       "      <td>895</td>\n",
       "      <td>3</td>\n",
       "      <td>Wirz, Mr. Albert</td>\n",
       "      <td>male</td>\n",
       "      <td>27.0</td>\n",
       "      <td>0</td>\n",
       "      <td>0</td>\n",
       "      <td>315154</td>\n",
       "      <td>8.6625</td>\n",
       "      <td>0.500000</td>\n",
       "      <td>S</td>\n",
       "    </tr>\n",
       "    <tr>\n",
       "      <th>4</th>\n",
       "      <td>896</td>\n",
       "      <td>3</td>\n",
       "      <td>Hirvonen, Mrs. Alexander (Helga E Lindqvist)</td>\n",
       "      <td>female</td>\n",
       "      <td>22.0</td>\n",
       "      <td>1</td>\n",
       "      <td>1</td>\n",
       "      <td>3101298</td>\n",
       "      <td>12.2875</td>\n",
       "      <td>0.383838</td>\n",
       "      <td>S</td>\n",
       "    </tr>\n",
       "  </tbody>\n",
       "</table>\n",
       "</div>"
      ],
      "text/plain": [
       "   PassengerId  Pclass                                          Name     Sex  \\\n",
       "0          892       3                              Kelly, Mr. James    male   \n",
       "1          893       3              Wilkes, Mrs. James (Ellen Needs)  female   \n",
       "2          894       2                     Myles, Mr. Thomas Francis    male   \n",
       "3          895       3                              Wirz, Mr. Albert    male   \n",
       "4          896       3  Hirvonen, Mrs. Alexander (Helga E Lindqvist)  female   \n",
       "\n",
       "    Age  SibSp  Parch   Ticket     Fare     Cabin Embarked  \n",
       "0  34.5      0      0   330911   7.8292  0.383838        Q  \n",
       "1  47.0      1      0   363272   7.0000  1.000000        S  \n",
       "2  62.0      0      0   240276   9.6875  0.383838        Q  \n",
       "3  27.0      0      0   315154   8.6625  0.500000        S  \n",
       "4  22.0      1      1  3101298  12.2875  0.383838        S  "
      ]
     },
     "execution_count": 15,
     "metadata": {},
     "output_type": "execute_result"
    }
   ],
   "source": [
    "# cheak test data\n",
    "df_test.head()"
   ]
  },
  {
   "cell_type": "code",
   "execution_count": 16,
   "id": "b6086c0a",
   "metadata": {
    "execution": {
     "iopub.execute_input": "2023-10-09T21:42:52.201054Z",
     "iopub.status.busy": "2023-10-09T21:42:52.200628Z",
     "iopub.status.idle": "2023-10-09T21:42:52.211026Z",
     "shell.execute_reply": "2023-10-09T21:42:52.209699Z"
    },
    "papermill": {
     "duration": 0.036684,
     "end_time": "2023-10-09T21:42:52.214254",
     "exception": false,
     "start_time": "2023-10-09T21:42:52.177570",
     "status": "completed"
    },
    "tags": []
   },
   "outputs": [
    {
     "name": "stdout",
     "output_type": "stream",
     "text": [
      "Show the first five rows    PassengerId  Survived  Pclass  \\\n",
      "0            1         0       3   \n",
      "1            2         1       1   \n",
      "2            3         1       3   \n",
      "3            4         1       1   \n",
      "4            5         0       3   \n",
      "\n",
      "                                                Name     Sex   Age  SibSp  \\\n",
      "0                            Braund, Mr. Owen Harris    male  22.0      1   \n",
      "1  Cumings, Mrs. John Bradley (Florence Briggs Th...  female  38.0      1   \n",
      "2                             Heikkinen, Miss. Laina  female  26.0      0   \n",
      "3       Futrelle, Mrs. Jacques Heath (Lily May Peel)  female  35.0      1   \n",
      "4                           Allen, Mr. William Henry    male  35.0      0   \n",
      "\n",
      "   Parch            Ticket     Fare     Cabin Embarked  \n",
      "0      0         A/5 21171   7.2500  0.383838        S  \n",
      "1      0          PC 17599  71.2833  1.000000        C  \n",
      "2      0  STON/O2. 3101282   7.9250  0.383838        S  \n",
      "3      0            113803  53.1000  0.500000        S  \n",
      "4      0            373450   8.0500  0.383838        S  \n"
     ]
    }
   ],
   "source": [
    "print(f\"Show the first five rows {df_train.head()}\")"
   ]
  },
  {
   "cell_type": "code",
   "execution_count": 17,
   "id": "e2d09cb4",
   "metadata": {
    "execution": {
     "iopub.execute_input": "2023-10-09T21:42:52.257650Z",
     "iopub.status.busy": "2023-10-09T21:42:52.257287Z",
     "iopub.status.idle": "2023-10-09T21:42:52.269524Z",
     "shell.execute_reply": "2023-10-09T21:42:52.267984Z"
    },
    "papermill": {
     "duration": 0.036638,
     "end_time": "2023-10-09T21:42:52.271910",
     "exception": false,
     "start_time": "2023-10-09T21:42:52.235272",
     "status": "completed"
    },
    "tags": []
   },
   "outputs": [
    {
     "name": "stdout",
     "output_type": "stream",
     "text": [
      "count    891.000000\n",
      "mean       0.383838\n",
      "std        0.486592\n",
      "min        0.000000\n",
      "25%        0.000000\n",
      "50%        0.000000\n",
      "75%        1.000000\n",
      "max        1.000000\n",
      "Name: Survived, dtype: float64\n"
     ]
    }
   ],
   "source": [
    "print(df_train[\"Survived\"].describe())"
   ]
  },
  {
   "cell_type": "code",
   "execution_count": 18,
   "id": "8f29dda0",
   "metadata": {
    "execution": {
     "iopub.execute_input": "2023-10-09T21:42:52.317115Z",
     "iopub.status.busy": "2023-10-09T21:42:52.316041Z",
     "iopub.status.idle": "2023-10-09T21:42:52.651328Z",
     "shell.execute_reply": "2023-10-09T21:42:52.650163Z"
    },
    "papermill": {
     "duration": 0.360629,
     "end_time": "2023-10-09T21:42:52.654229",
     "exception": false,
     "start_time": "2023-10-09T21:42:52.293600",
     "status": "completed"
    },
    "tags": []
   },
   "outputs": [
    {
     "data": {
      "text/plain": [
       "(array([549.,   0.,   0.,   0.,   0.,   0.,   0.,   0.,   0.,   0.,   0.,\n",
       "          0.,   0.,   0.,   0.,   0.,   0.,   0.,   0.,   0.,   0.,   0.,\n",
       "          0.,   0.,   0.,   0.,   0.,   0.,   0., 342.]),\n",
       " array([0.        , 0.03333333, 0.06666667, 0.1       , 0.13333333,\n",
       "        0.16666667, 0.2       , 0.23333333, 0.26666667, 0.3       ,\n",
       "        0.33333333, 0.36666667, 0.4       , 0.43333333, 0.46666667,\n",
       "        0.5       , 0.53333333, 0.56666667, 0.6       , 0.63333333,\n",
       "        0.66666667, 0.7       , 0.73333333, 0.76666667, 0.8       ,\n",
       "        0.83333333, 0.86666667, 0.9       , 0.93333333, 0.96666667,\n",
       "        1.        ]),\n",
       " <BarContainer object of 30 artists>)"
      ]
     },
     "execution_count": 18,
     "metadata": {},
     "output_type": "execute_result"
    },
    {
     "data": {
      "image/png": "[encoded data removed]",
      "text/plain": [
       "<Figure size 1000x1200 with 1 Axes>"
      ]
     },
     "metadata": {},
     "output_type": "display_data"
    }
   ],
   "source": [
    "# ploting data Survived\n",
    "plt.figure(figsize=(10,12))\n",
    "\n",
    "plt.hist(df_train[\"Survived\"], bins=30, color='blue', alpha=0.7)\n"
   ]
  },
  {
   "cell_type": "code",
   "execution_count": 19,
   "id": "14c4ad7c",
   "metadata": {
    "execution": {
     "iopub.execute_input": "2023-10-09T21:42:52.706244Z",
     "iopub.status.busy": "2023-10-09T21:42:52.704918Z",
     "iopub.status.idle": "2023-10-09T21:42:52.712327Z",
     "shell.execute_reply": "2023-10-09T21:42:52.711190Z"
    },
    "papermill": {
     "duration": 0.037477,
     "end_time": "2023-10-09T21:42:52.714687",
     "exception": false,
     "start_time": "2023-10-09T21:42:52.677210",
     "status": "completed"
    },
    "tags": []
   },
   "outputs": [],
   "source": [
    "df_test = df_test.drop(columns=['PassengerId'])"
   ]
  },
  {
   "cell_type": "code",
   "execution_count": 20,
   "id": "adaaf284",
   "metadata": {
    "execution": {
     "iopub.execute_input": "2023-10-09T21:42:52.770097Z",
     "iopub.status.busy": "2023-10-09T21:42:52.769163Z",
     "iopub.status.idle": "2023-10-09T21:42:52.776139Z",
     "shell.execute_reply": "2023-10-09T21:42:52.774798Z"
    },
    "papermill": {
     "duration": 0.040947,
     "end_time": "2023-10-09T21:42:52.778641",
     "exception": false,
     "start_time": "2023-10-09T21:42:52.737694",
     "status": "completed"
    },
    "tags": []
   },
   "outputs": [],
   "source": [
    "df_train = df_train.drop(columns=['PassengerId'])"
   ]
  },
  {
   "cell_type": "markdown",
   "id": "74a54e1a",
   "metadata": {
    "papermill": {
     "duration": 0.024098,
     "end_time": "2023-10-09T21:42:52.827928",
     "exception": false,
     "start_time": "2023-10-09T21:42:52.803830",
     "status": "completed"
    },
    "tags": []
   },
   "source": [
    "* pclass refers to passenger class (1st, 2nd, 3rd), and is a proxy for socio-economic class. Age is in years, and some infants had fractional values. The titanic2 data frame has no missing data and includes records for the crew, but age is dichotomized at adult vs. child.\n"
   ]
  },
  {
   "cell_type": "code",
   "execution_count": 21,
   "id": "ce86cc46",
   "metadata": {
    "execution": {
     "iopub.execute_input": "2023-10-09T21:42:52.875431Z",
     "iopub.status.busy": "2023-10-09T21:42:52.874663Z",
     "iopub.status.idle": "2023-10-09T21:42:52.881917Z",
     "shell.execute_reply": "2023-10-09T21:42:52.880776Z"
    },
    "papermill": {
     "duration": 0.033285,
     "end_time": "2023-10-09T21:42:52.884330",
     "exception": false,
     "start_time": "2023-10-09T21:42:52.851045",
     "status": "completed"
    },
    "tags": []
   },
   "outputs": [
    {
     "name": "stdout",
     "output_type": "stream",
     "text": [
      "First Five rows \n",
      " 0    3\n",
      "1    1\n",
      "2    3\n",
      "3    1\n",
      "4    3\n",
      "Name: Pclass, dtype: int64\n"
     ]
    }
   ],
   "source": [
    "#  Show the first five rows (Pclass)\n",
    "print(\"First Five rows \\n\",df_train[\"Pclass\"].head())"
   ]
  },
  {
   "cell_type": "code",
   "execution_count": 22,
   "id": "a932916c",
   "metadata": {
    "execution": {
     "iopub.execute_input": "2023-10-09T21:42:52.937341Z",
     "iopub.status.busy": "2023-10-09T21:42:52.936461Z",
     "iopub.status.idle": "2023-10-09T21:42:53.307952Z",
     "shell.execute_reply": "2023-10-09T21:42:53.306867Z"
    },
    "papermill": {
     "duration": 0.397448,
     "end_time": "2023-10-09T21:42:53.310225",
     "exception": false,
     "start_time": "2023-10-09T21:42:52.912777",
     "status": "completed"
    },
    "tags": []
   },
   "outputs": [
    {
     "data": {
      "image/png": "[encoded data removed]",
      "text/plain": [
       "<Figure size 640x480 with 1 Axes>"
      ]
     },
     "metadata": {},
     "output_type": "display_data"
    }
   ],
   "source": [
    "# Group data by 'Survived' and 'Pclass'\n",
    "survived_Pclass = df_train[df_train['Survived'] == 1]['Pclass']\n",
    "not_survived_Pclass = df_train[df_train['Survived'] == 0]['Pclass']\n",
    "\n",
    "# Create a grouped bar plot\n",
    "plt.hist([survived_Pclass, not_survived_Pclass], bins=20, label=['Survived', 'Not Survived'], alpha=0.7, color=['blue', 'red'])\n",
    "\n",
    "# Add labels and title\n",
    "plt.xlabel('Pclass')\n",
    "plt.ylabel('Count')\n",
    "plt.title('Distribution of Pclass by Survival')\n",
    "\n",
    "# Add legend\n",
    "plt.legend()\n",
    "\n",
    "# Show the plot\n",
    "plt.show()\n"
   ]
  },
  {
   "cell_type": "markdown",
   "id": "713769ec",
   "metadata": {
    "papermill": {
     "duration": 0.022019,
     "end_time": "2023-10-09T21:42:53.355178",
     "exception": false,
     "start_time": "2023-10-09T21:42:53.333159",
     "status": "completed"
    },
    "tags": []
   },
   "source": [
    "We see here that the success rate in the third degree was very small, and the percentage of success was greater in the first degree."
   ]
  },
  {
   "cell_type": "code",
   "execution_count": 23,
   "id": "dd78edb2",
   "metadata": {
    "execution": {
     "iopub.execute_input": "2023-10-09T21:42:53.402625Z",
     "iopub.status.busy": "2023-10-09T21:42:53.401583Z",
     "iopub.status.idle": "2023-10-09T21:42:53.409093Z",
     "shell.execute_reply": "2023-10-09T21:42:53.407796Z"
    },
    "papermill": {
     "duration": 0.033454,
     "end_time": "2023-10-09T21:42:53.411234",
     "exception": false,
     "start_time": "2023-10-09T21:42:53.377780",
     "status": "completed"
    },
    "tags": []
   },
   "outputs": [
    {
     "name": "stdout",
     "output_type": "stream",
     "text": [
      "Number of missing values pclass 0\n"
     ]
    }
   ],
   "source": [
    "# Check for missing values in the \"Pclass\" column\n",
    "missing_values_pclass = df_train[\"Pclass\"].isnull()\n",
    "\n",
    "# Print the result\n",
    "print(\"Number of missing values pclass\",missing_values_pclass.sum())"
   ]
  },
  {
   "cell_type": "markdown",
   "id": "a2d7f4d4",
   "metadata": {
    "papermill": {
     "duration": 0.021981,
     "end_time": "2023-10-09T21:42:53.457032",
     "exception": false,
     "start_time": "2023-10-09T21:42:53.435051",
     "status": "completed"
    },
    "tags": []
   },
   "source": [
    "sibsp. Number of Siblings/Spouses Aboard. parch. Number of Parents/Children Aboard.\n"
   ]
  },
  {
   "cell_type": "code",
   "execution_count": 24,
   "id": "fcf5f612",
   "metadata": {
    "execution": {
     "iopub.execute_input": "2023-10-09T21:42:53.504673Z",
     "iopub.status.busy": "2023-10-09T21:42:53.503810Z",
     "iopub.status.idle": "2023-10-09T21:42:53.511335Z",
     "shell.execute_reply": "2023-10-09T21:42:53.509611Z"
    },
    "papermill": {
     "duration": 0.034153,
     "end_time": "2023-10-09T21:42:53.513462",
     "exception": false,
     "start_time": "2023-10-09T21:42:53.479309",
     "status": "completed"
    },
    "tags": []
   },
   "outputs": [
    {
     "name": "stdout",
     "output_type": "stream",
     "text": [
      "First Five rows \n",
      "  0    1\n",
      "1    1\n",
      "2    0\n",
      "3    1\n",
      "4    0\n",
      "5    0\n",
      "6    0\n",
      "7    3\n",
      "8    0\n",
      "9    1\n",
      "Name: SibSp, dtype: int64\n"
     ]
    }
   ],
   "source": [
    "# show the first five rows in sibsp\n",
    "print(\"First Five rows \\n \" ,df_train[\"SibSp\"].head(10))"
   ]
  },
  {
   "cell_type": "markdown",
   "id": "f9844496",
   "metadata": {
    "papermill": {
     "duration": 0.021818,
     "end_time": "2023-10-09T21:42:53.557510",
     "exception": false,
     "start_time": "2023-10-09T21:42:53.535692",
     "status": "completed"
    },
    "tags": []
   },
   "source": [
    "- Here for the people who came alone, the column was zero, meaning zero for the person alone, while the column one meant one person with the person who came, i.e. two and three. We will create a new column for the total number of people who attended the trip."
   ]
  },
  {
   "cell_type": "code",
   "execution_count": 25,
   "id": "c70b6a34",
   "metadata": {
    "execution": {
     "iopub.execute_input": "2023-10-09T21:42:53.603644Z",
     "iopub.status.busy": "2023-10-09T21:42:53.603254Z",
     "iopub.status.idle": "2023-10-09T21:42:53.610280Z",
     "shell.execute_reply": "2023-10-09T21:42:53.609488Z"
    },
    "papermill": {
     "duration": 0.032699,
     "end_time": "2023-10-09T21:42:53.612215",
     "exception": false,
     "start_time": "2023-10-09T21:42:53.579516",
     "status": "completed"
    },
    "tags": []
   },
   "outputs": [],
   "source": [
    "df_train[\"SibSp_total\"] = df_train[\"SibSp\"]+1\n",
    "df_test[\"SibSp_total\"] = df_test[\"SibSp\"]+1\n",
    "\n"
   ]
  },
  {
   "cell_type": "code",
   "execution_count": 26,
   "id": "e2b9164d",
   "metadata": {
    "execution": {
     "iopub.execute_input": "2023-10-09T21:42:53.660739Z",
     "iopub.status.busy": "2023-10-09T21:42:53.660118Z",
     "iopub.status.idle": "2023-10-09T21:42:53.666771Z",
     "shell.execute_reply": "2023-10-09T21:42:53.666007Z"
    },
    "papermill": {
     "duration": 0.034373,
     "end_time": "2023-10-09T21:42:53.668881",
     "exception": false,
     "start_time": "2023-10-09T21:42:53.634508",
     "status": "completed"
    },
    "tags": []
   },
   "outputs": [],
   "source": [
    "df_test  = df_test.drop(columns =[\"SibSp\"])\n",
    "df_train = df_train.drop(columns =[\"SibSp\"])"
   ]
  },
  {
   "cell_type": "code",
   "execution_count": 27,
   "id": "d759adcc",
   "metadata": {
    "execution": {
     "iopub.execute_input": "2023-10-09T21:42:53.716365Z",
     "iopub.status.busy": "2023-10-09T21:42:53.715823Z",
     "iopub.status.idle": "2023-10-09T21:42:53.725418Z",
     "shell.execute_reply": "2023-10-09T21:42:53.724106Z"
    },
    "papermill": {
     "duration": 0.036341,
     "end_time": "2023-10-09T21:42:53.727657",
     "exception": false,
     "start_time": "2023-10-09T21:42:53.691316",
     "status": "completed"
    },
    "tags": []
   },
   "outputs": [
    {
     "data": {
      "text/plain": [
       "0      2\n",
       "1      2\n",
       "2      1\n",
       "3      2\n",
       "4      1\n",
       "      ..\n",
       "886    1\n",
       "887    1\n",
       "888    2\n",
       "889    1\n",
       "890    1\n",
       "Name: SibSp_total, Length: 891, dtype: int64"
      ]
     },
     "execution_count": 27,
     "metadata": {},
     "output_type": "execute_result"
    }
   ],
   "source": [
    "df_train[\"SibSp_total\"]"
   ]
  },
  {
   "cell_type": "code",
   "execution_count": 28,
   "id": "d81d923b",
   "metadata": {
    "execution": {
     "iopub.execute_input": "2023-10-09T21:42:53.784054Z",
     "iopub.status.busy": "2023-10-09T21:42:53.782563Z",
     "iopub.status.idle": "2023-10-09T21:42:53.792183Z",
     "shell.execute_reply": "2023-10-09T21:42:53.791256Z"
    },
    "papermill": {
     "duration": 0.042631,
     "end_time": "2023-10-09T21:42:53.794484",
     "exception": false,
     "start_time": "2023-10-09T21:42:53.751853",
     "status": "completed"
    },
    "tags": []
   },
   "outputs": [],
   "source": [
    "#People who survived relative to SibSp_total\n",
    "Survived_SibSp = df_train[df_train['Survived'] == 1]['SibSp_total']\n",
    "nonSurvived_SibSp = df_train[df_train['Survived'] == 0]['SibSp_total']"
   ]
  },
  {
   "cell_type": "code",
   "execution_count": 29,
   "id": "71e28d5a",
   "metadata": {
    "execution": {
     "iopub.execute_input": "2023-10-09T21:42:53.846258Z",
     "iopub.status.busy": "2023-10-09T21:42:53.845896Z",
     "iopub.status.idle": "2023-10-09T21:42:54.233404Z",
     "shell.execute_reply": "2023-10-09T21:42:54.232267Z"
    },
    "papermill": {
     "duration": 0.417731,
     "end_time": "2023-10-09T21:42:54.235729",
     "exception": false,
     "start_time": "2023-10-09T21:42:53.817998",
     "status": "completed"
    },
    "tags": []
   },
   "outputs": [
    {
     "data": {
      "image/png": "[encoded data removed]",
      "text/plain": [
       "<Figure size 640x480 with 1 Axes>"
      ]
     },
     "metadata": {},
     "output_type": "display_data"
    }
   ],
   "source": [
    "# Show People who survived relative to SibSp_total\n",
    "# Create a histogram for Survived_SibSp\n",
    "plt.hist(Survived_SibSp, bins=20, label='Survived', alpha=0.7, color='blue')\n",
    "\n",
    "# Create a histogram for nonSurvived_SibSp\n",
    "plt.hist(nonSurvived_SibSp, bins=20, label='Not Survived', alpha=0.7, color='red')\n",
    "\n",
    "# Add labels and title\n",
    "plt.xlabel('SibSp_total')\n",
    "plt.ylabel('Count')\n",
    "plt.title('Distribution of SibSp_total by Survival')\n",
    "\n",
    "# Add legend\n",
    "plt.legend()\n",
    "\n",
    "# Show the plot\n",
    "plt.show()\n"
   ]
  },
  {
   "cell_type": "markdown",
   "id": "f373c46c",
   "metadata": {
    "papermill": {
     "duration": 0.022241,
     "end_time": "2023-10-09T21:42:54.280001",
     "exception": false,
     "start_time": "2023-10-09T21:42:54.257760",
     "status": "completed"
    },
    "tags": []
   },
   "source": [
    "Parch - how many children & parents of the passenger aboard the Titanic"
   ]
  },
  {
   "cell_type": "code",
   "execution_count": 30,
   "id": "2d36c82d",
   "metadata": {
    "execution": {
     "iopub.execute_input": "2023-10-09T21:42:54.326441Z",
     "iopub.status.busy": "2023-10-09T21:42:54.326061Z",
     "iopub.status.idle": "2023-10-09T21:42:54.332119Z",
     "shell.execute_reply": "2023-10-09T21:42:54.331003Z"
    },
    "papermill": {
     "duration": 0.032818,
     "end_time": "2023-10-09T21:42:54.335095",
     "exception": false,
     "start_time": "2023-10-09T21:42:54.302277",
     "status": "completed"
    },
    "tags": []
   },
   "outputs": [
    {
     "name": "stdout",
     "output_type": "stream",
     "text": [
      "The first five rows \n",
      " 0      0\n",
      "1      0\n",
      "2      0\n",
      "3      0\n",
      "4      0\n",
      "      ..\n",
      "886    0\n",
      "887    0\n",
      "888    2\n",
      "889    0\n",
      "890    0\n",
      "Name: Parch, Length: 891, dtype: int64\n"
     ]
    }
   ],
   "source": [
    "# Show the first five rows\n",
    "print(\"The first five rows \\n\",df_train[\"Parch\"])"
   ]
  },
  {
   "cell_type": "code",
   "execution_count": 31,
   "id": "601218a8",
   "metadata": {
    "execution": {
     "iopub.execute_input": "2023-10-09T21:42:54.382043Z",
     "iopub.status.busy": "2023-10-09T21:42:54.381292Z",
     "iopub.status.idle": "2023-10-09T21:42:54.842009Z",
     "shell.execute_reply": "2023-10-09T21:42:54.840859Z"
    },
    "papermill": {
     "duration": 0.486958,
     "end_time": "2023-10-09T21:42:54.844317",
     "exception": false,
     "start_time": "2023-10-09T21:42:54.357359",
     "status": "completed"
    },
    "tags": []
   },
   "outputs": [
    {
     "data": {
      "text/plain": [
       "<seaborn.axisgrid.FacetGrid at 0x7aad7a1bf3a0>"
      ]
     },
     "execution_count": 31,
     "metadata": {},
     "output_type": "execute_result"
    },
    {
     "data": {
      "image/png": "[encoded data removed]",
      "text/plain": [
       "<Figure size 500x500 with 1 Axes>"
      ]
     },
     "metadata": {},
     "output_type": "display_data"
    }
   ],
   "source": [
    "# Displot Parch\n",
    "sns.displot(df_train[\"Parch\"], kde=True, color='blue')"
   ]
  },
  {
   "cell_type": "code",
   "execution_count": 32,
   "id": "654851a0",
   "metadata": {
    "execution": {
     "iopub.execute_input": "2023-10-09T21:42:54.892957Z",
     "iopub.status.busy": "2023-10-09T21:42:54.892546Z",
     "iopub.status.idle": "2023-10-09T21:42:54.899311Z",
     "shell.execute_reply": "2023-10-09T21:42:54.898532Z"
    },
    "papermill": {
     "duration": 0.034024,
     "end_time": "2023-10-09T21:42:54.901440",
     "exception": false,
     "start_time": "2023-10-09T21:42:54.867416",
     "status": "completed"
    },
    "tags": []
   },
   "outputs": [],
   "source": [
    "# Survival rate for Parch\n",
    "Survived_Parch = df_train[df_train['Survived'] == 1]['Parch']\n",
    "nonSurvived_Parch = df_train[df_train['Survived'] == 0]['Parch']"
   ]
  },
  {
   "cell_type": "code",
   "execution_count": 33,
   "id": "90252892",
   "metadata": {
    "execution": {
     "iopub.execute_input": "2023-10-09T21:42:54.950343Z",
     "iopub.status.busy": "2023-10-09T21:42:54.949655Z",
     "iopub.status.idle": "2023-10-09T21:42:54.955650Z",
     "shell.execute_reply": "2023-10-09T21:42:54.954624Z"
    },
    "papermill": {
     "duration": 0.033167,
     "end_time": "2023-10-09T21:42:54.957918",
     "exception": false,
     "start_time": "2023-10-09T21:42:54.924751",
     "status": "completed"
    },
    "tags": []
   },
   "outputs": [],
   "source": [
    "Survived_Parch_ = (Survived_Parch / df_train.shape[0]) * 100"
   ]
  },
  {
   "cell_type": "code",
   "execution_count": 34,
   "id": "ecefe06e",
   "metadata": {
    "execution": {
     "iopub.execute_input": "2023-10-09T21:42:55.006338Z",
     "iopub.status.busy": "2023-10-09T21:42:55.005217Z",
     "iopub.status.idle": "2023-10-09T21:42:55.010844Z",
     "shell.execute_reply": "2023-10-09T21:42:55.009618Z"
    },
    "papermill": {
     "duration": 0.032075,
     "end_time": "2023-10-09T21:42:55.013085",
     "exception": false,
     "start_time": "2023-10-09T21:42:54.981010",
     "status": "completed"
    },
    "tags": []
   },
   "outputs": [
    {
     "name": "stdout",
     "output_type": "stream",
     "text": [
      "Survival rate: 17.845117845117848\n"
     ]
    }
   ],
   "source": [
    "# Show result \n",
    "print(\"Survival rate: {0}\".format(Survived_Parch_.sum()))"
   ]
  },
  {
   "cell_type": "code",
   "execution_count": 35,
   "id": "9da66805",
   "metadata": {
    "execution": {
     "iopub.execute_input": "2023-10-09T21:42:55.063772Z",
     "iopub.status.busy": "2023-10-09T21:42:55.063379Z",
     "iopub.status.idle": "2023-10-09T21:42:55.329564Z",
     "shell.execute_reply": "2023-10-09T21:42:55.328035Z"
    },
    "papermill": {
     "duration": 0.294587,
     "end_time": "2023-10-09T21:42:55.332334",
     "exception": false,
     "start_time": "2023-10-09T21:42:55.037747",
     "status": "completed"
    },
    "tags": []
   },
   "outputs": [
    {
     "data": {
      "image/png": "[encoded data removed]",
      "text/plain": [
       "<Figure size 640x480 with 1 Axes>"
      ]
     },
     "metadata": {},
     "output_type": "display_data"
    }
   ],
   "source": [
    "\n",
    "# Create a histogram for Survived_Parch\n",
    "plt.hist(Survived_Parch, bins=20, label='Survived', alpha=0.7, color='red')\n",
    "\n",
    "# Create a histogram for nonSurvived_Parch\n",
    "plt.hist(nonSurvived_Parch, bins=20, label='Not Survived', alpha=0.7, color='purple')\n",
    "\n",
    "# Add labels and title\n",
    "plt.xlabel('Parch')\n",
    "plt.ylabel('Count')\n",
    "plt.title('Distribution of Parch by Survival')\n",
    "\n",
    "# Add legend\n",
    "plt.legend()\n",
    "\n",
    "# Show the plot\n",
    "plt.show()\n"
   ]
  },
  {
   "cell_type": "code",
   "execution_count": 36,
   "id": "e8ae3a46",
   "metadata": {
    "execution": {
     "iopub.execute_input": "2023-10-09T21:42:55.382395Z",
     "iopub.status.busy": "2023-10-09T21:42:55.381565Z",
     "iopub.status.idle": "2023-10-09T21:42:55.390639Z",
     "shell.execute_reply": "2023-10-09T21:42:55.389433Z"
    },
    "papermill": {
     "duration": 0.036968,
     "end_time": "2023-10-09T21:42:55.393057",
     "exception": false,
     "start_time": "2023-10-09T21:42:55.356089",
     "status": "completed"
    },
    "tags": []
   },
   "outputs": [
    {
     "data": {
      "text/plain": [
       "0        7.8292\n",
       "1        7.0000\n",
       "2        9.6875\n",
       "3        8.6625\n",
       "4       12.2875\n",
       "         ...   \n",
       "413      8.0500\n",
       "414    108.9000\n",
       "415      7.2500\n",
       "416      8.0500\n",
       "417     22.3583\n",
       "Name: Fare, Length: 418, dtype: float64"
      ]
     },
     "execution_count": 36,
     "metadata": {},
     "output_type": "execute_result"
    }
   ],
   "source": [
    "# Show Fare\n",
    "df_test[\"Fare\"]"
   ]
  },
  {
   "cell_type": "code",
   "execution_count": 37,
   "id": "6eed9d30",
   "metadata": {
    "execution": {
     "iopub.execute_input": "2023-10-09T21:42:55.442975Z",
     "iopub.status.busy": "2023-10-09T21:42:55.442160Z",
     "iopub.status.idle": "2023-10-09T21:42:55.836799Z",
     "shell.execute_reply": "2023-10-09T21:42:55.835942Z"
    },
    "papermill": {
     "duration": 0.422163,
     "end_time": "2023-10-09T21:42:55.839150",
     "exception": false,
     "start_time": "2023-10-09T21:42:55.416987",
     "status": "completed"
    },
    "tags": []
   },
   "outputs": [
    {
     "data": {
      "image/png": "[encoded data removed]",
      "text/plain": [
       "<Figure size 640x480 with 1 Axes>"
      ]
     },
     "metadata": {},
     "output_type": "display_data"
    }
   ],
   "source": [
    "# Group data by 'Survived' and 'Fare'\n",
    "survived_fares = df_train[df_train['Survived'] == 1]['Fare']\n",
    "not_survived_fares = df_train[df_train['Survived'] == 0]['Fare']\n",
    "\n",
    "# Create a grouped bar plot\n",
    "plt.hist([survived_fares, not_survived_fares], bins=20, label=['Survived', 'Not Survived'], alpha=0.7, color=['blue', 'red'])\n",
    "\n",
    "# Add labels and title\n",
    "plt.xlabel('Fare')\n",
    "plt.ylabel('Count')\n",
    "plt.title('Distribution of Fare by Survival')\n",
    "\n",
    "# Add legend\n",
    "plt.legend()\n",
    "\n",
    "# Show the plot\n",
    "plt.show()\n"
   ]
  },
  {
   "cell_type": "code",
   "execution_count": 38,
   "id": "6e4483a0",
   "metadata": {
    "execution": {
     "iopub.execute_input": "2023-10-09T21:42:55.890915Z",
     "iopub.status.busy": "2023-10-09T21:42:55.889828Z",
     "iopub.status.idle": "2023-10-09T21:42:55.896334Z",
     "shell.execute_reply": "2023-10-09T21:42:55.895127Z"
    },
    "papermill": {
     "duration": 0.035426,
     "end_time": "2023-10-09T21:42:55.899174",
     "exception": false,
     "start_time": "2023-10-09T21:42:55.863748",
     "status": "completed"
    },
    "tags": []
   },
   "outputs": [],
   "source": [
    "#Pre_proscessing null's (test)\n",
    "df_test[\"Fare\"] = df_test[\"Fare\"].fillna(df_train.Fare.mean())\n"
   ]
  },
  {
   "cell_type": "markdown",
   "id": "d188f2f4",
   "metadata": {
    "papermill": {
     "duration": 0.024467,
     "end_time": "2023-10-09T21:42:55.948402",
     "exception": false,
     "start_time": "2023-10-09T21:42:55.923935",
     "status": "completed"
    },
    "tags": []
   },
   "source": [
    "After graphical analysis of the digital data, we found that this data does not help much in the survival of passengers. Therefore, we will analyze categorical data to ascertain the best features that help the model get the best prediction accuracy."
   ]
  },
  {
   "cell_type": "code",
   "execution_count": 39,
   "id": "565139a5",
   "metadata": {
    "execution": {
     "iopub.execute_input": "2023-10-09T21:42:55.997966Z",
     "iopub.status.busy": "2023-10-09T21:42:55.997567Z",
     "iopub.status.idle": "2023-10-09T21:42:56.006392Z",
     "shell.execute_reply": "2023-10-09T21:42:56.004955Z"
    },
    "papermill": {
     "duration": 0.036734,
     "end_time": "2023-10-09T21:42:56.009060",
     "exception": false,
     "start_time": "2023-10-09T21:42:55.972326",
     "status": "completed"
    },
    "tags": []
   },
   "outputs": [
    {
     "name": "stdout",
     "output_type": "stream",
     "text": [
      "Age : 0      22.0\n",
      "1      38.0\n",
      "2      26.0\n",
      "3      35.0\n",
      "4      35.0\n",
      "       ... \n",
      "886    27.0\n",
      "887    19.0\n",
      "888     NaN\n",
      "889    26.0\n",
      "890    32.0\n",
      "Name: Age, Length: 891, dtype: float64\n"
     ]
    }
   ],
   "source": [
    "# Show first five rows (Age)\n",
    "print(\"Age :\",df_train[\"Age\"])"
   ]
  },
  {
   "cell_type": "code",
   "execution_count": 40,
   "id": "a677dec1",
   "metadata": {
    "execution": {
     "iopub.execute_input": "2023-10-09T21:42:56.060807Z",
     "iopub.status.busy": "2023-10-09T21:42:56.059996Z",
     "iopub.status.idle": "2023-10-09T21:42:56.067916Z",
     "shell.execute_reply": "2023-10-09T21:42:56.066479Z"
    },
    "papermill": {
     "duration": 0.036644,
     "end_time": "2023-10-09T21:42:56.070111",
     "exception": false,
     "start_time": "2023-10-09T21:42:56.033467",
     "status": "completed"
    },
    "tags": []
   },
   "outputs": [
    {
     "name": "stdout",
     "output_type": "stream",
     "text": [
      "Number of null's: 177 \n"
     ]
    }
   ],
   "source": [
    "# Number of null's\n",
    "print(\"Number of null's: {0} \".format(df_train[\"Age\"].isnull().sum()))"
   ]
  },
  {
   "cell_type": "code",
   "execution_count": 41,
   "id": "f5ff7854",
   "metadata": {
    "execution": {
     "iopub.execute_input": "2023-10-09T21:42:56.122130Z",
     "iopub.status.busy": "2023-10-09T21:42:56.120629Z",
     "iopub.status.idle": "2023-10-09T21:42:56.401649Z",
     "shell.execute_reply": "2023-10-09T21:42:56.400506Z"
    },
    "papermill": {
     "duration": 0.309385,
     "end_time": "2023-10-09T21:42:56.404194",
     "exception": false,
     "start_time": "2023-10-09T21:42:56.094809",
     "status": "completed"
    },
    "tags": []
   },
   "outputs": [
    {
     "data": {
      "image/png": "[encoded data removed]",
      "text/plain": [
       "<Figure size 640x480 with 1 Axes>"
      ]
     },
     "metadata": {},
     "output_type": "display_data"
    }
   ],
   "source": [
    "# Survival rate for Age\n",
    "Survived_Parch = df_train[df_train['Survived'] == 1]['Age']\n",
    "nonSurvived_Parch = df_train[df_train['Survived'] == 0]['Age']\n",
    "\n",
    "# Create a histogram for Survived_Parch with color blue\n",
    "plt.hist(Survived_Parch, bins=20, label='Survived', alpha=0.7, color='blue')\n",
    "\n",
    "# Create a histogram for nonSurvived_Parch with color red\n",
    "plt.hist(nonSurvived_Parch, bins=20, label='Not Survived', alpha=0.7, color='red')\n",
    "\n",
    "# Add labels and title\n",
    "plt.xlabel('Age')\n",
    "plt.ylabel('Count')\n",
    "plt.title('Distribution of Age by Survival')\n",
    "\n",
    "# Add legend\n",
    "plt.legend()\n",
    "\n",
    "# Show the plot\n",
    "plt.show()\n"
   ]
  },
  {
   "cell_type": "code",
   "execution_count": 42,
   "id": "67248b3c",
   "metadata": {
    "execution": {
     "iopub.execute_input": "2023-10-09T21:42:56.456318Z",
     "iopub.status.busy": "2023-10-09T21:42:56.454983Z",
     "iopub.status.idle": "2023-10-09T21:42:56.463080Z",
     "shell.execute_reply": "2023-10-09T21:42:56.461884Z"
    },
    "papermill": {
     "duration": 0.036829,
     "end_time": "2023-10-09T21:42:56.465401",
     "exception": false,
     "start_time": "2023-10-09T21:42:56.428572",
     "status": "completed"
    },
    "tags": []
   },
   "outputs": [
    {
     "name": "stdout",
     "output_type": "stream",
     "text": [
      "Correlation between Age and Survived: -0.07722109457217768\n"
     ]
    }
   ],
   "source": [
    "# calculate the correlation between Age & Survived\n",
    "correlation = df_train['Age'].corr(df_train['Survived'])\n",
    "\n",
    "print(f\"Correlation between Age and Survived: {correlation}\")\n"
   ]
  },
  {
   "cell_type": "code",
   "execution_count": 43,
   "id": "01203dee",
   "metadata": {
    "execution": {
     "iopub.execute_input": "2023-10-09T21:42:56.516696Z",
     "iopub.status.busy": "2023-10-09T21:42:56.516349Z",
     "iopub.status.idle": "2023-10-09T21:42:56.523493Z",
     "shell.execute_reply": "2023-10-09T21:42:56.522721Z"
    },
    "papermill": {
     "duration": 0.03506,
     "end_time": "2023-10-09T21:42:56.525397",
     "exception": false,
     "start_time": "2023-10-09T21:42:56.490337",
     "status": "completed"
    },
    "tags": []
   },
   "outputs": [],
   "source": [
    "# pre_processing for Null's in Age\n",
    "df_train[\"Age\"] = df_train[\"Age\"].fillna(df_train.Age.mean())\n",
    "df_test[\"Age\"] = df_test[\"Age\"].fillna(df_train.Age.mean())\n",
    "\n"
   ]
  },
  {
   "cell_type": "code",
   "execution_count": 44,
   "id": "51eaada4",
   "metadata": {
    "execution": {
     "iopub.execute_input": "2023-10-09T21:42:56.577632Z",
     "iopub.status.busy": "2023-10-09T21:42:56.577239Z",
     "iopub.status.idle": "2023-10-09T21:42:56.585820Z",
     "shell.execute_reply": "2023-10-09T21:42:56.584648Z"
    },
    "papermill": {
     "duration": 0.037916,
     "end_time": "2023-10-09T21:42:56.588044",
     "exception": false,
     "start_time": "2023-10-09T21:42:56.550128",
     "status": "completed"
    },
    "tags": []
   },
   "outputs": [
    {
     "data": {
      "text/plain": [
       "0    22.000000\n",
       "1    38.000000\n",
       "2    26.000000\n",
       "3    35.000000\n",
       "4    35.000000\n",
       "5    29.699118\n",
       "6    54.000000\n",
       "7     2.000000\n",
       "8    27.000000\n",
       "9    14.000000\n",
       "Name: Age, dtype: float64"
      ]
     },
     "execution_count": 44,
     "metadata": {},
     "output_type": "execute_result"
    }
   ],
   "source": [
    "#cheak train \n",
    "df_train['Age'].head(10)\n"
   ]
  },
  {
   "cell_type": "code",
   "execution_count": 45,
   "id": "43807856",
   "metadata": {
    "execution": {
     "iopub.execute_input": "2023-10-09T21:42:56.640073Z",
     "iopub.status.busy": "2023-10-09T21:42:56.639620Z",
     "iopub.status.idle": "2023-10-09T21:42:56.648631Z",
     "shell.execute_reply": "2023-10-09T21:42:56.647227Z"
    },
    "papermill": {
     "duration": 0.037947,
     "end_time": "2023-10-09T21:42:56.650803",
     "exception": false,
     "start_time": "2023-10-09T21:42:56.612856",
     "status": "completed"
    },
    "tags": []
   },
   "outputs": [
    {
     "name": "stdout",
     "output_type": "stream",
     "text": [
      "_________cheak_test______________ \n",
      "\n"
     ]
    },
    {
     "data": {
      "text/plain": [
       "0    34.5\n",
       "1    47.0\n",
       "2    62.0\n",
       "3    27.0\n",
       "4    22.0\n",
       "5    14.0\n",
       "6    30.0\n",
       "7    26.0\n",
       "8    18.0\n",
       "9    21.0\n",
       "Name: Age, dtype: float64"
      ]
     },
     "execution_count": 45,
     "metadata": {},
     "output_type": "execute_result"
    }
   ],
   "source": [
    "print(\"_________cheak_test______________ \\n\")\n",
    "df_test[\"Age\"].head(10)"
   ]
  },
  {
   "cell_type": "code",
   "execution_count": 46,
   "id": "061e4c47",
   "metadata": {
    "execution": {
     "iopub.execute_input": "2023-10-09T21:42:56.705534Z",
     "iopub.status.busy": "2023-10-09T21:42:56.705121Z",
     "iopub.status.idle": "2023-10-09T21:42:56.713384Z",
     "shell.execute_reply": "2023-10-09T21:42:56.712017Z"
    },
    "papermill": {
     "duration": 0.038811,
     "end_time": "2023-10-09T21:42:56.716017",
     "exception": false,
     "start_time": "2023-10-09T21:42:56.677206",
     "status": "completed"
    },
    "tags": []
   },
   "outputs": [
    {
     "data": {
      "text/plain": [
       "0"
      ]
     },
     "execution_count": 46,
     "metadata": {},
     "output_type": "execute_result"
    }
   ],
   "source": [
    "df_train['Age'].isnull().sum()"
   ]
  },
  {
   "cell_type": "code",
   "execution_count": 47,
   "id": "f7b255fb",
   "metadata": {
    "execution": {
     "iopub.execute_input": "2023-10-09T21:42:56.770381Z",
     "iopub.status.busy": "2023-10-09T21:42:56.770000Z",
     "iopub.status.idle": "2023-10-09T21:42:57.424693Z",
     "shell.execute_reply": "2023-10-09T21:42:57.423863Z"
    },
    "papermill": {
     "duration": 0.684235,
     "end_time": "2023-10-09T21:42:57.426682",
     "exception": false,
     "start_time": "2023-10-09T21:42:56.742447",
     "status": "completed"
    },
    "tags": []
   },
   "outputs": [
    {
     "data": {
      "image/png": "[encoded data removed]",
      "text/plain": [
       "<Figure size 1000x600 with 1 Axes>"
      ]
     },
     "metadata": {},
     "output_type": "display_data"
    }
   ],
   "source": [
    "survived = df_train[df_train['Survived'] == 1]\n",
    "not_survived = df_train[df_train['Survived'] == 0]\n",
    "\n",
    "# Create histograms for Age\n",
    "plt.figure(figsize=(10, 6))\n",
    "sns.histplot(survived['Age'], label='Survived', kde=True, color='blue', bins=70)\n",
    "sns.histplot(not_survived['Age'], label='Not Survived', kde=True, color='red', bins=70)\n",
    "\n",
    "# Add labels and title\n",
    "plt.xlabel('Age')\n",
    "plt.ylabel('Count')\n",
    "plt.title('Distribution of Age by Survival')\n",
    "plt.legend()\n",
    "\n",
    "# Show the plot\n",
    "plt.show()"
   ]
  },
  {
   "cell_type": "code",
   "execution_count": 48,
   "id": "57889a61",
   "metadata": {
    "execution": {
     "iopub.execute_input": "2023-10-09T21:42:57.483376Z",
     "iopub.status.busy": "2023-10-09T21:42:57.482177Z",
     "iopub.status.idle": "2023-10-09T21:42:57.491174Z",
     "shell.execute_reply": "2023-10-09T21:42:57.490023Z"
    },
    "papermill": {
     "duration": 0.040806,
     "end_time": "2023-10-09T21:42:57.493966",
     "exception": false,
     "start_time": "2023-10-09T21:42:57.453160",
     "status": "completed"
    },
    "tags": []
   },
   "outputs": [],
   "source": [
    "# Relation between Survived  another columens \n",
    "string_columns = df_train.select_dtypes(include='object').columns\n",
    "df_corr = df_train.drop(string_columns,axis=1)\n",
    "corr = df_corr.corr()"
   ]
  },
  {
   "cell_type": "code",
   "execution_count": 49,
   "id": "300d02ed",
   "metadata": {
    "execution": {
     "iopub.execute_input": "2023-10-09T21:42:57.548960Z",
     "iopub.status.busy": "2023-10-09T21:42:57.547641Z",
     "iopub.status.idle": "2023-10-09T21:42:58.358119Z",
     "shell.execute_reply": "2023-10-09T21:42:58.356811Z"
    },
    "papermill": {
     "duration": 0.839877,
     "end_time": "2023-10-09T21:42:58.360373",
     "exception": false,
     "start_time": "2023-10-09T21:42:57.520496",
     "status": "completed"
    },
    "tags": []
   },
   "outputs": [
    {
     "data": {
      "text/plain": [
       "<seaborn.axisgrid.FacetGrid at 0x7aad7991bbe0>"
      ]
     },
     "execution_count": 49,
     "metadata": {},
     "output_type": "execute_result"
    },
    {
     "data": {
      "text/plain": [
       "<Figure size 1000x1200 with 0 Axes>"
      ]
     },
     "metadata": {},
     "output_type": "display_data"
    },
    {
     "data": {
      "image/png": "[encoded data removed]",
      "text/plain": [
       "<Figure size 628.125x500 with 1 Axes>"
      ]
     },
     "metadata": {},
     "output_type": "display_data"
    }
   ],
   "source": [
    "plt.figure(figsize=(10,12))\n",
    "sns.displot(corr, kde=True, color='blue')"
   ]
  },
  {
   "cell_type": "code",
   "execution_count": 50,
   "id": "a3c8a1bd",
   "metadata": {
    "execution": {
     "iopub.execute_input": "2023-10-09T21:42:58.425021Z",
     "iopub.status.busy": "2023-10-09T21:42:58.424309Z",
     "iopub.status.idle": "2023-10-09T21:42:58.923519Z",
     "shell.execute_reply": "2023-10-09T21:42:58.922241Z"
    },
    "papermill": {
     "duration": 0.537376,
     "end_time": "2023-10-09T21:42:58.925836",
     "exception": false,
     "start_time": "2023-10-09T21:42:58.388460",
     "status": "completed"
    },
    "tags": []
   },
   "outputs": [
    {
     "data": {
      "text/plain": [
       "<Axes: >"
      ]
     },
     "execution_count": 50,
     "metadata": {},
     "output_type": "execute_result"
    },
    {
     "data": {
      "image/png": "[encoded data removed]",
      "text/plain": [
       "<Figure size 1000x800 with 2 Axes>"
      ]
     },
     "metadata": {},
     "output_type": "display_data"
    }
   ],
   "source": [
    "# Create a heatmap\n",
    "plt.figure(figsize=(10, 8))\n",
    "sns.heatmap(corr, annot=True, cmap='coolwarm', fmt=\".2f\")"
   ]
  },
  {
   "cell_type": "markdown",
   "id": "164e91d7",
   "metadata": {
    "papermill": {
     "duration": 0.028029,
     "end_time": "2023-10-09T21:42:58.982679",
     "exception": false,
     "start_time": "2023-10-09T21:42:58.954650",
     "status": "completed"
    },
    "tags": []
   },
   "source": [
    "# categorical data"
   ]
  },
  {
   "cell_type": "code",
   "execution_count": 51,
   "id": "5bd2f280",
   "metadata": {
    "execution": {
     "iopub.execute_input": "2023-10-09T21:42:59.042301Z",
     "iopub.status.busy": "2023-10-09T21:42:59.041935Z",
     "iopub.status.idle": "2023-10-09T21:42:59.047931Z",
     "shell.execute_reply": "2023-10-09T21:42:59.046637Z"
    },
    "papermill": {
     "duration": 0.037997,
     "end_time": "2023-10-09T21:42:59.050158",
     "exception": false,
     "start_time": "2023-10-09T21:42:59.012161",
     "status": "completed"
    },
    "tags": []
   },
   "outputs": [
    {
     "name": "stdout",
     "output_type": "stream",
     "text": [
      "male\n"
     ]
    }
   ],
   "source": [
    "# show columns Sex\n",
    "print(df_train[\"Sex\"][5])"
   ]
  },
  {
   "cell_type": "code",
   "execution_count": 52,
   "id": "ab0b42ad",
   "metadata": {
    "execution": {
     "iopub.execute_input": "2023-10-09T21:42:59.110128Z",
     "iopub.status.busy": "2023-10-09T21:42:59.109466Z",
     "iopub.status.idle": "2023-10-09T21:42:59.118214Z",
     "shell.execute_reply": "2023-10-09T21:42:59.117009Z"
    },
    "papermill": {
     "duration": 0.041868,
     "end_time": "2023-10-09T21:42:59.120760",
     "exception": false,
     "start_time": "2023-10-09T21:42:59.078892",
     "status": "completed"
    },
    "tags": []
   },
   "outputs": [],
   "source": [
    "# lambda function to convert categories to binary\n",
    "binary_converter = lambda X : 1 if X == \"female\" else 0\n",
    "df_train[\"Sex\"] = df_train[\"Sex\"].apply(binary_converter)\n",
    "df_test[\"Sex\"]= df_test[\"Sex\"].apply(binary_converter)\n"
   ]
  },
  {
   "cell_type": "code",
   "execution_count": 53,
   "id": "fc7d1d8f",
   "metadata": {
    "execution": {
     "iopub.execute_input": "2023-10-09T21:42:59.180598Z",
     "iopub.status.busy": "2023-10-09T21:42:59.179699Z",
     "iopub.status.idle": "2023-10-09T21:42:59.186334Z",
     "shell.execute_reply": "2023-10-09T21:42:59.185543Z"
    },
    "papermill": {
     "duration": 0.037995,
     "end_time": "2023-10-09T21:42:59.188237",
     "exception": false,
     "start_time": "2023-10-09T21:42:59.150242",
     "status": "completed"
    },
    "tags": []
   },
   "outputs": [
    {
     "data": {
      "text/plain": [
       "0"
      ]
     },
     "execution_count": 53,
     "metadata": {},
     "output_type": "execute_result"
    }
   ],
   "source": [
    "df_train[\"Sex\"][5]"
   ]
  },
  {
   "cell_type": "code",
   "execution_count": 54,
   "id": "cf520753",
   "metadata": {
    "execution": {
     "iopub.execute_input": "2023-10-09T21:42:59.247331Z",
     "iopub.status.busy": "2023-10-09T21:42:59.246636Z",
     "iopub.status.idle": "2023-10-09T21:42:59.688457Z",
     "shell.execute_reply": "2023-10-09T21:42:59.687372Z"
    },
    "papermill": {
     "duration": 0.473993,
     "end_time": "2023-10-09T21:42:59.690668",
     "exception": false,
     "start_time": "2023-10-09T21:42:59.216675",
     "status": "completed"
    },
    "tags": []
   },
   "outputs": [
    {
     "data": {
      "text/plain": [
       "<seaborn.axisgrid.FacetGrid at 0x7aad74b7d720>"
      ]
     },
     "execution_count": 54,
     "metadata": {},
     "output_type": "execute_result"
    },
    {
     "data": {
      "text/plain": [
       "<Figure size 800x400 with 0 Axes>"
      ]
     },
     "metadata": {},
     "output_type": "display_data"
    },
    {
     "data": {
      "image/png": "[encoded data removed]",
      "text/plain": [
       "<Figure size 500x500 with 1 Axes>"
      ]
     },
     "metadata": {},
     "output_type": "display_data"
    }
   ],
   "source": [
    "# plot Sex\n",
    "\n",
    "plt.figure(figsize=(8,4))\n",
    "sns.displot(df_train.Sex, kde=True, color='blue')"
   ]
  },
  {
   "cell_type": "code",
   "execution_count": 55,
   "id": "e413889b",
   "metadata": {
    "execution": {
     "iopub.execute_input": "2023-10-09T21:42:59.750460Z",
     "iopub.status.busy": "2023-10-09T21:42:59.749307Z",
     "iopub.status.idle": "2023-10-09T21:42:59.756155Z",
     "shell.execute_reply": "2023-10-09T21:42:59.754892Z"
    },
    "papermill": {
     "duration": 0.039273,
     "end_time": "2023-10-09T21:42:59.758364",
     "exception": false,
     "start_time": "2023-10-09T21:42:59.719091",
     "status": "completed"
    },
    "tags": []
   },
   "outputs": [
    {
     "name": "stdout",
     "output_type": "stream",
     "text": [
      "[0, 1, 1, 1, 0, 0]\n"
     ]
    }
   ],
   "source": [
    "Sex = list(df_train.Sex)\n",
    "print(Sex[:6])"
   ]
  },
  {
   "cell_type": "code",
   "execution_count": 56,
   "id": "7575c1c0",
   "metadata": {
    "execution": {
     "iopub.execute_input": "2023-10-09T21:42:59.820391Z",
     "iopub.status.busy": "2023-10-09T21:42:59.819696Z",
     "iopub.status.idle": "2023-10-09T21:42:59.826581Z",
     "shell.execute_reply": "2023-10-09T21:42:59.825203Z"
    },
    "papermill": {
     "duration": 0.042014,
     "end_time": "2023-10-09T21:42:59.828889",
     "exception": false,
     "start_time": "2023-10-09T21:42:59.786875",
     "status": "completed"
    },
    "tags": []
   },
   "outputs": [
    {
     "name": "stdout",
     "output_type": "stream",
     "text": [
      " Number of Male:577\n",
      " Number of Female:314\n"
     ]
    }
   ],
   "source": [
    "# How many Male  and how many Female \n",
    "Female=0\n",
    "Male=0\n",
    "for i in Sex:\n",
    "    if i == 0:\n",
    "        Male=Male+1\n",
    "    else:\n",
    "        Female =Female+1\n",
    "        \n",
    "print(\" Number of Male:{0}\\n Number of Female:{1}\".format(Male,Female))"
   ]
  },
  {
   "cell_type": "code",
   "execution_count": 57,
   "id": "2836a862",
   "metadata": {
    "execution": {
     "iopub.execute_input": "2023-10-09T21:42:59.889493Z",
     "iopub.status.busy": "2023-10-09T21:42:59.889130Z",
     "iopub.status.idle": "2023-10-09T21:42:59.895619Z",
     "shell.execute_reply": "2023-10-09T21:42:59.894327Z"
    },
    "papermill": {
     "duration": 0.03895,
     "end_time": "2023-10-09T21:42:59.897742",
     "exception": false,
     "start_time": "2023-10-09T21:42:59.858792",
     "status": "completed"
    },
    "tags": []
   },
   "outputs": [
    {
     "name": "stdout",
     "output_type": "stream",
     "text": [
      "Female Ratio:35.24130190796858\n"
     ]
    }
   ],
   "source": [
    "#Female ratio\n",
    "Total_Sex = df_train[\"Sex\"].shape[0]\n",
    "Female_percent =((Female)/Total_Sex)*100\n",
    "print(f\"Female Ratio:{Female_percent}\")\n",
    "\n",
    "\n"
   ]
  },
  {
   "cell_type": "code",
   "execution_count": 58,
   "id": "2337207b",
   "metadata": {
    "execution": {
     "iopub.execute_input": "2023-10-09T21:42:59.959886Z",
     "iopub.status.busy": "2023-10-09T21:42:59.959172Z",
     "iopub.status.idle": "2023-10-09T21:42:59.963997Z",
     "shell.execute_reply": "2023-10-09T21:42:59.963202Z"
    },
    "papermill": {
     "duration": 0.037211,
     "end_time": "2023-10-09T21:42:59.965802",
     "exception": false,
     "start_time": "2023-10-09T21:42:59.928591",
     "status": "completed"
    },
    "tags": []
   },
   "outputs": [
    {
     "name": "stdout",
     "output_type": "stream",
     "text": [
      "Male Ratio:64.75869809203144\n"
     ]
    }
   ],
   "source": [
    "#Male ratio\n",
    "Male_percent =((Male)/Total_Sex)*100\n",
    "\n",
    "print(f\"Male Ratio:{Male_percent}\")"
   ]
  },
  {
   "cell_type": "code",
   "execution_count": 59,
   "id": "b420099f",
   "metadata": {
    "execution": {
     "iopub.execute_input": "2023-10-09T21:43:00.027581Z",
     "iopub.status.busy": "2023-10-09T21:43:00.026824Z",
     "iopub.status.idle": "2023-10-09T21:43:00.036948Z",
     "shell.execute_reply": "2023-10-09T21:43:00.035658Z"
    },
    "papermill": {
     "duration": 0.043316,
     "end_time": "2023-10-09T21:43:00.039093",
     "exception": false,
     "start_time": "2023-10-09T21:42:59.995777",
     "status": "completed"
    },
    "tags": []
   },
   "outputs": [
    {
     "name": "stdout",
     "output_type": "stream",
     "text": [
      "Male is survived :109\n",
      "Female is survived :233\n"
     ]
    }
   ],
   "source": [
    "# How many Male is Survied  and how many Female is Survied \n",
    "\n",
    "Male_Survived  = len(df_train[(df_train['Sex'] == 0) & (df_train['Survived'] == 1)])\n",
    "Female_Survived = len(df_train[(df_train['Sex'] == 1) & (df_train['Survived'] == 1)])\n",
    "\n",
    "                \n",
    "print(\"Male is survived :{0}\".format(Male_Survived))\n",
    "print(\"Female is survived :{0}\".format(Female_Survived))\n",
    "\n",
    "    "
   ]
  },
  {
   "cell_type": "code",
   "execution_count": 60,
   "id": "e066de9b",
   "metadata": {
    "execution": {
     "iopub.execute_input": "2023-10-09T21:43:00.101684Z",
     "iopub.status.busy": "2023-10-09T21:43:00.100807Z",
     "iopub.status.idle": "2023-10-09T21:43:00.435291Z",
     "shell.execute_reply": "2023-10-09T21:43:00.434092Z"
    },
    "papermill": {
     "duration": 0.368734,
     "end_time": "2023-10-09T21:43:00.437856",
     "exception": false,
     "start_time": "2023-10-09T21:43:00.069122",
     "status": "completed"
    },
    "tags": []
   },
   "outputs": [
    {
     "data": {
      "image/png": "[encoded data removed]",
      "text/plain": [
       "<Figure size 640x480 with 1 Axes>"
      ]
     },
     "metadata": {},
     "output_type": "display_data"
    }
   ],
   "source": [
    "import matplotlib.pyplot as plt\n",
    "\n",
    "# Group data by 'Survived' and 'Sex'\n",
    "survived_sex = df_train[df_train['Survived'] == 1]['Sex']\n",
    "not_survived_sex = df_train[df_train['Survived'] == 0]['Sex']\n",
    "\n",
    "# Create a grouped bar plot\n",
    "plt.hist([survived_sex, not_survived_sex], bins=20, label=['Survived', 'Not Survived'], alpha=0.7, color=['blue', 'red'])\n",
    "\n",
    "# Add labels and title\n",
    "plt.xlabel('Sex')\n",
    "plt.ylabel('Count')\n",
    "plt.title('Distribution of Survival by Sex')\n",
    "\n",
    "# Add legend\n",
    "plt.legend()\n",
    "\n",
    "# Show the plot\n",
    "plt.show()\n"
   ]
  },
  {
   "cell_type": "markdown",
   "id": "e54cf1ad",
   "metadata": {
    "papermill": {
     "duration": 0.029721,
     "end_time": "2023-10-09T21:43:00.498728",
     "exception": false,
     "start_time": "2023-10-09T21:43:00.469007",
     "status": "completed"
    },
    "tags": []
   },
   "source": [
    "After reviewing the previous analysis of the gender of the passengers, we see that the number of women who survived the signs of the Titanic is much greater than the number of men who survived, knowing that the number of men was greater than the number of women on the ship. Therefore, we see that the gender column is very strong and affects survival on the ship."
   ]
  },
  {
   "cell_type": "code",
   "execution_count": 61,
   "id": "956b0a0d",
   "metadata": {
    "execution": {
     "iopub.execute_input": "2023-10-09T21:43:00.560548Z",
     "iopub.status.busy": "2023-10-09T21:43:00.560137Z",
     "iopub.status.idle": "2023-10-09T21:43:00.568246Z",
     "shell.execute_reply": "2023-10-09T21:43:00.567473Z"
    },
    "papermill": {
     "duration": 0.041245,
     "end_time": "2023-10-09T21:43:00.569972",
     "exception": false,
     "start_time": "2023-10-09T21:43:00.528727",
     "status": "completed"
    },
    "tags": []
   },
   "outputs": [
    {
     "data": {
      "text/plain": [
       "0             A/5 21171\n",
       "1              PC 17599\n",
       "2      STON/O2. 3101282\n",
       "3                113803\n",
       "4                373450\n",
       "             ...       \n",
       "886              211536\n",
       "887              112053\n",
       "888          W./C. 6607\n",
       "889              111369\n",
       "890              370376\n",
       "Name: Ticket, Length: 891, dtype: object"
      ]
     },
     "execution_count": 61,
     "metadata": {},
     "output_type": "execute_result"
    }
   ],
   "source": [
    "# show columns Ticket \n",
    "df_train[\"Ticket\"]"
   ]
  },
  {
   "cell_type": "code",
   "execution_count": 62,
   "id": "50d952d1",
   "metadata": {
    "execution": {
     "iopub.execute_input": "2023-10-09T21:43:00.631820Z",
     "iopub.status.busy": "2023-10-09T21:43:00.631389Z",
     "iopub.status.idle": "2023-10-09T21:43:00.639035Z",
     "shell.execute_reply": "2023-10-09T21:43:00.637821Z"
    },
    "papermill": {
     "duration": 0.041691,
     "end_time": "2023-10-09T21:43:00.641462",
     "exception": false,
     "start_time": "2023-10-09T21:43:00.599771",
     "status": "completed"
    },
    "tags": []
   },
   "outputs": [],
   "source": [
    "df_train = df_train.drop(columns=['Ticket'])\n",
    "df_test = df_test.drop(columns=['Ticket'])\n"
   ]
  },
  {
   "cell_type": "markdown",
   "id": "d59246cf",
   "metadata": {
    "papermill": {
     "duration": 0.029579,
     "end_time": "2023-10-09T21:43:00.702161",
     "exception": false,
     "start_time": "2023-10-09T21:43:00.672582",
     "status": "completed"
    },
    "tags": []
   },
   "source": [
    "In this step, we have converted the tick column into several columns containing the tick type"
   ]
  },
  {
   "cell_type": "code",
   "execution_count": 63,
   "id": "69b9d5ee",
   "metadata": {
    "execution": {
     "iopub.execute_input": "2023-10-09T21:43:00.765246Z",
     "iopub.status.busy": "2023-10-09T21:43:00.764845Z",
     "iopub.status.idle": "2023-10-09T21:43:00.771858Z",
     "shell.execute_reply": "2023-10-09T21:43:00.770721Z"
    },
    "papermill": {
     "duration": 0.041065,
     "end_time": "2023-10-09T21:43:00.774093",
     "exception": false,
     "start_time": "2023-10-09T21:43:00.733028",
     "status": "completed"
    },
    "tags": []
   },
   "outputs": [
    {
     "data": {
      "text/plain": [
       "Index(['Survived', 'Pclass', 'Name', 'Sex', 'Age', 'Parch', 'Fare', 'Cabin',\n",
       "       'Embarked', 'SibSp_total'],\n",
       "      dtype='object')"
      ]
     },
     "execution_count": 63,
     "metadata": {},
     "output_type": "execute_result"
    }
   ],
   "source": [
    "df_train.columns"
   ]
  },
  {
   "cell_type": "code",
   "execution_count": 64,
   "id": "7e497e36",
   "metadata": {
    "execution": {
     "iopub.execute_input": "2023-10-09T21:43:00.840346Z",
     "iopub.status.busy": "2023-10-09T21:43:00.839947Z",
     "iopub.status.idle": "2023-10-09T21:43:00.847928Z",
     "shell.execute_reply": "2023-10-09T21:43:00.846814Z"
    },
    "papermill": {
     "duration": 0.045222,
     "end_time": "2023-10-09T21:43:00.850255",
     "exception": false,
     "start_time": "2023-10-09T21:43:00.805033",
     "status": "completed"
    },
    "tags": []
   },
   "outputs": [
    {
     "data": {
      "text/plain": [
       "0    S\n",
       "1    C\n",
       "2    S\n",
       "3    S\n",
       "4    S\n",
       "Name: Embarked, dtype: object"
      ]
     },
     "execution_count": 64,
     "metadata": {},
     "output_type": "execute_result"
    }
   ],
   "source": [
    "#Show columns Embarked\n",
    "df_train.Embarked.head()"
   ]
  },
  {
   "cell_type": "code",
   "execution_count": 65,
   "id": "c898ef6b",
   "metadata": {
    "execution": {
     "iopub.execute_input": "2023-10-09T21:43:00.914261Z",
     "iopub.status.busy": "2023-10-09T21:43:00.913758Z",
     "iopub.status.idle": "2023-10-09T21:43:00.921031Z",
     "shell.execute_reply": "2023-10-09T21:43:00.919878Z"
    },
    "papermill": {
     "duration": 0.042572,
     "end_time": "2023-10-09T21:43:00.923753",
     "exception": false,
     "start_time": "2023-10-09T21:43:00.881181",
     "status": "completed"
    },
    "tags": []
   },
   "outputs": [
    {
     "data": {
      "text/plain": [
       "array(['S', 'C', 'Q', nan], dtype=object)"
      ]
     },
     "execution_count": 65,
     "metadata": {},
     "output_type": "execute_result"
    }
   ],
   "source": [
    "df_train.Embarked.unique()"
   ]
  },
  {
   "cell_type": "code",
   "execution_count": 66,
   "id": "5f6cd728",
   "metadata": {
    "execution": {
     "iopub.execute_input": "2023-10-09T21:43:00.988257Z",
     "iopub.status.busy": "2023-10-09T21:43:00.987865Z",
     "iopub.status.idle": "2023-10-09T21:43:01.255655Z",
     "shell.execute_reply": "2023-10-09T21:43:01.254411Z"
    },
    "papermill": {
     "duration": 0.304015,
     "end_time": "2023-10-09T21:43:01.258122",
     "exception": false,
     "start_time": "2023-10-09T21:43:00.954107",
     "status": "completed"
    },
    "tags": []
   },
   "outputs": [
    {
     "data": {
      "image/png": "[encoded data removed]",
      "text/plain": [
       "<Figure size 640x480 with 1 Axes>"
      ]
     },
     "metadata": {},
     "output_type": "display_data"
    }
   ],
   "source": [
    "counts = df_train.groupby(['Embarked','Survived']).size().unstack()\n",
    "\n",
    "# Create a stacked bar chart\n",
    "counts.plot(kind='bar', stacked=True)\n",
    "\n",
    "# Add labels and title\n",
    "plt.xlabel('Survived')\n",
    "plt.ylabel('Count')\n",
    "\n",
    "# Show the plot\n",
    "plt.show()"
   ]
  },
  {
   "cell_type": "code",
   "execution_count": 67,
   "id": "b1ba567c",
   "metadata": {
    "execution": {
     "iopub.execute_input": "2023-10-09T21:43:01.321506Z",
     "iopub.status.busy": "2023-10-09T21:43:01.321086Z",
     "iopub.status.idle": "2023-10-09T21:43:01.331218Z",
     "shell.execute_reply": "2023-10-09T21:43:01.330006Z"
    },
    "papermill": {
     "duration": 0.044837,
     "end_time": "2023-10-09T21:43:01.333573",
     "exception": false,
     "start_time": "2023-10-09T21:43:01.288736",
     "status": "completed"
    },
    "tags": []
   },
   "outputs": [
    {
     "data": {
      "text/plain": [
       "0      Q\n",
       "1      S\n",
       "2      Q\n",
       "3      S\n",
       "4      S\n",
       "      ..\n",
       "413    S\n",
       "414    C\n",
       "415    S\n",
       "416    S\n",
       "417    C\n",
       "Name: Embarked, Length: 418, dtype: object"
      ]
     },
     "execution_count": 67,
     "metadata": {},
     "output_type": "execute_result"
    }
   ],
   "source": [
    "# Replace null's to zeros\n",
    "df_train[\"Embarked\"].fillna(0)\n",
    "df_test[\"Embarked\"].fillna(0)"
   ]
  },
  {
   "cell_type": "code",
   "execution_count": 68,
   "id": "9538f524",
   "metadata": {
    "execution": {
     "iopub.execute_input": "2023-10-09T21:43:01.397993Z",
     "iopub.status.busy": "2023-10-09T21:43:01.397049Z",
     "iopub.status.idle": "2023-10-09T21:43:01.406490Z",
     "shell.execute_reply": "2023-10-09T21:43:01.405766Z"
    },
    "papermill": {
     "duration": 0.044758,
     "end_time": "2023-10-09T21:43:01.408902",
     "exception": false,
     "start_time": "2023-10-09T21:43:01.364144",
     "status": "completed"
    },
    "tags": []
   },
   "outputs": [
    {
     "name": "stdout",
     "output_type": "stream",
     "text": [
      "Replace result:\n",
      "0    1.0\n",
      "1    3.0\n",
      "2    1.0\n",
      "3    1.0\n",
      "4    1.0\n",
      "Name: Embarked, dtype: float64 \n"
     ]
    }
   ],
   "source": [
    "# convert characters to numbert \n",
    "# define a dictionary \n",
    "charcterTo_number = {\"S\":1,\"Q\":2,\"C\":3}\n",
    "# Replace \n",
    "df_train[\"Embarked\"]=df_train[\"Embarked\"].replace(charcterTo_number)\n",
    "# for data test\n",
    "df_test[\"Embarked\"]=df_test[\"Embarked\"].replace(charcterTo_number)\n",
    "\n",
    "#________________________\n",
    "dd=df_train[\"Embarked\"]\n",
    "# Show result\n",
    "print(f\"Replace result:\\n{dd.head()} \")"
   ]
  },
  {
   "cell_type": "code",
   "execution_count": 69,
   "id": "397181ae",
   "metadata": {
    "execution": {
     "iopub.execute_input": "2023-10-09T21:43:01.473528Z",
     "iopub.status.busy": "2023-10-09T21:43:01.472792Z",
     "iopub.status.idle": "2023-10-09T21:43:01.480619Z",
     "shell.execute_reply": "2023-10-09T21:43:01.479276Z"
    },
    "papermill": {
     "duration": 0.043236,
     "end_time": "2023-10-09T21:43:01.482879",
     "exception": false,
     "start_time": "2023-10-09T21:43:01.439643",
     "status": "completed"
    },
    "tags": []
   },
   "outputs": [
    {
     "data": {
      "text/plain": [
       "0                                Braund, Mr. Owen Harris\n",
       "1      Cumings, Mrs. John Bradley (Florence Briggs Th...\n",
       "2                                 Heikkinen, Miss. Laina\n",
       "3           Futrelle, Mrs. Jacques Heath (Lily May Peel)\n",
       "4                               Allen, Mr. William Henry\n",
       "                             ...                        \n",
       "886                                Montvila, Rev. Juozas\n",
       "887                         Graham, Miss. Margaret Edith\n",
       "888             Johnston, Miss. Catherine Helen \"Carrie\"\n",
       "889                                Behr, Mr. Karl Howell\n",
       "890                                  Dooley, Mr. Patrick\n",
       "Name: Name, Length: 891, dtype: object"
      ]
     },
     "execution_count": 69,
     "metadata": {},
     "output_type": "execute_result"
    }
   ],
   "source": [
    "# show Name\n",
    "df_train.Name"
   ]
  },
  {
   "cell_type": "code",
   "execution_count": 70,
   "id": "3b124e92",
   "metadata": {
    "execution": {
     "iopub.execute_input": "2023-10-09T21:43:01.550925Z",
     "iopub.status.busy": "2023-10-09T21:43:01.549835Z",
     "iopub.status.idle": "2023-10-09T21:43:01.559456Z",
     "shell.execute_reply": "2023-10-09T21:43:01.558475Z"
    },
    "papermill": {
     "duration": 0.048669,
     "end_time": "2023-10-09T21:43:01.562735",
     "exception": false,
     "start_time": "2023-10-09T21:43:01.514066",
     "status": "completed"
    },
    "tags": []
   },
   "outputs": [],
   "source": [
    "#filtering the name\n",
    "\n",
    "df_train[\"Name\"] = df_train[\"Name\"].fillna(0).str.extract(r',\\s*([^\\.]+)\\.', expand=False).str.lower()\n",
    "df_test[\"Name\"] = df_test[\"Name\"].fillna(0).str.extract(r',\\s*([^\\.]+)\\.', expand=False).str.lower()\n",
    "\n"
   ]
  },
  {
   "cell_type": "markdown",
   "id": "ab0a9127",
   "metadata": {
    "papermill": {
     "duration": 0.031975,
     "end_time": "2023-10-09T21:43:01.626832",
     "exception": false,
     "start_time": "2023-10-09T21:43:01.594857",
     "status": "completed"
    },
    "tags": []
   },
   "source": [
    "In this example, we only want titles or titles, so we will use this code to do that"
   ]
  },
  {
   "cell_type": "code",
   "execution_count": 71,
   "id": "0e84d110",
   "metadata": {
    "execution": {
     "iopub.execute_input": "2023-10-09T21:43:01.692496Z",
     "iopub.status.busy": "2023-10-09T21:43:01.691764Z",
     "iopub.status.idle": "2023-10-09T21:43:01.700829Z",
     "shell.execute_reply": "2023-10-09T21:43:01.699359Z"
    },
    "papermill": {
     "duration": 0.044858,
     "end_time": "2023-10-09T21:43:01.703382",
     "exception": false,
     "start_time": "2023-10-09T21:43:01.658524",
     "status": "completed"
    },
    "tags": []
   },
   "outputs": [
    {
     "data": {
      "text/plain": [
       "0        mr\n",
       "1       mrs\n",
       "2      miss\n",
       "3       mrs\n",
       "4        mr\n",
       "       ... \n",
       "886     rev\n",
       "887    miss\n",
       "888    miss\n",
       "889      mr\n",
       "890      mr\n",
       "Name: Name, Length: 891, dtype: object"
      ]
     },
     "execution_count": 71,
     "metadata": {},
     "output_type": "execute_result"
    }
   ],
   "source": [
    "df_train[\"Name\"]"
   ]
  },
  {
   "cell_type": "code",
   "execution_count": 72,
   "id": "bc847455",
   "metadata": {
    "execution": {
     "iopub.execute_input": "2023-10-09T21:43:01.768446Z",
     "iopub.status.busy": "2023-10-09T21:43:01.767790Z",
     "iopub.status.idle": "2023-10-09T21:43:02.292643Z",
     "shell.execute_reply": "2023-10-09T21:43:02.291265Z"
    },
    "papermill": {
     "duration": 0.560394,
     "end_time": "2023-10-09T21:43:02.295096",
     "exception": false,
     "start_time": "2023-10-09T21:43:01.734702",
     "status": "completed"
    },
    "tags": []
   },
   "outputs": [
    {
     "data": {
      "image/png": "[encoded data removed]",
      "text/plain": [
       "<Figure size 640x480 with 1 Axes>"
      ]
     },
     "metadata": {},
     "output_type": "display_data"
    }
   ],
   "source": [
    "sns.barplot(x=df_train[\"Name\"], y=df_train[\"Survived\"], data=df_train)\n",
    "plt.show()\n"
   ]
  },
  {
   "cell_type": "code",
   "execution_count": 73,
   "id": "7916da2a",
   "metadata": {
    "execution": {
     "iopub.execute_input": "2023-10-09T21:43:02.360729Z",
     "iopub.status.busy": "2023-10-09T21:43:02.360337Z",
     "iopub.status.idle": "2023-10-09T21:43:02.367195Z",
     "shell.execute_reply": "2023-10-09T21:43:02.366266Z"
    },
    "papermill": {
     "duration": 0.042173,
     "end_time": "2023-10-09T21:43:02.369321",
     "exception": false,
     "start_time": "2023-10-09T21:43:02.327148",
     "status": "completed"
    },
    "tags": []
   },
   "outputs": [],
   "source": [
    "# conver categorical to numbrical \n",
    "label_encoder = LabelEncoder()\n",
    "df_train[\"Name\"] = label_encoder.fit_transform(df_train[\"Name\"])\n",
    "df_test[\"Name\"] = label_encoder.fit_transform(df_test[\"Name\"])"
   ]
  },
  {
   "cell_type": "code",
   "execution_count": 74,
   "id": "a20350bf",
   "metadata": {
    "execution": {
     "iopub.execute_input": "2023-10-09T21:43:02.435186Z",
     "iopub.status.busy": "2023-10-09T21:43:02.434774Z",
     "iopub.status.idle": "2023-10-09T21:43:02.447625Z",
     "shell.execute_reply": "2023-10-09T21:43:02.446116Z"
    },
    "papermill": {
     "duration": 0.049107,
     "end_time": "2023-10-09T21:43:02.450061",
     "exception": false,
     "start_time": "2023-10-09T21:43:02.400954",
     "status": "completed"
    },
    "tags": []
   },
   "outputs": [
    {
     "name": "stdout",
     "output_type": "stream",
     "text": [
      "<class 'pandas.core.frame.DataFrame'>\n",
      "RangeIndex: 418 entries, 0 to 417\n",
      "Data columns (total 9 columns):\n",
      " #   Column       Non-Null Count  Dtype  \n",
      "---  ------       --------------  -----  \n",
      " 0   Pclass       418 non-null    int64  \n",
      " 1   Name         418 non-null    int64  \n",
      " 2   Sex          418 non-null    int64  \n",
      " 3   Age          418 non-null    float64\n",
      " 4   Parch        418 non-null    int64  \n",
      " 5   Fare         418 non-null    float64\n",
      " 6   Cabin        418 non-null    float64\n",
      " 7   Embarked     418 non-null    int64  \n",
      " 8   SibSp_total  418 non-null    int64  \n",
      "dtypes: float64(3), int64(6)\n",
      "memory usage: 29.5 KB\n"
     ]
    }
   ],
   "source": [
    "df_test.info()"
   ]
  },
  {
   "cell_type": "markdown",
   "id": "675956f4",
   "metadata": {
    "papermill": {
     "duration": 0.032187,
     "end_time": "2023-10-09T21:43:02.514221",
     "exception": false,
     "start_time": "2023-10-09T21:43:02.482034",
     "status": "completed"
    },
    "tags": []
   },
   "source": [
    "# Model Selection\n",
    "We tried several classification algorithms including Logistic Regression, Support Vector Machines, Random Forest, and ensemble techniques like Bagging."
   ]
  },
  {
   "cell_type": "code",
   "execution_count": 75,
   "id": "bd6a467d",
   "metadata": {
    "execution": {
     "iopub.execute_input": "2023-10-09T21:43:02.582368Z",
     "iopub.status.busy": "2023-10-09T21:43:02.581283Z",
     "iopub.status.idle": "2023-10-09T21:43:02.592491Z",
     "shell.execute_reply": "2023-10-09T21:43:02.590951Z"
    },
    "papermill": {
     "duration": 0.047923,
     "end_time": "2023-10-09T21:43:02.595093",
     "exception": false,
     "start_time": "2023-10-09T21:43:02.547170",
     "status": "completed"
    },
    "tags": []
   },
   "outputs": [],
   "source": [
    "# splet split \n",
    "X_train = df_train.drop(columns=[\"Survived\"])\n",
    "y_train =df_train.Survived\n",
    "X_train = X_train.dropna()\n",
    "y_train = y_train[X_train.index]  \n",
    "#____\n",
    "X_test = df_test"
   ]
  },
  {
   "cell_type": "code",
   "execution_count": 76,
   "id": "602d933e",
   "metadata": {
    "execution": {
     "iopub.execute_input": "2023-10-09T21:43:02.661521Z",
     "iopub.status.busy": "2023-10-09T21:43:02.661129Z",
     "iopub.status.idle": "2023-10-09T21:43:02.702487Z",
     "shell.execute_reply": "2023-10-09T21:43:02.701270Z"
    },
    "papermill": {
     "duration": 0.078122,
     "end_time": "2023-10-09T21:43:02.705482",
     "exception": false,
     "start_time": "2023-10-09T21:43:02.627360",
     "status": "completed"
    },
    "tags": []
   },
   "outputs": [
    {
     "data": {
      "text/html": [
       "<style>#sk-container-id-1 {color: black;background-color: white;}#sk-container-id-1 pre{padding: 0;}#sk-container-id-1 div.sk-toggleable {background-color: white;}#sk-container-id-1 label.sk-toggleable__label {cursor: pointer;display: block;width: 100%;margin-bottom: 0;padding: 0.3em;box-sizing: border-box;text-align: center;}#sk-container-id-1 label.sk-toggleable__label-arrow:before {content: \"▸\";float: left;margin-right: 0.25em;color: #696969;}#sk-container-id-1 label.sk-toggleable__label-arrow:hover:before {color: black;}#sk-container-id-1 div.sk-estimator:hover label.sk-toggleable__label-arrow:before {color: black;}#sk-container-id-1 div.sk-toggleable__content {max-height: 0;max-width: 0;overflow: hidden;text-align: left;background-color: #f0f8ff;}#sk-container-id-1 div.sk-toggleable__content pre {margin: 0.2em;color: black;border-radius: 0.25em;background-color: #f0f8ff;}#sk-container-id-1 input.sk-toggleable__control:checked~div.sk-toggleable__content {max-height: 200px;max-width: 100%;overflow: auto;}#sk-container-id-1 input.sk-toggleable__control:checked~label.sk-toggleable__label-arrow:before {content: \"▾\";}#sk-container-id-1 div.sk-estimator input.sk-toggleable__control:checked~label.sk-toggleable__label {background-color: #d4ebff;}#sk-container-id-1 div.sk-label input.sk-toggleable__control:checked~label.sk-toggleable__label {background-color: #d4ebff;}#sk-container-id-1 input.sk-hidden--visually {border: 0;clip: rect(1px 1px 1px 1px);clip: rect(1px, 1px, 1px, 1px);height: 1px;margin: -1px;overflow: hidden;padding: 0;position: absolute;width: 1px;}#sk-container-id-1 div.sk-estimator {font-family: monospace;background-color: #f0f8ff;border: 1px dotted black;border-radius: 0.25em;box-sizing: border-box;margin-bottom: 0.5em;}#sk-container-id-1 div.sk-estimator:hover {background-color: #d4ebff;}#sk-container-id-1 div.sk-parallel-item::after {content: \"\";width: 100%;border-bottom: 1px solid gray;flex-grow: 1;}#sk-container-id-1 div.sk-label:hover label.sk-toggleable__label {background-color: #d4ebff;}#sk-container-id-1 div.sk-serial::before {content: \"\";position: absolute;border-left: 1px solid gray;box-sizing: border-box;top: 0;bottom: 0;left: 50%;z-index: 0;}#sk-container-id-1 div.sk-serial {display: flex;flex-direction: column;align-items: center;background-color: white;padding-right: 0.2em;padding-left: 0.2em;position: relative;}#sk-container-id-1 div.sk-item {position: relative;z-index: 1;}#sk-container-id-1 div.sk-parallel {display: flex;align-items: stretch;justify-content: center;background-color: white;position: relative;}#sk-container-id-1 div.sk-item::before, #sk-container-id-1 div.sk-parallel-item::before {content: \"\";position: absolute;border-left: 1px solid gray;box-sizing: border-box;top: 0;bottom: 0;left: 50%;z-index: -1;}#sk-container-id-1 div.sk-parallel-item {display: flex;flex-direction: column;z-index: 1;position: relative;background-color: white;}#sk-container-id-1 div.sk-parallel-item:first-child::after {align-self: flex-end;width: 50%;}#sk-container-id-1 div.sk-parallel-item:last-child::after {align-self: flex-start;width: 50%;}#sk-container-id-1 div.sk-parallel-item:only-child::after {width: 0;}#sk-container-id-1 div.sk-dashed-wrapped {border: 1px dashed gray;margin: 0 0.4em 0.5em 0.4em;box-sizing: border-box;padding-bottom: 0.4em;background-color: white;}#sk-container-id-1 div.sk-label label {font-family: monospace;font-weight: bold;display: inline-block;line-height: 1.2em;}#sk-container-id-1 div.sk-label-container {text-align: center;}#sk-container-id-1 div.sk-container {/* jupyter's `normalize.less` sets `[hidden] { display: none; }` but bootstrap.min.css set `[hidden] { display: none !important; }` so we also need the `!important` here to be able to override the default hidden behavior on the sphinx rendered scikit-learn.org. See: https://github.com/scikit-learn/scikit-learn/issues/21755 */display: inline-block !important;position: relative;}#sk-container-id-1 div.sk-text-repr-fallback {display: none;}</style><div id=\"sk-container-id-1\" class=\"sk-top-container\"><div class=\"sk-text-repr-fallback\"><pre>LogisticRegression(max_iter=1000, random_state=42, solver=&#x27;newton-cg&#x27;)</pre><b>In a Jupyter environment, please rerun this cell to show the HTML representation or trust the notebook. <br />On GitHub, the HTML representation is unable to render, please try loading this page with nbviewer.org.</b></div><div class=\"sk-container\" hidden><div class=\"sk-item\"><div class=\"sk-estimator sk-toggleable\"><input class=\"sk-toggleable__control sk-hidden--visually\" id=\"sk-estimator-id-1\" type=\"checkbox\" checked><label for=\"sk-estimator-id-1\" class=\"sk-toggleable__label sk-toggleable__label-arrow\">LogisticRegression</label><div class=\"sk-toggleable__content\"><pre>LogisticRegression(max_iter=1000, random_state=42, solver=&#x27;newton-cg&#x27;)</pre></div></div></div></div></div>"
      ],
      "text/plain": [
       "LogisticRegression(max_iter=1000, random_state=42, solver='newton-cg')"
      ]
     },
     "execution_count": 76,
     "metadata": {},
     "output_type": "execute_result"
    }
   ],
   "source": [
    "# Logisitc Regression \n",
    "LR_M = LogisticRegression(\n",
    "    solver='newton-cg',\n",
    "    max_iter=1000,\n",
    "    random_state=42\n",
    ")\n",
    "LR_M.fit(X_train,y_train)"
   ]
  },
  {
   "cell_type": "code",
   "execution_count": 77,
   "id": "2994213b",
   "metadata": {
    "execution": {
     "iopub.execute_input": "2023-10-09T21:43:02.773664Z",
     "iopub.status.busy": "2023-10-09T21:43:02.773019Z",
     "iopub.status.idle": "2023-10-09T21:43:02.778809Z",
     "shell.execute_reply": "2023-10-09T21:43:02.777569Z"
    },
    "papermill": {
     "duration": 0.042963,
     "end_time": "2023-10-09T21:43:02.780758",
     "exception": false,
     "start_time": "2023-10-09T21:43:02.737795",
     "status": "completed"
    },
    "tags": []
   },
   "outputs": [
    {
     "name": "stdout",
     "output_type": "stream",
     "text": [
      "Weights to each featury: [[-7.66382276e-01 -4.52429969e-02  2.50242853e+00 -3.60687560e-02\n",
      "  -6.64001827e-02  1.34326381e-03  4.70249779e+00  1.73694258e-01\n",
      "  -3.79120514e-01]]\n"
     ]
    }
   ],
   "source": [
    "#coefficients (weights) assigned to each feature by the trained logistic regression model.\n",
    "print(\"Weights to each featury:\",LR_M.coef_)\n"
   ]
  },
  {
   "cell_type": "code",
   "execution_count": 78,
   "id": "d932b8c4",
   "metadata": {
    "execution": {
     "iopub.execute_input": "2023-10-09T21:43:02.848210Z",
     "iopub.status.busy": "2023-10-09T21:43:02.847239Z",
     "iopub.status.idle": "2023-10-09T21:43:02.857112Z",
     "shell.execute_reply": "2023-10-09T21:43:02.856119Z"
    },
    "papermill": {
     "duration": 0.047116,
     "end_time": "2023-10-09T21:43:02.859291",
     "exception": false,
     "start_time": "2023-10-09T21:43:02.812175",
     "status": "completed"
    },
    "tags": []
   },
   "outputs": [
    {
     "name": "stdout",
     "output_type": "stream",
     "text": [
      "Accuracy of the model on the training data(LR): 0.8492688413948256\n"
     ]
    }
   ],
   "source": [
    "#.the accuracy of the model on the training data.\n",
    "print(\"Accuracy of the model on the training data(LR): {0}\".format(LR_M.score(X_train,y_train)))"
   ]
  },
  {
   "cell_type": "code",
   "execution_count": 79,
   "id": "dc925641",
   "metadata": {
    "execution": {
     "iopub.execute_input": "2023-10-09T21:43:02.926663Z",
     "iopub.status.busy": "2023-10-09T21:43:02.926304Z",
     "iopub.status.idle": "2023-10-09T21:43:02.934025Z",
     "shell.execute_reply": "2023-10-09T21:43:02.932812Z"
    },
    "papermill": {
     "duration": 0.044444,
     "end_time": "2023-10-09T21:43:02.936593",
     "exception": false,
     "start_time": "2023-10-09T21:43:02.892149",
     "status": "completed"
    },
    "tags": []
   },
   "outputs": [],
   "source": [
    "# predict Y\n",
    "y_perd_LR = LR_M.predict(X_test)"
   ]
  },
  {
   "cell_type": "code",
   "execution_count": 80,
   "id": "bce9c804",
   "metadata": {
    "execution": {
     "iopub.execute_input": "2023-10-09T21:43:03.004554Z",
     "iopub.status.busy": "2023-10-09T21:43:03.004161Z",
     "iopub.status.idle": "2023-10-09T21:43:05.460999Z",
     "shell.execute_reply": "2023-10-09T21:43:05.459805Z"
    },
    "papermill": {
     "duration": 2.493973,
     "end_time": "2023-10-09T21:43:05.463295",
     "exception": false,
     "start_time": "2023-10-09T21:43:02.969322",
     "status": "completed"
    },
    "tags": []
   },
   "outputs": [
    {
     "data": {
      "text/html": [
       "<style>#sk-container-id-2 {color: black;background-color: white;}#sk-container-id-2 pre{padding: 0;}#sk-container-id-2 div.sk-toggleable {background-color: white;}#sk-container-id-2 label.sk-toggleable__label {cursor: pointer;display: block;width: 100%;margin-bottom: 0;padding: 0.3em;box-sizing: border-box;text-align: center;}#sk-container-id-2 label.sk-toggleable__label-arrow:before {content: \"▸\";float: left;margin-right: 0.25em;color: #696969;}#sk-container-id-2 label.sk-toggleable__label-arrow:hover:before {color: black;}#sk-container-id-2 div.sk-estimator:hover label.sk-toggleable__label-arrow:before {color: black;}#sk-container-id-2 div.sk-toggleable__content {max-height: 0;max-width: 0;overflow: hidden;text-align: left;background-color: #f0f8ff;}#sk-container-id-2 div.sk-toggleable__content pre {margin: 0.2em;color: black;border-radius: 0.25em;background-color: #f0f8ff;}#sk-container-id-2 input.sk-toggleable__control:checked~div.sk-toggleable__content {max-height: 200px;max-width: 100%;overflow: auto;}#sk-container-id-2 input.sk-toggleable__control:checked~label.sk-toggleable__label-arrow:before {content: \"▾\";}#sk-container-id-2 div.sk-estimator input.sk-toggleable__control:checked~label.sk-toggleable__label {background-color: #d4ebff;}#sk-container-id-2 div.sk-label input.sk-toggleable__control:checked~label.sk-toggleable__label {background-color: #d4ebff;}#sk-container-id-2 input.sk-hidden--visually {border: 0;clip: rect(1px 1px 1px 1px);clip: rect(1px, 1px, 1px, 1px);height: 1px;margin: -1px;overflow: hidden;padding: 0;position: absolute;width: 1px;}#sk-container-id-2 div.sk-estimator {font-family: monospace;background-color: #f0f8ff;border: 1px dotted black;border-radius: 0.25em;box-sizing: border-box;margin-bottom: 0.5em;}#sk-container-id-2 div.sk-estimator:hover {background-color: #d4ebff;}#sk-container-id-2 div.sk-parallel-item::after {content: \"\";width: 100%;border-bottom: 1px solid gray;flex-grow: 1;}#sk-container-id-2 div.sk-label:hover label.sk-toggleable__label {background-color: #d4ebff;}#sk-container-id-2 div.sk-serial::before {content: \"\";position: absolute;border-left: 1px solid gray;box-sizing: border-box;top: 0;bottom: 0;left: 50%;z-index: 0;}#sk-container-id-2 div.sk-serial {display: flex;flex-direction: column;align-items: center;background-color: white;padding-right: 0.2em;padding-left: 0.2em;position: relative;}#sk-container-id-2 div.sk-item {position: relative;z-index: 1;}#sk-container-id-2 div.sk-parallel {display: flex;align-items: stretch;justify-content: center;background-color: white;position: relative;}#sk-container-id-2 div.sk-item::before, #sk-container-id-2 div.sk-parallel-item::before {content: \"\";position: absolute;border-left: 1px solid gray;box-sizing: border-box;top: 0;bottom: 0;left: 50%;z-index: -1;}#sk-container-id-2 div.sk-parallel-item {display: flex;flex-direction: column;z-index: 1;position: relative;background-color: white;}#sk-container-id-2 div.sk-parallel-item:first-child::after {align-self: flex-end;width: 50%;}#sk-container-id-2 div.sk-parallel-item:last-child::after {align-self: flex-start;width: 50%;}#sk-container-id-2 div.sk-parallel-item:only-child::after {width: 0;}#sk-container-id-2 div.sk-dashed-wrapped {border: 1px dashed gray;margin: 0 0.4em 0.5em 0.4em;box-sizing: border-box;padding-bottom: 0.4em;background-color: white;}#sk-container-id-2 div.sk-label label {font-family: monospace;font-weight: bold;display: inline-block;line-height: 1.2em;}#sk-container-id-2 div.sk-label-container {text-align: center;}#sk-container-id-2 div.sk-container {/* jupyter's `normalize.less` sets `[hidden] { display: none; }` but bootstrap.min.css set `[hidden] { display: none !important; }` so we also need the `!important` here to be able to override the default hidden behavior on the sphinx rendered scikit-learn.org. See: https://github.com/scikit-learn/scikit-learn/issues/21755 */display: inline-block !important;position: relative;}#sk-container-id-2 div.sk-text-repr-fallback {display: none;}</style><div id=\"sk-container-id-2\" class=\"sk-top-container\"><div class=\"sk-text-repr-fallback\"><pre>SVC(C=0.6, kernel=&#x27;linear&#x27;)</pre><b>In a Jupyter environment, please rerun this cell to show the HTML representation or trust the notebook. <br />On GitHub, the HTML representation is unable to render, please try loading this page with nbviewer.org.</b></div><div class=\"sk-container\" hidden><div class=\"sk-item\"><div class=\"sk-estimator sk-toggleable\"><input class=\"sk-toggleable__control sk-hidden--visually\" id=\"sk-estimator-id-2\" type=\"checkbox\" checked><label for=\"sk-estimator-id-2\" class=\"sk-toggleable__label sk-toggleable__label-arrow\">SVC</label><div class=\"sk-toggleable__content\"><pre>SVC(C=0.6, kernel=&#x27;linear&#x27;)</pre></div></div></div></div></div>"
      ],
      "text/plain": [
       "SVC(C=0.6, kernel='linear')"
      ]
     },
     "execution_count": 80,
     "metadata": {},
     "output_type": "execute_result"
    }
   ],
   "source": [
    "SVM_M=SVC(C=0.6,kernel='linear')\n",
    "SVM_M.fit(X_train,y_train)"
   ]
  },
  {
   "cell_type": "code",
   "execution_count": 81,
   "id": "be30e759",
   "metadata": {
    "execution": {
     "iopub.execute_input": "2023-10-09T21:43:05.529295Z",
     "iopub.status.busy": "2023-10-09T21:43:05.528553Z",
     "iopub.status.idle": "2023-10-09T21:43:05.534611Z",
     "shell.execute_reply": "2023-10-09T21:43:05.533272Z"
    },
    "papermill": {
     "duration": 0.041035,
     "end_time": "2023-10-09T21:43:05.536570",
     "exception": false,
     "start_time": "2023-10-09T21:43:05.495535",
     "status": "completed"
    },
    "tags": []
   },
   "outputs": [
    {
     "name": "stdout",
     "output_type": "stream",
     "text": [
      "Weights to each featury:\n",
      " [[-4.53026771e-02  7.72586977e-03  2.04554898e+00 -3.72266588e-03\n",
      "  -5.20524841e-02  1.10322924e-03  3.43910665e+00  2.37233048e-02\n",
      "  -2.21711590e-01]]\n"
     ]
    }
   ],
   "source": [
    "#coefficients (weights) assigned to each feature by the trained Support Vector Classification model.\n",
    "print(\"Weights to each featury:\\n\",SVM_M.coef_)"
   ]
  },
  {
   "cell_type": "code",
   "execution_count": 82,
   "id": "bcba882c",
   "metadata": {
    "execution": {
     "iopub.execute_input": "2023-10-09T21:43:05.602014Z",
     "iopub.status.busy": "2023-10-09T21:43:05.601040Z",
     "iopub.status.idle": "2023-10-09T21:43:05.618096Z",
     "shell.execute_reply": "2023-10-09T21:43:05.616781Z"
    },
    "papermill": {
     "duration": 0.051721,
     "end_time": "2023-10-09T21:43:05.620376",
     "exception": false,
     "start_time": "2023-10-09T21:43:05.568655",
     "status": "completed"
    },
    "tags": []
   },
   "outputs": [
    {
     "name": "stdout",
     "output_type": "stream",
     "text": [
      "Accuracy of the model on the training data(SVM): 0.8380202474690663\n"
     ]
    }
   ],
   "source": [
    "#.the accuracy of the model on the training data.\n",
    "print(\"Accuracy of the model on the training data(SVM): {0}\".format(SVM_M.score(X_train,y_train)))"
   ]
  },
  {
   "cell_type": "code",
   "execution_count": 83,
   "id": "4ddc0304",
   "metadata": {
    "execution": {
     "iopub.execute_input": "2023-10-09T21:43:05.686215Z",
     "iopub.status.busy": "2023-10-09T21:43:05.685862Z",
     "iopub.status.idle": "2023-10-09T21:43:05.697048Z",
     "shell.execute_reply": "2023-10-09T21:43:05.696053Z"
    },
    "papermill": {
     "duration": 0.047139,
     "end_time": "2023-10-09T21:43:05.699239",
     "exception": false,
     "start_time": "2023-10-09T21:43:05.652100",
     "status": "completed"
    },
    "tags": []
   },
   "outputs": [],
   "source": [
    "# predict Y\n",
    "y_perd_SVM = SVM_M.predict(X_test)"
   ]
  },
  {
   "cell_type": "code",
   "execution_count": 84,
   "id": "dfb2c511",
   "metadata": {
    "execution": {
     "iopub.execute_input": "2023-10-09T21:43:05.764503Z",
     "iopub.status.busy": "2023-10-09T21:43:05.764154Z",
     "iopub.status.idle": "2023-10-09T21:43:05.998133Z",
     "shell.execute_reply": "2023-10-09T21:43:05.996893Z"
    },
    "papermill": {
     "duration": 0.269427,
     "end_time": "2023-10-09T21:43:06.000482",
     "exception": false,
     "start_time": "2023-10-09T21:43:05.731055",
     "status": "completed"
    },
    "tags": []
   },
   "outputs": [
    {
     "data": {
      "text/html": [
       "<style>#sk-container-id-3 {color: black;background-color: white;}#sk-container-id-3 pre{padding: 0;}#sk-container-id-3 div.sk-toggleable {background-color: white;}#sk-container-id-3 label.sk-toggleable__label {cursor: pointer;display: block;width: 100%;margin-bottom: 0;padding: 0.3em;box-sizing: border-box;text-align: center;}#sk-container-id-3 label.sk-toggleable__label-arrow:before {content: \"▸\";float: left;margin-right: 0.25em;color: #696969;}#sk-container-id-3 label.sk-toggleable__label-arrow:hover:before {color: black;}#sk-container-id-3 div.sk-estimator:hover label.sk-toggleable__label-arrow:before {color: black;}#sk-container-id-3 div.sk-toggleable__content {max-height: 0;max-width: 0;overflow: hidden;text-align: left;background-color: #f0f8ff;}#sk-container-id-3 div.sk-toggleable__content pre {margin: 0.2em;color: black;border-radius: 0.25em;background-color: #f0f8ff;}#sk-container-id-3 input.sk-toggleable__control:checked~div.sk-toggleable__content {max-height: 200px;max-width: 100%;overflow: auto;}#sk-container-id-3 input.sk-toggleable__control:checked~label.sk-toggleable__label-arrow:before {content: \"▾\";}#sk-container-id-3 div.sk-estimator input.sk-toggleable__control:checked~label.sk-toggleable__label {background-color: #d4ebff;}#sk-container-id-3 div.sk-label input.sk-toggleable__control:checked~label.sk-toggleable__label {background-color: #d4ebff;}#sk-container-id-3 input.sk-hidden--visually {border: 0;clip: rect(1px 1px 1px 1px);clip: rect(1px, 1px, 1px, 1px);height: 1px;margin: -1px;overflow: hidden;padding: 0;position: absolute;width: 1px;}#sk-container-id-3 div.sk-estimator {font-family: monospace;background-color: #f0f8ff;border: 1px dotted black;border-radius: 0.25em;box-sizing: border-box;margin-bottom: 0.5em;}#sk-container-id-3 div.sk-estimator:hover {background-color: #d4ebff;}#sk-container-id-3 div.sk-parallel-item::after {content: \"\";width: 100%;border-bottom: 1px solid gray;flex-grow: 1;}#sk-container-id-3 div.sk-label:hover label.sk-toggleable__label {background-color: #d4ebff;}#sk-container-id-3 div.sk-serial::before {content: \"\";position: absolute;border-left: 1px solid gray;box-sizing: border-box;top: 0;bottom: 0;left: 50%;z-index: 0;}#sk-container-id-3 div.sk-serial {display: flex;flex-direction: column;align-items: center;background-color: white;padding-right: 0.2em;padding-left: 0.2em;position: relative;}#sk-container-id-3 div.sk-item {position: relative;z-index: 1;}#sk-container-id-3 div.sk-parallel {display: flex;align-items: stretch;justify-content: center;background-color: white;position: relative;}#sk-container-id-3 div.sk-item::before, #sk-container-id-3 div.sk-parallel-item::before {content: \"\";position: absolute;border-left: 1px solid gray;box-sizing: border-box;top: 0;bottom: 0;left: 50%;z-index: -1;}#sk-container-id-3 div.sk-parallel-item {display: flex;flex-direction: column;z-index: 1;position: relative;background-color: white;}#sk-container-id-3 div.sk-parallel-item:first-child::after {align-self: flex-end;width: 50%;}#sk-container-id-3 div.sk-parallel-item:last-child::after {align-self: flex-start;width: 50%;}#sk-container-id-3 div.sk-parallel-item:only-child::after {width: 0;}#sk-container-id-3 div.sk-dashed-wrapped {border: 1px dashed gray;margin: 0 0.4em 0.5em 0.4em;box-sizing: border-box;padding-bottom: 0.4em;background-color: white;}#sk-container-id-3 div.sk-label label {font-family: monospace;font-weight: bold;display: inline-block;line-height: 1.2em;}#sk-container-id-3 div.sk-label-container {text-align: center;}#sk-container-id-3 div.sk-container {/* jupyter's `normalize.less` sets `[hidden] { display: none; }` but bootstrap.min.css set `[hidden] { display: none !important; }` so we also need the `!important` here to be able to override the default hidden behavior on the sphinx rendered scikit-learn.org. See: https://github.com/scikit-learn/scikit-learn/issues/21755 */display: inline-block !important;position: relative;}#sk-container-id-3 div.sk-text-repr-fallback {display: none;}</style><div id=\"sk-container-id-3\" class=\"sk-top-container\"><div class=\"sk-text-repr-fallback\"><pre>RandomForestClassifier()</pre><b>In a Jupyter environment, please rerun this cell to show the HTML representation or trust the notebook. <br />On GitHub, the HTML representation is unable to render, please try loading this page with nbviewer.org.</b></div><div class=\"sk-container\" hidden><div class=\"sk-item\"><div class=\"sk-estimator sk-toggleable\"><input class=\"sk-toggleable__control sk-hidden--visually\" id=\"sk-estimator-id-3\" type=\"checkbox\" checked><label for=\"sk-estimator-id-3\" class=\"sk-toggleable__label sk-toggleable__label-arrow\">RandomForestClassifier</label><div class=\"sk-toggleable__content\"><pre>RandomForestClassifier()</pre></div></div></div></div></div>"
      ],
      "text/plain": [
       "RandomForestClassifier()"
      ]
     },
     "execution_count": 84,
     "metadata": {},
     "output_type": "execute_result"
    }
   ],
   "source": [
    "RF_M = RandomForestClassifier()\n",
    "RF_M.fit(X_train,y_train)"
   ]
  },
  {
   "cell_type": "code",
   "execution_count": 85,
   "id": "032b4138",
   "metadata": {
    "execution": {
     "iopub.execute_input": "2023-10-09T21:43:06.068688Z",
     "iopub.status.busy": "2023-10-09T21:43:06.067645Z",
     "iopub.status.idle": "2023-10-09T21:43:06.095590Z",
     "shell.execute_reply": "2023-10-09T21:43:06.094405Z"
    },
    "papermill": {
     "duration": 0.064876,
     "end_time": "2023-10-09T21:43:06.098017",
     "exception": false,
     "start_time": "2023-10-09T21:43:06.033141",
     "status": "completed"
    },
    "tags": []
   },
   "outputs": [
    {
     "name": "stdout",
     "output_type": "stream",
     "text": [
      "Accuracy of the model on the training data(RF): 0.9876265466816648\n"
     ]
    }
   ],
   "source": [
    "#.the accuracy of the model on the training data.\n",
    "print(\"Accuracy of the model on the training data(RF): {0}\".format(RF_M.score(X_train,y_train)))"
   ]
  },
  {
   "cell_type": "code",
   "execution_count": 86,
   "id": "75599bda",
   "metadata": {
    "execution": {
     "iopub.execute_input": "2023-10-09T21:43:06.163484Z",
     "iopub.status.busy": "2023-10-09T21:43:06.163053Z",
     "iopub.status.idle": "2023-10-09T21:43:06.182522Z",
     "shell.execute_reply": "2023-10-09T21:43:06.181114Z"
    },
    "papermill": {
     "duration": 0.054643,
     "end_time": "2023-10-09T21:43:06.185040",
     "exception": false,
     "start_time": "2023-10-09T21:43:06.130397",
     "status": "completed"
    },
    "tags": []
   },
   "outputs": [],
   "source": [
    "# predict Y\n",
    "y_perd_RF = RF_M.predict(X_test)"
   ]
  },
  {
   "cell_type": "code",
   "execution_count": 87,
   "id": "17d63309",
   "metadata": {
    "execution": {
     "iopub.execute_input": "2023-10-09T21:43:06.256949Z",
     "iopub.status.busy": "2023-10-09T21:43:06.256289Z",
     "iopub.status.idle": "2023-10-09T21:43:06.260492Z",
     "shell.execute_reply": "2023-10-09T21:43:06.259692Z"
    },
    "papermill": {
     "duration": 0.040602,
     "end_time": "2023-10-09T21:43:06.262690",
     "exception": false,
     "start_time": "2023-10-09T21:43:06.222088",
     "status": "completed"
    },
    "tags": []
   },
   "outputs": [],
   "source": [
    "# use Bagging Classifier \n",
    "# Create BaggingClassifier with three base classifiers\n",
    "bagging_classifier = BaggingClassifier(base_estimator=RF_M, n_estimators=3, random_state=42)\n",
    "\n"
   ]
  },
  {
   "cell_type": "code",
   "execution_count": 88,
   "id": "4c6a7599",
   "metadata": {
    "execution": {
     "iopub.execute_input": "2023-10-09T21:43:06.329901Z",
     "iopub.status.busy": "2023-10-09T21:43:06.329273Z",
     "iopub.status.idle": "2023-10-09T21:43:06.923381Z",
     "shell.execute_reply": "2023-10-09T21:43:06.922203Z"
    },
    "papermill": {
     "duration": 0.630348,
     "end_time": "2023-10-09T21:43:06.925696",
     "exception": false,
     "start_time": "2023-10-09T21:43:06.295348",
     "status": "completed"
    },
    "tags": []
   },
   "outputs": [
    {
     "data": {
      "text/html": [
       "<style>#sk-container-id-4 {color: black;background-color: white;}#sk-container-id-4 pre{padding: 0;}#sk-container-id-4 div.sk-toggleable {background-color: white;}#sk-container-id-4 label.sk-toggleable__label {cursor: pointer;display: block;width: 100%;margin-bottom: 0;padding: 0.3em;box-sizing: border-box;text-align: center;}#sk-container-id-4 label.sk-toggleable__label-arrow:before {content: \"▸\";float: left;margin-right: 0.25em;color: #696969;}#sk-container-id-4 label.sk-toggleable__label-arrow:hover:before {color: black;}#sk-container-id-4 div.sk-estimator:hover label.sk-toggleable__label-arrow:before {color: black;}#sk-container-id-4 div.sk-toggleable__content {max-height: 0;max-width: 0;overflow: hidden;text-align: left;background-color: #f0f8ff;}#sk-container-id-4 div.sk-toggleable__content pre {margin: 0.2em;color: black;border-radius: 0.25em;background-color: #f0f8ff;}#sk-container-id-4 input.sk-toggleable__control:checked~div.sk-toggleable__content {max-height: 200px;max-width: 100%;overflow: auto;}#sk-container-id-4 input.sk-toggleable__control:checked~label.sk-toggleable__label-arrow:before {content: \"▾\";}#sk-container-id-4 div.sk-estimator input.sk-toggleable__control:checked~label.sk-toggleable__label {background-color: #d4ebff;}#sk-container-id-4 div.sk-label input.sk-toggleable__control:checked~label.sk-toggleable__label {background-color: #d4ebff;}#sk-container-id-4 input.sk-hidden--visually {border: 0;clip: rect(1px 1px 1px 1px);clip: rect(1px, 1px, 1px, 1px);height: 1px;margin: -1px;overflow: hidden;padding: 0;position: absolute;width: 1px;}#sk-container-id-4 div.sk-estimator {font-family: monospace;background-color: #f0f8ff;border: 1px dotted black;border-radius: 0.25em;box-sizing: border-box;margin-bottom: 0.5em;}#sk-container-id-4 div.sk-estimator:hover {background-color: #d4ebff;}#sk-container-id-4 div.sk-parallel-item::after {content: \"\";width: 100%;border-bottom: 1px solid gray;flex-grow: 1;}#sk-container-id-4 div.sk-label:hover label.sk-toggleable__label {background-color: #d4ebff;}#sk-container-id-4 div.sk-serial::before {content: \"\";position: absolute;border-left: 1px solid gray;box-sizing: border-box;top: 0;bottom: 0;left: 50%;z-index: 0;}#sk-container-id-4 div.sk-serial {display: flex;flex-direction: column;align-items: center;background-color: white;padding-right: 0.2em;padding-left: 0.2em;position: relative;}#sk-container-id-4 div.sk-item {position: relative;z-index: 1;}#sk-container-id-4 div.sk-parallel {display: flex;align-items: stretch;justify-content: center;background-color: white;position: relative;}#sk-container-id-4 div.sk-item::before, #sk-container-id-4 div.sk-parallel-item::before {content: \"\";position: absolute;border-left: 1px solid gray;box-sizing: border-box;top: 0;bottom: 0;left: 50%;z-index: -1;}#sk-container-id-4 div.sk-parallel-item {display: flex;flex-direction: column;z-index: 1;position: relative;background-color: white;}#sk-container-id-4 div.sk-parallel-item:first-child::after {align-self: flex-end;width: 50%;}#sk-container-id-4 div.sk-parallel-item:last-child::after {align-self: flex-start;width: 50%;}#sk-container-id-4 div.sk-parallel-item:only-child::after {width: 0;}#sk-container-id-4 div.sk-dashed-wrapped {border: 1px dashed gray;margin: 0 0.4em 0.5em 0.4em;box-sizing: border-box;padding-bottom: 0.4em;background-color: white;}#sk-container-id-4 div.sk-label label {font-family: monospace;font-weight: bold;display: inline-block;line-height: 1.2em;}#sk-container-id-4 div.sk-label-container {text-align: center;}#sk-container-id-4 div.sk-container {/* jupyter's `normalize.less` sets `[hidden] { display: none; }` but bootstrap.min.css set `[hidden] { display: none !important; }` so we also need the `!important` here to be able to override the default hidden behavior on the sphinx rendered scikit-learn.org. See: https://github.com/scikit-learn/scikit-learn/issues/21755 */display: inline-block !important;position: relative;}#sk-container-id-4 div.sk-text-repr-fallback {display: none;}</style><div id=\"sk-container-id-4\" class=\"sk-top-container\"><div class=\"sk-text-repr-fallback\"><pre>BaggingClassifier(base_estimator=RandomForestClassifier(), n_estimators=3,\n",
       "                  random_state=42)</pre><b>In a Jupyter environment, please rerun this cell to show the HTML representation or trust the notebook. <br />On GitHub, the HTML representation is unable to render, please try loading this page with nbviewer.org.</b></div><div class=\"sk-container\" hidden><div class=\"sk-item sk-dashed-wrapped\"><div class=\"sk-label-container\"><div class=\"sk-label sk-toggleable\"><input class=\"sk-toggleable__control sk-hidden--visually\" id=\"sk-estimator-id-4\" type=\"checkbox\" ><label for=\"sk-estimator-id-4\" class=\"sk-toggleable__label sk-toggleable__label-arrow\">BaggingClassifier</label><div class=\"sk-toggleable__content\"><pre>BaggingClassifier(base_estimator=RandomForestClassifier(), n_estimators=3,\n",
       "                  random_state=42)</pre></div></div></div><div class=\"sk-parallel\"><div class=\"sk-parallel-item\"><div class=\"sk-item\"><div class=\"sk-label-container\"><div class=\"sk-label sk-toggleable\"><input class=\"sk-toggleable__control sk-hidden--visually\" id=\"sk-estimator-id-5\" type=\"checkbox\" ><label for=\"sk-estimator-id-5\" class=\"sk-toggleable__label sk-toggleable__label-arrow\">base_estimator: RandomForestClassifier</label><div class=\"sk-toggleable__content\"><pre>RandomForestClassifier()</pre></div></div></div><div class=\"sk-serial\"><div class=\"sk-item\"><div class=\"sk-estimator sk-toggleable\"><input class=\"sk-toggleable__control sk-hidden--visually\" id=\"sk-estimator-id-6\" type=\"checkbox\" ><label for=\"sk-estimator-id-6\" class=\"sk-toggleable__label sk-toggleable__label-arrow\">RandomForestClassifier</label><div class=\"sk-toggleable__content\"><pre>RandomForestClassifier()</pre></div></div></div></div></div></div></div></div></div></div>"
      ],
      "text/plain": [
       "BaggingClassifier(base_estimator=RandomForestClassifier(), n_estimators=3,\n",
       "                  random_state=42)"
      ]
     },
     "execution_count": 88,
     "metadata": {},
     "output_type": "execute_result"
    }
   ],
   "source": [
    "# Train the BaggingClassifier\n",
    "bagging_classifier.fit(X_train, y_train)"
   ]
  },
  {
   "cell_type": "code",
   "execution_count": 89,
   "id": "06afc10a",
   "metadata": {
    "execution": {
     "iopub.execute_input": "2023-10-09T21:43:06.992749Z",
     "iopub.status.busy": "2023-10-09T21:43:06.992368Z",
     "iopub.status.idle": "2023-10-09T21:43:07.053687Z",
     "shell.execute_reply": "2023-10-09T21:43:07.052737Z"
    },
    "papermill": {
     "duration": 0.09779,
     "end_time": "2023-10-09T21:43:07.056056",
     "exception": false,
     "start_time": "2023-10-09T21:43:06.958266",
     "status": "completed"
    },
    "tags": []
   },
   "outputs": [
    {
     "data": {
      "text/plain": [
       "0.9415073115860517"
      ]
     },
     "execution_count": 89,
     "metadata": {},
     "output_type": "execute_result"
    }
   ],
   "source": [
    "bagging_classifier.score(X_train,y_train)"
   ]
  },
  {
   "cell_type": "code",
   "execution_count": 90,
   "id": "646edf5f",
   "metadata": {
    "execution": {
     "iopub.execute_input": "2023-10-09T21:43:07.122836Z",
     "iopub.status.busy": "2023-10-09T21:43:07.122439Z",
     "iopub.status.idle": "2023-10-09T21:43:07.162077Z",
     "shell.execute_reply": "2023-10-09T21:43:07.160906Z"
    },
    "papermill": {
     "duration": 0.07645,
     "end_time": "2023-10-09T21:43:07.164608",
     "exception": false,
     "start_time": "2023-10-09T21:43:07.088158",
     "status": "completed"
    },
    "tags": []
   },
   "outputs": [],
   "source": [
    "y_bagging=bagging_classifier.predict(X_test)"
   ]
  },
  {
   "cell_type": "code",
   "execution_count": 91,
   "id": "90265288",
   "metadata": {
    "execution": {
     "iopub.execute_input": "2023-10-09T21:43:07.234252Z",
     "iopub.status.busy": "2023-10-09T21:43:07.233845Z",
     "iopub.status.idle": "2023-10-09T21:43:07.245476Z",
     "shell.execute_reply": "2023-10-09T21:43:07.244251Z"
    },
    "papermill": {
     "duration": 0.049636,
     "end_time": "2023-10-09T21:43:07.247842",
     "exception": false,
     "start_time": "2023-10-09T21:43:07.198206",
     "status": "completed"
    },
    "tags": []
   },
   "outputs": [],
   "source": [
    "# Output \n",
    "\n",
    "submission = pd.read_csv(\"/kaggle/input/titanic/gender_submission.csv\")"
   ]
  },
  {
   "cell_type": "code",
   "execution_count": 92,
   "id": "246e6e1a",
   "metadata": {
    "execution": {
     "iopub.execute_input": "2023-10-09T21:43:07.318156Z",
     "iopub.status.busy": "2023-10-09T21:43:07.317288Z",
     "iopub.status.idle": "2023-10-09T21:43:07.326057Z",
     "shell.execute_reply": "2023-10-09T21:43:07.325147Z"
    },
    "papermill": {
     "duration": 0.045532,
     "end_time": "2023-10-09T21:43:07.328186",
     "exception": false,
     "start_time": "2023-10-09T21:43:07.282654",
     "status": "completed"
    },
    "tags": []
   },
   "outputs": [
    {
     "data": {
      "text/html": [
       "<div>\n",
       "<style scoped>\n",
       "    .dataframe tbody tr th:only-of-type {\n",
       "        vertical-align: middle;\n",
       "    }\n",
       "\n",
       "    .dataframe tbody tr th {\n",
       "        vertical-align: top;\n",
       "    }\n",
       "\n",
       "    .dataframe thead th {\n",
       "        text-align: right;\n",
       "    }\n",
       "</style>\n",
       "<table border=\"1\" class=\"dataframe\">\n",
       "  <thead>\n",
       "    <tr style=\"text-align: right;\">\n",
       "      <th></th>\n",
       "      <th>PassengerId</th>\n",
       "      <th>Survived</th>\n",
       "    </tr>\n",
       "  </thead>\n",
       "  <tbody>\n",
       "    <tr>\n",
       "      <th>0</th>\n",
       "      <td>892</td>\n",
       "      <td>0</td>\n",
       "    </tr>\n",
       "    <tr>\n",
       "      <th>1</th>\n",
       "      <td>893</td>\n",
       "      <td>1</td>\n",
       "    </tr>\n",
       "    <tr>\n",
       "      <th>2</th>\n",
       "      <td>894</td>\n",
       "      <td>0</td>\n",
       "    </tr>\n",
       "    <tr>\n",
       "      <th>3</th>\n",
       "      <td>895</td>\n",
       "      <td>0</td>\n",
       "    </tr>\n",
       "    <tr>\n",
       "      <th>4</th>\n",
       "      <td>896</td>\n",
       "      <td>1</td>\n",
       "    </tr>\n",
       "  </tbody>\n",
       "</table>\n",
       "</div>"
      ],
      "text/plain": [
       "   PassengerId  Survived\n",
       "0          892         0\n",
       "1          893         1\n",
       "2          894         0\n",
       "3          895         0\n",
       "4          896         1"
      ]
     },
     "execution_count": 92,
     "metadata": {},
     "output_type": "execute_result"
    }
   ],
   "source": [
    "submission.head()"
   ]
  },
  {
   "cell_type": "code",
   "execution_count": 93,
   "id": "1d784974",
   "metadata": {
    "execution": {
     "iopub.execute_input": "2023-10-09T21:43:07.394943Z",
     "iopub.status.busy": "2023-10-09T21:43:07.394246Z",
     "iopub.status.idle": "2023-10-09T21:43:07.399648Z",
     "shell.execute_reply": "2023-10-09T21:43:07.398930Z"
    },
    "papermill": {
     "duration": 0.041258,
     "end_time": "2023-10-09T21:43:07.401599",
     "exception": false,
     "start_time": "2023-10-09T21:43:07.360341",
     "status": "completed"
    },
    "tags": []
   },
   "outputs": [
    {
     "data": {
      "text/plain": [
       "418"
      ]
     },
     "execution_count": 93,
     "metadata": {},
     "output_type": "execute_result"
    }
   ],
   "source": [
    "len(submission[\"Survived\"])"
   ]
  },
  {
   "cell_type": "code",
   "execution_count": 94,
   "id": "273c151e",
   "metadata": {
    "execution": {
     "iopub.execute_input": "2023-10-09T21:43:07.468477Z",
     "iopub.status.busy": "2023-10-09T21:43:07.467792Z",
     "iopub.status.idle": "2023-10-09T21:43:07.476215Z",
     "shell.execute_reply": "2023-10-09T21:43:07.475204Z"
    },
    "papermill": {
     "duration": 0.044393,
     "end_time": "2023-10-09T21:43:07.478481",
     "exception": false,
     "start_time": "2023-10-09T21:43:07.434088",
     "status": "completed"
    },
    "tags": []
   },
   "outputs": [],
   "source": [
    "submission[\"Survived\"] = y_perd_LR\n",
    "submission.to_csv(\"submission_LR.csv\", index=False)\n"
   ]
  },
  {
   "cell_type": "code",
   "execution_count": 95,
   "id": "75b4c5eb",
   "metadata": {
    "execution": {
     "iopub.execute_input": "2023-10-09T21:43:07.551449Z",
     "iopub.status.busy": "2023-10-09T21:43:07.550789Z",
     "iopub.status.idle": "2023-10-09T21:43:07.557043Z",
     "shell.execute_reply": "2023-10-09T21:43:07.556059Z"
    },
    "papermill": {
     "duration": 0.046296,
     "end_time": "2023-10-09T21:43:07.559405",
     "exception": false,
     "start_time": "2023-10-09T21:43:07.513109",
     "status": "completed"
    },
    "tags": []
   },
   "outputs": [],
   "source": [
    "submission[\"Survived\"] = y_perd_SVM\n",
    "submission.to_csv(\"submission_SVM.csv\", index=False)"
   ]
  },
  {
   "cell_type": "code",
   "execution_count": 96,
   "id": "f0f97e13",
   "metadata": {
    "execution": {
     "iopub.execute_input": "2023-10-09T21:43:07.626903Z",
     "iopub.status.busy": "2023-10-09T21:43:07.626216Z",
     "iopub.status.idle": "2023-10-09T21:43:07.632816Z",
     "shell.execute_reply": "2023-10-09T21:43:07.632009Z"
    },
    "papermill": {
     "duration": 0.042398,
     "end_time": "2023-10-09T21:43:07.635036",
     "exception": false,
     "start_time": "2023-10-09T21:43:07.592638",
     "status": "completed"
    },
    "tags": []
   },
   "outputs": [],
   "source": [
    "submission[\"Survived\"] = y_perd_RF\n",
    "submission.to_csv(\"submission_RF.csv\", index=False)"
   ]
  },
  {
   "cell_type": "code",
   "execution_count": 97,
   "id": "5e88fe6e",
   "metadata": {
    "execution": {
     "iopub.execute_input": "2023-10-09T21:43:07.701763Z",
     "iopub.status.busy": "2023-10-09T21:43:07.701332Z",
     "iopub.status.idle": "2023-10-09T21:43:07.708107Z",
     "shell.execute_reply": "2023-10-09T21:43:07.707014Z"
    },
    "papermill": {
     "duration": 0.042521,
     "end_time": "2023-10-09T21:43:07.710270",
     "exception": false,
     "start_time": "2023-10-09T21:43:07.667749",
     "status": "completed"
    },
    "tags": []
   },
   "outputs": [],
   "source": [
    "submission[\"Survived\"] = y_bagging\n",
    "submission.to_csv(\"submission_bagging.csv\", index=False)"
   ]
  },
  {
   "cell_type": "markdown",
   "id": "72006124",
   "metadata": {
    "papermill": {
     "duration": 0.032593,
     "end_time": "2023-10-09T21:43:07.776200",
     "exception": false,
     "start_time": "2023-10-09T21:43:07.743607",
     "status": "completed"
    },
    "tags": []
   },
   "source": [
    "# Conclusion\n",
    "In this project, we successfully built a machine learning model to predict passenger survival on the Titanic. We demonstrated the importance of data preprocessing, feature engineering, and model selection in achieving accurate predictions."
   ]
  },
  {
   "cell_type": "markdown",
   "id": "68e1ecb8",
   "metadata": {
    "papermill": {
     "duration": 0.034943,
     "end_time": "2023-10-09T21:43:07.843398",
     "exception": false,
     "start_time": "2023-10-09T21:43:07.808455",
     "status": "completed"
    },
    "tags": []
   },
   "source": [
    "# Future Work\n",
    "There are several ways to improve this project:\n",
    "\n",
    "* Experiment with more advanced algorithms like Gradient Boosting or Neural Networks.\n",
    "* Incorporate additional features or external data sources for better predictions.\n",
    "* Fine-tune hyperparameters to optimize model performance."
   ]
  },
  {
   "cell_type": "markdown",
   "id": "360725af",
   "metadata": {
    "papermill": {
     "duration": 0.033572,
     "end_time": "2023-10-09T21:43:07.910670",
     "exception": false,
     "start_time": "2023-10-09T21:43:07.877098",
     "status": "completed"
    },
    "tags": []
   },
   "source": [
    "# Acknowledgements\n",
    "We would like to thank Kaggle for providing the Titanic dataset and the machine learning community for valuable insights."
   ]
  },
  {
   "cell_type": "code",
   "execution_count": null,
   "id": "d3e661a7",
   "metadata": {
    "papermill": {
     "duration": 0.032511,
     "end_time": "2023-10-09T21:43:07.975948",
     "exception": false,
     "start_time": "2023-10-09T21:43:07.943437",
     "status": "completed"
    },
    "tags": []
   },
   "outputs": [],
   "source": []
  }
 ],
 "metadata": {
  "kernelspec": {
   "display_name": "Python 3",
   "language": "python",
   "name": "python3"
  },
  "language_info": {
   "codemirror_mode": {
    "name": "ipython",
    "version": 3
   },
   "file_extension": ".py",
   "mimetype": "text/x-python",
   "name": "python",
   "nbconvert_exporter": "python",
   "pygments_lexer": "ipython3",
   "version": "3.10.12"
  },
  "papermill": {
   "default_parameters": {},
   "duration": 24.386894,
   "end_time": "2023-10-09T21:43:08.732290",
   "environment_variables": {},
   "exception": null,
   "input_path": "__notebook__.ipynb",
   "output_path": "__notebook__.ipynb",
   "parameters": {},
   "start_time": "2023-10-09T21:42:44.345396",
   "version": "2.4.0"
  }
 },
 "nbformat": 4,
 "nbformat_minor": 5
}
